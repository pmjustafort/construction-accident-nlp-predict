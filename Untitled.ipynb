{
 "cells": [
  {
   "cell_type": "markdown",
   "metadata": {},
   "source": [
    "# Predicting Construction Accident Severity with Natural Language Processing and Data-Driven Recommendations."
   ]
  },
  {
   "cell_type": "markdown",
   "metadata": {},
   "source": [
    "## Imports"
   ]
  },
  {
   "cell_type": "markdown",
   "metadata": {},
   "source": [
    "In this section, we import the Python libraries and modules required for our project. These libraries provide essential functionality for data manipulation, visualization, and machine learning."
   ]
  },
  {
   "cell_type": "code",
   "execution_count": 81,
   "metadata": {},
   "outputs": [
    {
     "name": "stderr",
     "output_type": "stream",
     "text": [
      "[nltk_data] Downloading package wordnet to\n",
      "[nltk_data]     /Users/pmjustafort/nltk_data...\n",
      "[nltk_data]   Package wordnet is already up-to-date!\n"
     ]
    }
   ],
   "source": [
    "import pandas as pd\n",
    "import numpy as np\n",
    "\n",
    "import matplotlib.pyplot as plt\n",
    "import seaborn as sns\n",
    "\n",
    "import warnings\n",
    "\n",
    "from sklearn.model_selection import train_test_split\n",
    "from sklearn.linear_model import LogisticRegression\n",
    "from sklearn.metrics import accuracy_score, classification_report, confusion_matrix, roc_curve, roc_auc_score\n",
    "from sklearn.preprocessing import StandardScaler\n",
    "from sklearn.feature_extraction.text import TfidfVectorizer\n",
    "from sklearn.metrics import precision_recall_curve, average_precision_score\n",
    "from sklearn.compose import ColumnTransformer\n",
    "from sklearn.preprocessing import OneHotEncoder, OrdinalEncoder\n",
    "from sklearn.model_selection import cross_val_score, GridSearchCV\n",
    "from sklearn.feature_extraction import text\n",
    "from sklearn.ensemble import RandomForestClassifier\n",
    "from sklearn.model_selection import StratifiedKFold\n",
    "from sklearn.ensemble import StackingClassifier\n",
    "\n",
    "from scipy.sparse import hstack\n",
    "import xgboost as xgb\n",
    "\n",
    "import nltk\n",
    "nltk.download('wordnet')\n",
    "from nltk.corpus import stopwords\n",
    "from nltk.stem import WordNetLemmatizer"
   ]
  },
  {
   "cell_type": "markdown",
   "metadata": {},
   "source": [
    "## Dataset Overview"
   ]
  },
  {
   "cell_type": "markdown",
   "metadata": {},
   "source": [
    "Before diving into the analysis, it's essential to get an overview of the dataset. In this section, we will explore the dataset's structure, the types of features it contains, and basic statistics to gain a better understanding of the data."
   ]
  },
  {
   "cell_type": "markdown",
   "metadata": {},
   "source": [
    "#### Loading The Data."
   ]
  },
  {
   "cell_type": "code",
   "execution_count": 2,
   "metadata": {
    "scrolled": true
   },
   "outputs": [],
   "source": [
    "# Loading the CSV file into a DataFrame \n",
    "df = pd.read_csv('Data/OSHA HSE DATA_ALL ABSTRACTS 15-17_FINAL.csv')"
   ]
  },
  {
   "cell_type": "code",
   "execution_count": 3,
   "metadata": {},
   "outputs": [
    {
     "data": {
      "text/html": [
       "<div>\n",
       "<style scoped>\n",
       "    .dataframe tbody tr th:only-of-type {\n",
       "        vertical-align: middle;\n",
       "    }\n",
       "\n",
       "    .dataframe tbody tr th {\n",
       "        vertical-align: top;\n",
       "    }\n",
       "\n",
       "    .dataframe thead th {\n",
       "        text-align: right;\n",
       "    }\n",
       "</style>\n",
       "<table border=\"1\" class=\"dataframe\">\n",
       "  <thead>\n",
       "    <tr style=\"text-align: right;\">\n",
       "      <th></th>\n",
       "      <th>summary_nr</th>\n",
       "      <th>Event Date</th>\n",
       "      <th>Abstract Text</th>\n",
       "      <th>Event Description</th>\n",
       "      <th>Event Keywords</th>\n",
       "      <th>con_end</th>\n",
       "      <th>Construction End Use</th>\n",
       "      <th>build_stor</th>\n",
       "      <th>Building Stories</th>\n",
       "      <th>proj_cost</th>\n",
       "      <th>...</th>\n",
       "      <th>Event type</th>\n",
       "      <th>evn_factor</th>\n",
       "      <th>Environmental Factor</th>\n",
       "      <th>hum_factor</th>\n",
       "      <th>Human Factor</th>\n",
       "      <th>task_assigned</th>\n",
       "      <th>Task Assigned</th>\n",
       "      <th>hazsub</th>\n",
       "      <th>fat_cause</th>\n",
       "      <th>fall_ht</th>\n",
       "    </tr>\n",
       "  </thead>\n",
       "  <tbody>\n",
       "    <tr>\n",
       "      <th>0</th>\n",
       "      <td>220982664</td>\n",
       "      <td>8/10/2017</td>\n",
       "      <td>At 9:00 a.m. on August 10, 2017, an employee w...</td>\n",
       "      <td>EMPLOYEE'S FINGERS AMPUTATED WHILE OPERATING A...</td>\n",
       "      <td>FINGER,MECHANICAL POWER PRESS,AMPUTATION,GUARD</td>\n",
       "      <td>0</td>\n",
       "      <td></td>\n",
       "      <td>0</td>\n",
       "      <td></td>\n",
       "      <td>0</td>\n",
       "      <td>...</td>\n",
       "      <td>Caught in or between</td>\n",
       "      <td>2</td>\n",
       "      <td>Catch Point/Puncture Action</td>\n",
       "      <td>14</td>\n",
       "      <td>Other</td>\n",
       "      <td>1</td>\n",
       "      <td>Regularly Assigned</td>\n",
       "      <td>0</td>\n",
       "      <td>0</td>\n",
       "      <td>0</td>\n",
       "    </tr>\n",
       "    <tr>\n",
       "      <th>1</th>\n",
       "      <td>220973937</td>\n",
       "      <td>7/17/2017</td>\n",
       "      <td>At 9:45 a.m. on July 17, 2017, an employee was...</td>\n",
       "      <td>EMPLOYEE'S FINGER IS CAUGHT IN DRILL AND IS AM...</td>\n",
       "      <td>CAUGHT IN,DRIVE SHAFT,RESIDENTIAL CONSTRUCTION...</td>\n",
       "      <td>H</td>\n",
       "      <td>Other building</td>\n",
       "      <td>1</td>\n",
       "      <td>1</td>\n",
       "      <td>0</td>\n",
       "      <td>...</td>\n",
       "      <td>Caught in or between</td>\n",
       "      <td>18</td>\n",
       "      <td>Other</td>\n",
       "      <td>10</td>\n",
       "      <td>Position Inappropriate For Task</td>\n",
       "      <td>1</td>\n",
       "      <td>Regularly Assigned</td>\n",
       "      <td>0</td>\n",
       "      <td>0</td>\n",
       "      <td>0</td>\n",
       "    </tr>\n",
       "    <tr>\n",
       "      <th>2</th>\n",
       "      <td>220967632</td>\n",
       "      <td>6/30/2017</td>\n",
       "      <td>At 7:30 a.m. on June 30, 2017, an employee was...</td>\n",
       "      <td>EMPLOYEE IS HOSPITALIZED AFTER BEING INJURED I...</td>\n",
       "      <td>AMPUTATED,EXPLOSION,FIREWORKS</td>\n",
       "      <td>0</td>\n",
       "      <td></td>\n",
       "      <td>0</td>\n",
       "      <td></td>\n",
       "      <td>0</td>\n",
       "      <td>...</td>\n",
       "      <td>Other</td>\n",
       "      <td>18</td>\n",
       "      <td>Other</td>\n",
       "      <td>4</td>\n",
       "      <td>Malfunction In Securing/Warning Op</td>\n",
       "      <td>2</td>\n",
       "      <td>Not Regularly Assigned</td>\n",
       "      <td>0</td>\n",
       "      <td>0</td>\n",
       "      <td>0</td>\n",
       "    </tr>\n",
       "    <tr>\n",
       "      <th>3</th>\n",
       "      <td>220969901</td>\n",
       "      <td>6/30/2017</td>\n",
       "      <td>At 2:00 p.m. on June 30, 2017, an employee was...</td>\n",
       "      <td>EMPLOYEE FALLS FROM ROOF AND IS INJURED</td>\n",
       "      <td>RIB,ROOF,HEAD,FALL PROTECTION,FALL,COLLARBONE,...</td>\n",
       "      <td>C</td>\n",
       "      <td>Commercial building</td>\n",
       "      <td>1</td>\n",
       "      <td>1</td>\n",
       "      <td>D</td>\n",
       "      <td>...</td>\n",
       "      <td>Fall (from elevation)</td>\n",
       "      <td>13</td>\n",
       "      <td>Work-Surface/Facility-Layout Condition</td>\n",
       "      <td>14</td>\n",
       "      <td>Other</td>\n",
       "      <td>1</td>\n",
       "      <td>Regularly Assigned</td>\n",
       "      <td>0</td>\n",
       "      <td>15</td>\n",
       "      <td>0</td>\n",
       "    </tr>\n",
       "    <tr>\n",
       "      <th>4</th>\n",
       "      <td>220977748</td>\n",
       "      <td>6/23/2017</td>\n",
       "      <td>At 12:20 p.m. on June 23, 2017, an employee wa...</td>\n",
       "      <td>EMPLOYEE IS STRUCK BY PLYWOOD WHILE UNLOADING ...</td>\n",
       "      <td>STRUCK BY,TRUCK,BRAIN,NECK,FRACTURE,UNSTABLE LOAD</td>\n",
       "      <td>0</td>\n",
       "      <td></td>\n",
       "      <td>0</td>\n",
       "      <td></td>\n",
       "      <td>0</td>\n",
       "      <td>...</td>\n",
       "      <td>Struck-by</td>\n",
       "      <td>6</td>\n",
       "      <td>Overhead Moving/Falling Object Action</td>\n",
       "      <td>15</td>\n",
       "      <td>Insufficient/Lack/Housekeeping Program</td>\n",
       "      <td>1</td>\n",
       "      <td>Regularly Assigned</td>\n",
       "      <td>0</td>\n",
       "      <td>0</td>\n",
       "      <td>0</td>\n",
       "    </tr>\n",
       "  </tbody>\n",
       "</table>\n",
       "<p>5 rows × 29 columns</p>\n",
       "</div>"
      ],
      "text/plain": [
       "   summary_nr Event Date                                      Abstract Text  \\\n",
       "0   220982664  8/10/2017  At 9:00 a.m. on August 10, 2017, an employee w...   \n",
       "1   220973937  7/17/2017  At 9:45 a.m. on July 17, 2017, an employee was...   \n",
       "2   220967632  6/30/2017  At 7:30 a.m. on June 30, 2017, an employee was...   \n",
       "3   220969901  6/30/2017  At 2:00 p.m. on June 30, 2017, an employee was...   \n",
       "4   220977748  6/23/2017  At 12:20 p.m. on June 23, 2017, an employee wa...   \n",
       "\n",
       "                                   Event Description  \\\n",
       "0  EMPLOYEE'S FINGERS AMPUTATED WHILE OPERATING A...   \n",
       "1  EMPLOYEE'S FINGER IS CAUGHT IN DRILL AND IS AM...   \n",
       "2  EMPLOYEE IS HOSPITALIZED AFTER BEING INJURED I...   \n",
       "3            EMPLOYEE FALLS FROM ROOF AND IS INJURED   \n",
       "4  EMPLOYEE IS STRUCK BY PLYWOOD WHILE UNLOADING ...   \n",
       "\n",
       "                                      Event Keywords con_end  \\\n",
       "0     FINGER,MECHANICAL POWER PRESS,AMPUTATION,GUARD       0   \n",
       "1  CAUGHT IN,DRIVE SHAFT,RESIDENTIAL CONSTRUCTION...       H   \n",
       "2                      AMPUTATED,EXPLOSION,FIREWORKS       0   \n",
       "3  RIB,ROOF,HEAD,FALL PROTECTION,FALL,COLLARBONE,...       C   \n",
       "4  STRUCK BY,TRUCK,BRAIN,NECK,FRACTURE,UNSTABLE LOAD       0   \n",
       "\n",
       "  Construction End Use  build_stor Building Stories proj_cost  ...  \\\n",
       "0                                0                          0  ...   \n",
       "1       Other building           1                1         0  ...   \n",
       "2                                0                          0  ...   \n",
       "3  Commercial building           1                1         D  ...   \n",
       "4                                0                          0  ...   \n",
       "\n",
       "              Event type evn_factor                    Environmental Factor  \\\n",
       "0   Caught in or between          2             Catch Point/Puncture Action   \n",
       "1   Caught in or between         18                                   Other   \n",
       "2                  Other         18                                   Other   \n",
       "3  Fall (from elevation)         13  Work-Surface/Facility-Layout Condition   \n",
       "4              Struck-by          6   Overhead Moving/Falling Object Action   \n",
       "\n",
       "  hum_factor                            Human Factor task_assigned  \\\n",
       "0         14                                   Other             1   \n",
       "1         10         Position Inappropriate For Task             1   \n",
       "2          4      Malfunction In Securing/Warning Op             2   \n",
       "3         14                                   Other             1   \n",
       "4         15  Insufficient/Lack/Housekeeping Program             1   \n",
       "\n",
       "            Task Assigned hazsub  fat_cause fall_ht  \n",
       "0      Regularly Assigned      0          0       0  \n",
       "1      Regularly Assigned      0          0       0  \n",
       "2  Not Regularly Assigned      0          0       0  \n",
       "3      Regularly Assigned      0         15       0  \n",
       "4      Regularly Assigned      0          0       0  \n",
       "\n",
       "[5 rows x 29 columns]"
      ]
     },
     "execution_count": 3,
     "metadata": {},
     "output_type": "execute_result"
    }
   ],
   "source": [
    "# Displaying the first few rows of the DataFrame\n",
    "df.head()"
   ]
  },
  {
   "cell_type": "code",
   "execution_count": 4,
   "metadata": {
    "scrolled": true
   },
   "outputs": [
    {
     "data": {
      "text/plain": [
       "<bound method DataFrame.info of       summary_nr Event Date  \\\n",
       "0      220982664  8/10/2017   \n",
       "1      220973937  7/17/2017   \n",
       "2      220967632  6/30/2017   \n",
       "3      220969901  6/30/2017   \n",
       "4      220977748  6/23/2017   \n",
       "...          ...        ...   \n",
       "4842   220778856   7/1/2015   \n",
       "4843   220778096   7/1/2015   \n",
       "4844   220778112   7/1/2015   \n",
       "4845   220777940   7/1/2015   \n",
       "4846   220778195   7/1/2015   \n",
       "\n",
       "                                          Abstract Text  \\\n",
       "0     At 9:00 a.m. on August 10, 2017, an employee w...   \n",
       "1     At 9:45 a.m. on July 17, 2017, an employee was...   \n",
       "2     At 7:30 a.m. on June 30, 2017, an employee was...   \n",
       "3     At 2:00 p.m. on June 30, 2017, an employee was...   \n",
       "4     At 12:20 p.m. on June 23, 2017, an employee wa...   \n",
       "...                                                 ...   \n",
       "4842  At approximately 9:15 a.m. on July 1, 2015, Em...   \n",
       "4843  At approximately 8:30 a.m. on July 1, 2015, Em...   \n",
       "4844  At 3:00 p.m. on July 1, 2015, an employee was ...   \n",
       "4845  At approximately 2:30 p.m. on July 1, 2015, Em...   \n",
       "4846  At approximately 2:15 p.m. on July 1, 2015, Em...   \n",
       "\n",
       "                                      Event Description  \\\n",
       "0     EMPLOYEE'S FINGERS AMPUTATED WHILE OPERATING A...   \n",
       "1     EMPLOYEE'S FINGER IS CAUGHT IN DRILL AND IS AM...   \n",
       "2     EMPLOYEE IS HOSPITALIZED AFTER BEING INJURED I...   \n",
       "3               EMPLOYEE FALLS FROM ROOF AND IS INJURED   \n",
       "4     EMPLOYEE IS STRUCK BY PLYWOOD WHILE UNLOADING ...   \n",
       "...                                                 ...   \n",
       "4842  EMPLOYEE FALLS FROM BILLBOARD, SUSTAINS TRAUMA...   \n",
       "4843  EMPLOYEE FALLS FROM ELEVATION, SUSTAINS HEAD T...   \n",
       "4844  EMPLOYEE FOUND UNRESPONSIVE BY HOME OWNER DURI...   \n",
       "4845  EMPLOYEE IS STRUCK AND KILLED BY LOGGING TRUCK...   \n",
       "4846  EMPLOYEE IS STRUCK BY OVERTURNED STANDUP FORKL...   \n",
       "\n",
       "                                         Event Keywords con_end  \\\n",
       "0        FINGER,MECHANICAL POWER PRESS,AMPUTATION,GUARD       0   \n",
       "1     CAUGHT IN,DRIVE SHAFT,RESIDENTIAL CONSTRUCTION...       H   \n",
       "2                         AMPUTATED,EXPLOSION,FIREWORKS       0   \n",
       "3     RIB,ROOF,HEAD,FALL PROTECTION,FALL,COLLARBONE,...       C   \n",
       "4     STRUCK BY,TRUCK,BRAIN,NECK,FRACTURE,UNSTABLE LOAD       0   \n",
       "...                                                 ...     ...   \n",
       "4842                           FALL,LOST BALANCE,LADDER       0   \n",
       "4843                             FALL,LOST BALANCE,HEAD       0   \n",
       "4844                                    UNCONSCIOUSNESS       0   \n",
       "4845                            STRUCK BY,MOTOR VEHICLE       0   \n",
       "4846  CRUSHING,STRUCK BY,POWERED INDUSTRIAL VEHICLE,...       0   \n",
       "\n",
       "     Construction End Use  build_stor Building Stories proj_cost  ...  \\\n",
       "0                                   0                          0  ...   \n",
       "1          Other building           1                1         0  ...   \n",
       "2                                   0                          0  ...   \n",
       "3     Commercial building           1                1         D  ...   \n",
       "4                                   0                          0  ...   \n",
       "...                   ...         ...              ...       ...  ...   \n",
       "4842                                0                          0  ...   \n",
       "4843                                0                          0  ...   \n",
       "4844                                0                          0  ...   \n",
       "4845                                0                          0  ...   \n",
       "4846                                0                          0  ...   \n",
       "\n",
       "                 Event type evn_factor  \\\n",
       "0      Caught in or between          2   \n",
       "1      Caught in or between         18   \n",
       "2                     Other         18   \n",
       "3     Fall (from elevation)         13   \n",
       "4                 Struck-by          6   \n",
       "...                     ...        ...   \n",
       "4842  Fall (from elevation)         18   \n",
       "4843  Fall (from elevation)         13   \n",
       "4844                  Other         18   \n",
       "4845              Struck-by         13   \n",
       "4846              Struck-by          8   \n",
       "\n",
       "                        Environmental Factor hum_factor  \\\n",
       "0                Catch Point/Puncture Action         14   \n",
       "1                                      Other         10   \n",
       "2                                      Other          4   \n",
       "3     Work-Surface/Facility-Layout Condition         14   \n",
       "4      Overhead Moving/Falling Object Action         15   \n",
       "...                                      ...        ...   \n",
       "4842                                   Other          8   \n",
       "4843  Work-Surface/Facility-Layout Condition          6   \n",
       "4844                                   Other         14   \n",
       "4845  Work-Surface/Facility-Layout Condition          1   \n",
       "4846        Materials Handling Equip./Method         11   \n",
       "\n",
       "                                 Human Factor task_assigned  \\\n",
       "0                                       Other             1   \n",
       "1             Position Inappropriate For Task             1   \n",
       "2          Malfunction In Securing/Warning Op             2   \n",
       "3                                       Other             1   \n",
       "4      Insufficient/Lack/Housekeeping Program             1   \n",
       "...                                       ...           ...   \n",
       "4842  Perception Malfunction Task-Environment             1   \n",
       "4843    Equipment Inappropriate For Operation             2   \n",
       "4844                                    Other             1   \n",
       "4845         Misjudgment, Hazardous Situation             1   \n",
       "4846   Mater-Handling Procedure Inappropriate             1   \n",
       "\n",
       "               Task Assigned hazsub  fat_cause fall_ht  \n",
       "0         Regularly Assigned      0          0       0  \n",
       "1         Regularly Assigned      0          0       0  \n",
       "2     Not Regularly Assigned      0          0       0  \n",
       "3         Regularly Assigned      0         15       0  \n",
       "4         Regularly Assigned      0          0       0  \n",
       "...                      ...    ...        ...     ...  \n",
       "4842      Regularly Assigned      0          0       0  \n",
       "4843  Not Regularly Assigned      0          0       0  \n",
       "4844      Regularly Assigned      0          0       0  \n",
       "4845      Regularly Assigned      0          0       0  \n",
       "4846      Regularly Assigned      0          0       0  \n",
       "\n",
       "[4847 rows x 29 columns]>"
      ]
     },
     "execution_count": 4,
     "metadata": {},
     "output_type": "execute_result"
    }
   ],
   "source": [
    "df.info"
   ]
  },
  {
   "cell_type": "code",
   "execution_count": 5,
   "metadata": {},
   "outputs": [
    {
     "data": {
      "text/html": [
       "<div>\n",
       "<style scoped>\n",
       "    .dataframe tbody tr th:only-of-type {\n",
       "        vertical-align: middle;\n",
       "    }\n",
       "\n",
       "    .dataframe tbody tr th {\n",
       "        vertical-align: top;\n",
       "    }\n",
       "\n",
       "    .dataframe thead th {\n",
       "        text-align: right;\n",
       "    }\n",
       "</style>\n",
       "<table border=\"1\" class=\"dataframe\">\n",
       "  <thead>\n",
       "    <tr style=\"text-align: right;\">\n",
       "      <th></th>\n",
       "      <th>summary_nr</th>\n",
       "      <th>build_stor</th>\n",
       "      <th>nature_of_inj</th>\n",
       "      <th>part_of_body</th>\n",
       "      <th>event_type</th>\n",
       "      <th>evn_factor</th>\n",
       "      <th>hum_factor</th>\n",
       "      <th>task_assigned</th>\n",
       "      <th>fat_cause</th>\n",
       "      <th>fall_ht</th>\n",
       "    </tr>\n",
       "  </thead>\n",
       "  <tbody>\n",
       "    <tr>\n",
       "      <th>count</th>\n",
       "      <td>4.847000e+03</td>\n",
       "      <td>4847.000000</td>\n",
       "      <td>4847.000000</td>\n",
       "      <td>4847.000000</td>\n",
       "      <td>4847.000000</td>\n",
       "      <td>4847.000000</td>\n",
       "      <td>4847.000000</td>\n",
       "      <td>4847.000000</td>\n",
       "      <td>4847.000000</td>\n",
       "      <td>4847.0</td>\n",
       "    </tr>\n",
       "    <tr>\n",
       "      <th>mean</th>\n",
       "      <td>2.208956e+08</td>\n",
       "      <td>0.447287</td>\n",
       "      <td>11.852486</td>\n",
       "      <td>13.629255</td>\n",
       "      <td>5.193728</td>\n",
       "      <td>11.983701</td>\n",
       "      <td>9.456984</td>\n",
       "      <td>1.371157</td>\n",
       "      <td>3.065608</td>\n",
       "      <td>0.0</td>\n",
       "    </tr>\n",
       "    <tr>\n",
       "      <th>std</th>\n",
       "      <td>5.585438e+04</td>\n",
       "      <td>3.011749</td>\n",
       "      <td>7.634332</td>\n",
       "      <td>7.838927</td>\n",
       "      <td>4.608330</td>\n",
       "      <td>6.198560</td>\n",
       "      <td>6.161380</td>\n",
       "      <td>0.483164</td>\n",
       "      <td>7.247627</td>\n",
       "      <td>0.0</td>\n",
       "    </tr>\n",
       "    <tr>\n",
       "      <th>min</th>\n",
       "      <td>2.207779e+08</td>\n",
       "      <td>0.000000</td>\n",
       "      <td>0.000000</td>\n",
       "      <td>0.000000</td>\n",
       "      <td>0.000000</td>\n",
       "      <td>0.000000</td>\n",
       "      <td>0.000000</td>\n",
       "      <td>1.000000</td>\n",
       "      <td>0.000000</td>\n",
       "      <td>0.0</td>\n",
       "    </tr>\n",
       "    <tr>\n",
       "      <th>25%</th>\n",
       "      <td>2.208494e+08</td>\n",
       "      <td>0.000000</td>\n",
       "      <td>5.000000</td>\n",
       "      <td>10.000000</td>\n",
       "      <td>2.000000</td>\n",
       "      <td>7.000000</td>\n",
       "      <td>1.000000</td>\n",
       "      <td>1.000000</td>\n",
       "      <td>0.000000</td>\n",
       "      <td>0.0</td>\n",
       "    </tr>\n",
       "    <tr>\n",
       "      <th>50%</th>\n",
       "      <td>2.209189e+08</td>\n",
       "      <td>0.000000</td>\n",
       "      <td>12.000000</td>\n",
       "      <td>13.000000</td>\n",
       "      <td>5.000000</td>\n",
       "      <td>13.000000</td>\n",
       "      <td>13.000000</td>\n",
       "      <td>1.000000</td>\n",
       "      <td>0.000000</td>\n",
       "      <td>0.0</td>\n",
       "    </tr>\n",
       "    <tr>\n",
       "      <th>75%</th>\n",
       "      <td>2.209406e+08</td>\n",
       "      <td>0.000000</td>\n",
       "      <td>21.000000</td>\n",
       "      <td>19.000000</td>\n",
       "      <td>6.000000</td>\n",
       "      <td>18.000000</td>\n",
       "      <td>14.000000</td>\n",
       "      <td>2.000000</td>\n",
       "      <td>0.000000</td>\n",
       "      <td>0.0</td>\n",
       "    </tr>\n",
       "    <tr>\n",
       "      <th>max</th>\n",
       "      <td>2.209923e+08</td>\n",
       "      <td>139.000000</td>\n",
       "      <td>22.000000</td>\n",
       "      <td>31.000000</td>\n",
       "      <td>14.000000</td>\n",
       "      <td>18.000000</td>\n",
       "      <td>20.000000</td>\n",
       "      <td>2.000000</td>\n",
       "      <td>30.000000</td>\n",
       "      <td>0.0</td>\n",
       "    </tr>\n",
       "  </tbody>\n",
       "</table>\n",
       "</div>"
      ],
      "text/plain": [
       "         summary_nr   build_stor  nature_of_inj  part_of_body   event_type  \\\n",
       "count  4.847000e+03  4847.000000    4847.000000   4847.000000  4847.000000   \n",
       "mean   2.208956e+08     0.447287      11.852486     13.629255     5.193728   \n",
       "std    5.585438e+04     3.011749       7.634332      7.838927     4.608330   \n",
       "min    2.207779e+08     0.000000       0.000000      0.000000     0.000000   \n",
       "25%    2.208494e+08     0.000000       5.000000     10.000000     2.000000   \n",
       "50%    2.209189e+08     0.000000      12.000000     13.000000     5.000000   \n",
       "75%    2.209406e+08     0.000000      21.000000     19.000000     6.000000   \n",
       "max    2.209923e+08   139.000000      22.000000     31.000000    14.000000   \n",
       "\n",
       "        evn_factor   hum_factor  task_assigned    fat_cause  fall_ht  \n",
       "count  4847.000000  4847.000000    4847.000000  4847.000000   4847.0  \n",
       "mean     11.983701     9.456984       1.371157     3.065608      0.0  \n",
       "std       6.198560     6.161380       0.483164     7.247627      0.0  \n",
       "min       0.000000     0.000000       1.000000     0.000000      0.0  \n",
       "25%       7.000000     1.000000       1.000000     0.000000      0.0  \n",
       "50%      13.000000    13.000000       1.000000     0.000000      0.0  \n",
       "75%      18.000000    14.000000       2.000000     0.000000      0.0  \n",
       "max      18.000000    20.000000       2.000000    30.000000      0.0  "
      ]
     },
     "execution_count": 5,
     "metadata": {},
     "output_type": "execute_result"
    }
   ],
   "source": [
    "df.describe()"
   ]
  },
  {
   "cell_type": "code",
   "execution_count": 6,
   "metadata": {},
   "outputs": [
    {
     "data": {
      "text/html": [
       "<div>\n",
       "<style scoped>\n",
       "    .dataframe tbody tr th:only-of-type {\n",
       "        vertical-align: middle;\n",
       "    }\n",
       "\n",
       "    .dataframe tbody tr th {\n",
       "        vertical-align: top;\n",
       "    }\n",
       "\n",
       "    .dataframe thead th {\n",
       "        text-align: right;\n",
       "    }\n",
       "</style>\n",
       "<table border=\"1\" class=\"dataframe\">\n",
       "  <thead>\n",
       "    <tr style=\"text-align: right;\">\n",
       "      <th></th>\n",
       "      <th>summary_nr</th>\n",
       "      <th>Event Date</th>\n",
       "      <th>Abstract Text</th>\n",
       "      <th>Event Description</th>\n",
       "      <th>Event Keywords</th>\n",
       "      <th>con_end</th>\n",
       "      <th>Construction End Use</th>\n",
       "      <th>build_stor</th>\n",
       "      <th>Building Stories</th>\n",
       "      <th>proj_cost</th>\n",
       "      <th>...</th>\n",
       "      <th>Event type</th>\n",
       "      <th>evn_factor</th>\n",
       "      <th>Environmental Factor</th>\n",
       "      <th>hum_factor</th>\n",
       "      <th>Human Factor</th>\n",
       "      <th>task_assigned</th>\n",
       "      <th>Task Assigned</th>\n",
       "      <th>hazsub</th>\n",
       "      <th>fat_cause</th>\n",
       "      <th>fall_ht</th>\n",
       "    </tr>\n",
       "  </thead>\n",
       "  <tbody>\n",
       "    <tr>\n",
       "      <th>count</th>\n",
       "      <td>4.847000e+03</td>\n",
       "      <td>4847</td>\n",
       "      <td>4847</td>\n",
       "      <td>4847</td>\n",
       "      <td>4847</td>\n",
       "      <td>4847</td>\n",
       "      <td>4847</td>\n",
       "      <td>4847.000000</td>\n",
       "      <td>4847</td>\n",
       "      <td>4847</td>\n",
       "      <td>...</td>\n",
       "      <td>4845</td>\n",
       "      <td>4847.000000</td>\n",
       "      <td>4840</td>\n",
       "      <td>4847.000000</td>\n",
       "      <td>4840</td>\n",
       "      <td>4847.000000</td>\n",
       "      <td>4847</td>\n",
       "      <td>4847</td>\n",
       "      <td>4847.000000</td>\n",
       "      <td>4847.0</td>\n",
       "    </tr>\n",
       "    <tr>\n",
       "      <th>unique</th>\n",
       "      <td>NaN</td>\n",
       "      <td>671</td>\n",
       "      <td>4829</td>\n",
       "      <td>4320</td>\n",
       "      <td>4427</td>\n",
       "      <td>18</td>\n",
       "      <td>18</td>\n",
       "      <td>NaN</td>\n",
       "      <td>25</td>\n",
       "      <td>8</td>\n",
       "      <td>...</td>\n",
       "      <td>14</td>\n",
       "      <td>NaN</td>\n",
       "      <td>17</td>\n",
       "      <td>NaN</td>\n",
       "      <td>18</td>\n",
       "      <td>NaN</td>\n",
       "      <td>2</td>\n",
       "      <td>31</td>\n",
       "      <td>NaN</td>\n",
       "      <td>NaN</td>\n",
       "    </tr>\n",
       "    <tr>\n",
       "      <th>top</th>\n",
       "      <td>NaN</td>\n",
       "      <td>4/10/2017</td>\n",
       "      <td>At approximately 5:34 p.m. on February 10, 201...</td>\n",
       "      <td>EMPLOYEE FALLS FROM ROOF AND IS KILLED</td>\n",
       "      <td>HEART ATTACK</td>\n",
       "      <td>0</td>\n",
       "      <td></td>\n",
       "      <td>NaN</td>\n",
       "      <td></td>\n",
       "      <td>0</td>\n",
       "      <td>...</td>\n",
       "      <td>Fall (from elevation)</td>\n",
       "      <td>NaN</td>\n",
       "      <td>Other</td>\n",
       "      <td>NaN</td>\n",
       "      <td>Other</td>\n",
       "      <td>NaN</td>\n",
       "      <td>Regularly Assigned</td>\n",
       "      <td>0</td>\n",
       "      <td>NaN</td>\n",
       "      <td>NaN</td>\n",
       "    </tr>\n",
       "    <tr>\n",
       "      <th>freq</th>\n",
       "      <td>NaN</td>\n",
       "      <td>49</td>\n",
       "      <td>2</td>\n",
       "      <td>46</td>\n",
       "      <td>46</td>\n",
       "      <td>3820</td>\n",
       "      <td>3820</td>\n",
       "      <td>NaN</td>\n",
       "      <td>4148</td>\n",
       "      <td>4261</td>\n",
       "      <td>...</td>\n",
       "      <td>1179</td>\n",
       "      <td>NaN</td>\n",
       "      <td>2009</td>\n",
       "      <td>NaN</td>\n",
       "      <td>1838</td>\n",
       "      <td>NaN</td>\n",
       "      <td>3048</td>\n",
       "      <td>4788</td>\n",
       "      <td>NaN</td>\n",
       "      <td>NaN</td>\n",
       "    </tr>\n",
       "    <tr>\n",
       "      <th>mean</th>\n",
       "      <td>2.208956e+08</td>\n",
       "      <td>NaN</td>\n",
       "      <td>NaN</td>\n",
       "      <td>NaN</td>\n",
       "      <td>NaN</td>\n",
       "      <td>NaN</td>\n",
       "      <td>NaN</td>\n",
       "      <td>0.447287</td>\n",
       "      <td>NaN</td>\n",
       "      <td>NaN</td>\n",
       "      <td>...</td>\n",
       "      <td>NaN</td>\n",
       "      <td>11.983701</td>\n",
       "      <td>NaN</td>\n",
       "      <td>9.456984</td>\n",
       "      <td>NaN</td>\n",
       "      <td>1.371157</td>\n",
       "      <td>NaN</td>\n",
       "      <td>NaN</td>\n",
       "      <td>3.065608</td>\n",
       "      <td>0.0</td>\n",
       "    </tr>\n",
       "    <tr>\n",
       "      <th>std</th>\n",
       "      <td>5.585438e+04</td>\n",
       "      <td>NaN</td>\n",
       "      <td>NaN</td>\n",
       "      <td>NaN</td>\n",
       "      <td>NaN</td>\n",
       "      <td>NaN</td>\n",
       "      <td>NaN</td>\n",
       "      <td>3.011749</td>\n",
       "      <td>NaN</td>\n",
       "      <td>NaN</td>\n",
       "      <td>...</td>\n",
       "      <td>NaN</td>\n",
       "      <td>6.198560</td>\n",
       "      <td>NaN</td>\n",
       "      <td>6.161380</td>\n",
       "      <td>NaN</td>\n",
       "      <td>0.483164</td>\n",
       "      <td>NaN</td>\n",
       "      <td>NaN</td>\n",
       "      <td>7.247627</td>\n",
       "      <td>0.0</td>\n",
       "    </tr>\n",
       "    <tr>\n",
       "      <th>min</th>\n",
       "      <td>2.207779e+08</td>\n",
       "      <td>NaN</td>\n",
       "      <td>NaN</td>\n",
       "      <td>NaN</td>\n",
       "      <td>NaN</td>\n",
       "      <td>NaN</td>\n",
       "      <td>NaN</td>\n",
       "      <td>0.000000</td>\n",
       "      <td>NaN</td>\n",
       "      <td>NaN</td>\n",
       "      <td>...</td>\n",
       "      <td>NaN</td>\n",
       "      <td>0.000000</td>\n",
       "      <td>NaN</td>\n",
       "      <td>0.000000</td>\n",
       "      <td>NaN</td>\n",
       "      <td>1.000000</td>\n",
       "      <td>NaN</td>\n",
       "      <td>NaN</td>\n",
       "      <td>0.000000</td>\n",
       "      <td>0.0</td>\n",
       "    </tr>\n",
       "    <tr>\n",
       "      <th>25%</th>\n",
       "      <td>2.208494e+08</td>\n",
       "      <td>NaN</td>\n",
       "      <td>NaN</td>\n",
       "      <td>NaN</td>\n",
       "      <td>NaN</td>\n",
       "      <td>NaN</td>\n",
       "      <td>NaN</td>\n",
       "      <td>0.000000</td>\n",
       "      <td>NaN</td>\n",
       "      <td>NaN</td>\n",
       "      <td>...</td>\n",
       "      <td>NaN</td>\n",
       "      <td>7.000000</td>\n",
       "      <td>NaN</td>\n",
       "      <td>1.000000</td>\n",
       "      <td>NaN</td>\n",
       "      <td>1.000000</td>\n",
       "      <td>NaN</td>\n",
       "      <td>NaN</td>\n",
       "      <td>0.000000</td>\n",
       "      <td>0.0</td>\n",
       "    </tr>\n",
       "    <tr>\n",
       "      <th>50%</th>\n",
       "      <td>2.209189e+08</td>\n",
       "      <td>NaN</td>\n",
       "      <td>NaN</td>\n",
       "      <td>NaN</td>\n",
       "      <td>NaN</td>\n",
       "      <td>NaN</td>\n",
       "      <td>NaN</td>\n",
       "      <td>0.000000</td>\n",
       "      <td>NaN</td>\n",
       "      <td>NaN</td>\n",
       "      <td>...</td>\n",
       "      <td>NaN</td>\n",
       "      <td>13.000000</td>\n",
       "      <td>NaN</td>\n",
       "      <td>13.000000</td>\n",
       "      <td>NaN</td>\n",
       "      <td>1.000000</td>\n",
       "      <td>NaN</td>\n",
       "      <td>NaN</td>\n",
       "      <td>0.000000</td>\n",
       "      <td>0.0</td>\n",
       "    </tr>\n",
       "    <tr>\n",
       "      <th>75%</th>\n",
       "      <td>2.209406e+08</td>\n",
       "      <td>NaN</td>\n",
       "      <td>NaN</td>\n",
       "      <td>NaN</td>\n",
       "      <td>NaN</td>\n",
       "      <td>NaN</td>\n",
       "      <td>NaN</td>\n",
       "      <td>0.000000</td>\n",
       "      <td>NaN</td>\n",
       "      <td>NaN</td>\n",
       "      <td>...</td>\n",
       "      <td>NaN</td>\n",
       "      <td>18.000000</td>\n",
       "      <td>NaN</td>\n",
       "      <td>14.000000</td>\n",
       "      <td>NaN</td>\n",
       "      <td>2.000000</td>\n",
       "      <td>NaN</td>\n",
       "      <td>NaN</td>\n",
       "      <td>0.000000</td>\n",
       "      <td>0.0</td>\n",
       "    </tr>\n",
       "    <tr>\n",
       "      <th>max</th>\n",
       "      <td>2.209923e+08</td>\n",
       "      <td>NaN</td>\n",
       "      <td>NaN</td>\n",
       "      <td>NaN</td>\n",
       "      <td>NaN</td>\n",
       "      <td>NaN</td>\n",
       "      <td>NaN</td>\n",
       "      <td>139.000000</td>\n",
       "      <td>NaN</td>\n",
       "      <td>NaN</td>\n",
       "      <td>...</td>\n",
       "      <td>NaN</td>\n",
       "      <td>18.000000</td>\n",
       "      <td>NaN</td>\n",
       "      <td>20.000000</td>\n",
       "      <td>NaN</td>\n",
       "      <td>2.000000</td>\n",
       "      <td>NaN</td>\n",
       "      <td>NaN</td>\n",
       "      <td>30.000000</td>\n",
       "      <td>0.0</td>\n",
       "    </tr>\n",
       "  </tbody>\n",
       "</table>\n",
       "<p>11 rows × 29 columns</p>\n",
       "</div>"
      ],
      "text/plain": [
       "          summary_nr Event Date  \\\n",
       "count   4.847000e+03       4847   \n",
       "unique           NaN        671   \n",
       "top              NaN  4/10/2017   \n",
       "freq             NaN         49   \n",
       "mean    2.208956e+08        NaN   \n",
       "std     5.585438e+04        NaN   \n",
       "min     2.207779e+08        NaN   \n",
       "25%     2.208494e+08        NaN   \n",
       "50%     2.209189e+08        NaN   \n",
       "75%     2.209406e+08        NaN   \n",
       "max     2.209923e+08        NaN   \n",
       "\n",
       "                                            Abstract Text  \\\n",
       "count                                                4847   \n",
       "unique                                               4829   \n",
       "top     At approximately 5:34 p.m. on February 10, 201...   \n",
       "freq                                                    2   \n",
       "mean                                                  NaN   \n",
       "std                                                   NaN   \n",
       "min                                                   NaN   \n",
       "25%                                                   NaN   \n",
       "50%                                                   NaN   \n",
       "75%                                                   NaN   \n",
       "max                                                   NaN   \n",
       "\n",
       "                             Event Description Event Keywords con_end  \\\n",
       "count                                     4847           4847    4847   \n",
       "unique                                    4320           4427      18   \n",
       "top     EMPLOYEE FALLS FROM ROOF AND IS KILLED   HEART ATTACK       0   \n",
       "freq                                        46             46    3820   \n",
       "mean                                       NaN            NaN     NaN   \n",
       "std                                        NaN            NaN     NaN   \n",
       "min                                        NaN            NaN     NaN   \n",
       "25%                                        NaN            NaN     NaN   \n",
       "50%                                        NaN            NaN     NaN   \n",
       "75%                                        NaN            NaN     NaN   \n",
       "max                                        NaN            NaN     NaN   \n",
       "\n",
       "       Construction End Use   build_stor Building Stories proj_cost  ...  \\\n",
       "count                  4847  4847.000000             4847      4847  ...   \n",
       "unique                   18          NaN               25         8  ...   \n",
       "top                                  NaN                          0  ...   \n",
       "freq                   3820          NaN             4148      4261  ...   \n",
       "mean                    NaN     0.447287              NaN       NaN  ...   \n",
       "std                     NaN     3.011749              NaN       NaN  ...   \n",
       "min                     NaN     0.000000              NaN       NaN  ...   \n",
       "25%                     NaN     0.000000              NaN       NaN  ...   \n",
       "50%                     NaN     0.000000              NaN       NaN  ...   \n",
       "75%                     NaN     0.000000              NaN       NaN  ...   \n",
       "max                     NaN   139.000000              NaN       NaN  ...   \n",
       "\n",
       "                   Event type   evn_factor Environmental Factor   hum_factor  \\\n",
       "count                    4845  4847.000000                 4840  4847.000000   \n",
       "unique                     14          NaN                   17          NaN   \n",
       "top     Fall (from elevation)          NaN                Other          NaN   \n",
       "freq                     1179          NaN                 2009          NaN   \n",
       "mean                      NaN    11.983701                  NaN     9.456984   \n",
       "std                       NaN     6.198560                  NaN     6.161380   \n",
       "min                       NaN     0.000000                  NaN     0.000000   \n",
       "25%                       NaN     7.000000                  NaN     1.000000   \n",
       "50%                       NaN    13.000000                  NaN    13.000000   \n",
       "75%                       NaN    18.000000                  NaN    14.000000   \n",
       "max                       NaN    18.000000                  NaN    20.000000   \n",
       "\n",
       "        Human Factor task_assigned       Task Assigned hazsub    fat_cause  \\\n",
       "count           4840   4847.000000                4847   4847  4847.000000   \n",
       "unique            18           NaN                   2     31          NaN   \n",
       "top            Other           NaN  Regularly Assigned      0          NaN   \n",
       "freq            1838           NaN                3048   4788          NaN   \n",
       "mean             NaN      1.371157                 NaN    NaN     3.065608   \n",
       "std              NaN      0.483164                 NaN    NaN     7.247627   \n",
       "min              NaN      1.000000                 NaN    NaN     0.000000   \n",
       "25%              NaN      1.000000                 NaN    NaN     0.000000   \n",
       "50%              NaN      1.000000                 NaN    NaN     0.000000   \n",
       "75%              NaN      2.000000                 NaN    NaN     0.000000   \n",
       "max              NaN      2.000000                 NaN    NaN    30.000000   \n",
       "\n",
       "       fall_ht  \n",
       "count   4847.0  \n",
       "unique     NaN  \n",
       "top        NaN  \n",
       "freq       NaN  \n",
       "mean       0.0  \n",
       "std        0.0  \n",
       "min        0.0  \n",
       "25%        0.0  \n",
       "50%        0.0  \n",
       "75%        0.0  \n",
       "max        0.0  \n",
       "\n",
       "[11 rows x 29 columns]"
      ]
     },
     "execution_count": 6,
     "metadata": {},
     "output_type": "execute_result"
    }
   ],
   "source": [
    "df.describe(include='all')"
   ]
  },
  {
   "cell_type": "markdown",
   "metadata": {},
   "source": [
    "The dataset contains 4847 records with 29 features:\n",
    "'summary_nr', 'Event Date', 'Abstract Text', 'Event Description', 'Event Keywords', 'con_end', 'Construction End Use', 'build_stor','Building Stories', 'proj_cost', 'Project Cost', 'proj_type', 'Project Type', 'Degree of Injury', 'nature_of_inj', 'Nature of Injury','part_of_body', 'Part of Body', 'event_type', 'Event type', 'evn_factor', 'Environmental Factor', 'hum_factor', 'Human Factor', 'task_assigned', 'Task Assigned', 'hazsub', 'fat_cause', 'fall_ht'.\n",
    "\n",
    "**- Date:**\n",
    "\n",
    "671 unique event dates.  4/10/2017 appear 49 times. Accidents are from 2015 to 2017.\n",
    "\n",
    "**-Textual Descriptions:**\n",
    "\n",
    "Abstract Text, Event Description, and Event Keywords have unique textual descriptions and keywords for each event. \n",
    "\n",
    "**-Construction End Use (con_end & Construction End Use):**\n",
    "\n",
    "3820 out of 4847  have the value \"0\" for con_end, suggesting that this might be a placeholder or represent missing data.\n",
    "\n",
    "**-Building Stories (build_stor & Building Stories):**\n",
    "\n",
    "4148 out of 4847 of the building stories are denoted as \"0\" , with a maximum value of 139 (Maybe outlier). Lack of data, single-story buildings or construction in the ground.\n",
    "\n",
    "**-Project Costs (proj_cost & Project Cost):**\n",
    "\n",
    "4261 out of 4847 are \"0\". Codes in proj_cost correspond to descriptions in Project Cost.\n",
    "\n",
    "\n",
    "**-Project Type (proj_type & Project Type):**\n",
    "\n",
    "3767 out of 4847 have the value \"0\" for proj_type. Codes in proj_type correspond to descriptions in Project Type.\n",
    "\n",
    "**-Injury Information:**\n",
    "\n",
    "nature_of_inj ranges from 0 to 22, codes corresponds to the categorical descriptions in Nature of Injury.\n",
    "part_of_body ranges from 0 to 31, and the codes correspond to descriptions in Part of Body.\n",
    "event_type and evn_factor also have their respective description columns.\n",
    "\n",
    "\n",
    "**-Factors:**\n",
    "\n",
    "-Both Environmental Factor and Human Factor have numerical columns (evn_factor & hum_factor) which likely correspond to categorical descriptions.\n",
    "\n",
    "-task_assigned ranges from 0 to 20, with its categorical descriptions in Task Assigned.\n",
    "\n",
    "-Hazard Substance (hazsub):4788 out of 4847 has a value of \"0\", suggesting the absence of a specific hazardous substance or lack of data.\n",
    "\n",
    "-Fatal Causes (fat_cause): Mostly zeros (with one value of 15), indicating that most events did not have a fatal cause recorded.\n",
    "\n",
    "-Fall Height (fall_ht):\n",
    "All values are 0, maybe fall height was not recorded or not applicable to the events in the dataset."
   ]
  },
  {
   "cell_type": "code",
   "execution_count": 7,
   "metadata": {},
   "outputs": [
    {
     "name": "stdout",
     "output_type": "stream",
     "text": [
      "summary_nr               int64\n",
      "Event Date              object\n",
      "Abstract Text           object\n",
      "Event Description       object\n",
      "Event Keywords          object\n",
      "con_end                 object\n",
      "Construction End Use    object\n",
      "build_stor               int64\n",
      "Building Stories        object\n",
      "proj_cost               object\n",
      "Project Cost            object\n",
      "proj_type               object\n",
      "Project Type            object\n",
      "Degree of Injury        object\n",
      "nature_of_inj            int64\n",
      "Nature of Injury        object\n",
      "part_of_body             int64\n",
      "Part of Body            object\n",
      "event_type               int64\n",
      "Event type              object\n",
      "evn_factor               int64\n",
      "Environmental Factor    object\n",
      "hum_factor               int64\n",
      "Human Factor            object\n",
      "task_assigned            int64\n",
      "Task Assigned           object\n",
      "hazsub                  object\n",
      "fat_cause                int64\n",
      "fall_ht                  int64\n",
      "dtype: object\n"
     ]
    }
   ],
   "source": [
    "print(df.dtypes)"
   ]
  },
  {
   "cell_type": "code",
   "execution_count": 8,
   "metadata": {},
   "outputs": [
    {
     "data": {
      "text/html": [
       "<div>\n",
       "<style scoped>\n",
       "    .dataframe tbody tr th:only-of-type {\n",
       "        vertical-align: middle;\n",
       "    }\n",
       "\n",
       "    .dataframe tbody tr th {\n",
       "        vertical-align: top;\n",
       "    }\n",
       "\n",
       "    .dataframe thead th {\n",
       "        text-align: right;\n",
       "    }\n",
       "</style>\n",
       "<table border=\"1\" class=\"dataframe\">\n",
       "  <thead>\n",
       "    <tr style=\"text-align: right;\">\n",
       "      <th></th>\n",
       "      <th>summary_nr</th>\n",
       "      <th>Event Date</th>\n",
       "      <th>Abstract Text</th>\n",
       "      <th>Event Description</th>\n",
       "      <th>Event Keywords</th>\n",
       "      <th>con_end</th>\n",
       "      <th>Construction End Use</th>\n",
       "      <th>build_stor</th>\n",
       "      <th>Building Stories</th>\n",
       "      <th>proj_cost</th>\n",
       "      <th>Project Cost</th>\n",
       "      <th>proj_type</th>\n",
       "      <th>Project Type</th>\n",
       "      <th>Degree of Injury</th>\n",
       "      <th>nature_of_inj</th>\n",
       "      <th>Nature of Injury</th>\n",
       "      <th>part_of_body</th>\n",
       "      <th>Part of Body</th>\n",
       "      <th>event_type</th>\n",
       "      <th>Event type</th>\n",
       "      <th>evn_factor</th>\n",
       "      <th>Environmental Factor</th>\n",
       "      <th>hum_factor</th>\n",
       "      <th>Human Factor</th>\n",
       "      <th>task_assigned</th>\n",
       "      <th>Task Assigned</th>\n",
       "      <th>hazsub</th>\n",
       "      <th>fat_cause</th>\n",
       "      <th>fall_ht</th>\n",
       "    </tr>\n",
       "  </thead>\n",
       "  <tbody>\n",
       "    <tr>\n",
       "      <th>0</th>\n",
       "      <td>220982664</td>\n",
       "      <td>8/10/2017</td>\n",
       "      <td>At 9:00 a.m. on August 10, 2017, an employee w...</td>\n",
       "      <td>EMPLOYEE'S FINGERS AMPUTATED WHILE OPERATING A...</td>\n",
       "      <td>FINGER,MECHANICAL POWER PRESS,AMPUTATION,GUARD</td>\n",
       "      <td>0</td>\n",
       "      <td></td>\n",
       "      <td>0</td>\n",
       "      <td></td>\n",
       "      <td>0</td>\n",
       "      <td></td>\n",
       "      <td>0</td>\n",
       "      <td></td>\n",
       "      <td>Nonfatal</td>\n",
       "      <td>1</td>\n",
       "      <td>Amputation, Crushing</td>\n",
       "      <td>10</td>\n",
       "      <td>Fingers</td>\n",
       "      <td>2</td>\n",
       "      <td>Caught in or between</td>\n",
       "      <td>2</td>\n",
       "      <td>Catch Point/Puncture Action</td>\n",
       "      <td>14</td>\n",
       "      <td>Other</td>\n",
       "      <td>1</td>\n",
       "      <td>Regularly Assigned</td>\n",
       "      <td>0</td>\n",
       "      <td>0</td>\n",
       "      <td>0</td>\n",
       "    </tr>\n",
       "    <tr>\n",
       "      <th>1</th>\n",
       "      <td>220973937</td>\n",
       "      <td>7/17/2017</td>\n",
       "      <td>At 9:45 a.m. on July 17, 2017, an employee was...</td>\n",
       "      <td>EMPLOYEE'S FINGER IS CAUGHT IN DRILL AND IS AM...</td>\n",
       "      <td>CAUGHT IN,DRIVE SHAFT,RESIDENTIAL CONSTRUCTION...</td>\n",
       "      <td>H</td>\n",
       "      <td>Other building</td>\n",
       "      <td>1</td>\n",
       "      <td>1</td>\n",
       "      <td>0</td>\n",
       "      <td></td>\n",
       "      <td>B</td>\n",
       "      <td>Alteration or rehabilitation</td>\n",
       "      <td>Nonfatal</td>\n",
       "      <td>9</td>\n",
       "      <td>Dislocation</td>\n",
       "      <td>10</td>\n",
       "      <td>Fingers</td>\n",
       "      <td>2</td>\n",
       "      <td>Caught in or between</td>\n",
       "      <td>18</td>\n",
       "      <td>Other</td>\n",
       "      <td>10</td>\n",
       "      <td>Position Inappropriate For Task</td>\n",
       "      <td>1</td>\n",
       "      <td>Regularly Assigned</td>\n",
       "      <td>0</td>\n",
       "      <td>0</td>\n",
       "      <td>0</td>\n",
       "    </tr>\n",
       "    <tr>\n",
       "      <th>2</th>\n",
       "      <td>220967632</td>\n",
       "      <td>6/30/2017</td>\n",
       "      <td>At 7:30 a.m. on June 30, 2017, an employee was...</td>\n",
       "      <td>EMPLOYEE IS HOSPITALIZED AFTER BEING INJURED I...</td>\n",
       "      <td>AMPUTATED,EXPLOSION,FIREWORKS</td>\n",
       "      <td>0</td>\n",
       "      <td></td>\n",
       "      <td>0</td>\n",
       "      <td></td>\n",
       "      <td>0</td>\n",
       "      <td></td>\n",
       "      <td>0</td>\n",
       "      <td></td>\n",
       "      <td>Nonfatal</td>\n",
       "      <td>5</td>\n",
       "      <td>Fire Burn</td>\n",
       "      <td>12</td>\n",
       "      <td>Hand</td>\n",
       "      <td>14</td>\n",
       "      <td>Other</td>\n",
       "      <td>18</td>\n",
       "      <td>Other</td>\n",
       "      <td>4</td>\n",
       "      <td>Malfunction In Securing/Warning Op</td>\n",
       "      <td>2</td>\n",
       "      <td>Not Regularly Assigned</td>\n",
       "      <td>0</td>\n",
       "      <td>0</td>\n",
       "      <td>0</td>\n",
       "    </tr>\n",
       "    <tr>\n",
       "      <th>3</th>\n",
       "      <td>220969901</td>\n",
       "      <td>6/30/2017</td>\n",
       "      <td>At 2:00 p.m. on June 30, 2017, an employee was...</td>\n",
       "      <td>EMPLOYEE FALLS FROM ROOF AND IS INJURED</td>\n",
       "      <td>RIB,ROOF,HEAD,FALL PROTECTION,FALL,COLLARBONE,...</td>\n",
       "      <td>C</td>\n",
       "      <td>Commercial building</td>\n",
       "      <td>1</td>\n",
       "      <td>1</td>\n",
       "      <td>D</td>\n",
       "      <td>$500,000 to $1,000,000</td>\n",
       "      <td>B</td>\n",
       "      <td>Alteration or rehabilitation</td>\n",
       "      <td>Fatal</td>\n",
       "      <td>21</td>\n",
       "      <td>Serious Fall/Strike</td>\n",
       "      <td>13</td>\n",
       "      <td>Head</td>\n",
       "      <td>5</td>\n",
       "      <td>Fall (from elevation)</td>\n",
       "      <td>13</td>\n",
       "      <td>Work-Surface/Facility-Layout Condition</td>\n",
       "      <td>14</td>\n",
       "      <td>Other</td>\n",
       "      <td>1</td>\n",
       "      <td>Regularly Assigned</td>\n",
       "      <td>0</td>\n",
       "      <td>15</td>\n",
       "      <td>0</td>\n",
       "    </tr>\n",
       "    <tr>\n",
       "      <th>4</th>\n",
       "      <td>220977748</td>\n",
       "      <td>6/23/2017</td>\n",
       "      <td>At 12:20 p.m. on June 23, 2017, an employee wa...</td>\n",
       "      <td>EMPLOYEE IS STRUCK BY PLYWOOD WHILE UNLOADING ...</td>\n",
       "      <td>STRUCK BY,TRUCK,BRAIN,NECK,FRACTURE,UNSTABLE LOAD</td>\n",
       "      <td>0</td>\n",
       "      <td></td>\n",
       "      <td>0</td>\n",
       "      <td></td>\n",
       "      <td>0</td>\n",
       "      <td></td>\n",
       "      <td>0</td>\n",
       "      <td></td>\n",
       "      <td>Nonfatal</td>\n",
       "      <td>3</td>\n",
       "      <td>Bruising, Contusion</td>\n",
       "      <td>20</td>\n",
       "      <td>Neck</td>\n",
       "      <td>1</td>\n",
       "      <td>Struck-by</td>\n",
       "      <td>6</td>\n",
       "      <td>Overhead Moving/Falling Object Action</td>\n",
       "      <td>15</td>\n",
       "      <td>Insufficient/Lack/Housekeeping Program</td>\n",
       "      <td>1</td>\n",
       "      <td>Regularly Assigned</td>\n",
       "      <td>0</td>\n",
       "      <td>0</td>\n",
       "      <td>0</td>\n",
       "    </tr>\n",
       "    <tr>\n",
       "      <th>...</th>\n",
       "      <td>...</td>\n",
       "      <td>...</td>\n",
       "      <td>...</td>\n",
       "      <td>...</td>\n",
       "      <td>...</td>\n",
       "      <td>...</td>\n",
       "      <td>...</td>\n",
       "      <td>...</td>\n",
       "      <td>...</td>\n",
       "      <td>...</td>\n",
       "      <td>...</td>\n",
       "      <td>...</td>\n",
       "      <td>...</td>\n",
       "      <td>...</td>\n",
       "      <td>...</td>\n",
       "      <td>...</td>\n",
       "      <td>...</td>\n",
       "      <td>...</td>\n",
       "      <td>...</td>\n",
       "      <td>...</td>\n",
       "      <td>...</td>\n",
       "      <td>...</td>\n",
       "      <td>...</td>\n",
       "      <td>...</td>\n",
       "      <td>...</td>\n",
       "      <td>...</td>\n",
       "      <td>...</td>\n",
       "      <td>...</td>\n",
       "      <td>...</td>\n",
       "    </tr>\n",
       "    <tr>\n",
       "      <th>4842</th>\n",
       "      <td>220778856</td>\n",
       "      <td>7/1/2015</td>\n",
       "      <td>At approximately 9:15 a.m. on July 1, 2015, Em...</td>\n",
       "      <td>EMPLOYEE FALLS FROM BILLBOARD, SUSTAINS TRAUMA...</td>\n",
       "      <td>FALL,LOST BALANCE,LADDER</td>\n",
       "      <td>0</td>\n",
       "      <td></td>\n",
       "      <td>0</td>\n",
       "      <td></td>\n",
       "      <td>0</td>\n",
       "      <td></td>\n",
       "      <td>0</td>\n",
       "      <td></td>\n",
       "      <td>Fatal</td>\n",
       "      <td>6</td>\n",
       "      <td>Head Trauma</td>\n",
       "      <td>4</td>\n",
       "      <td>Whole Body</td>\n",
       "      <td>5</td>\n",
       "      <td>Fall (from elevation)</td>\n",
       "      <td>18</td>\n",
       "      <td>Other</td>\n",
       "      <td>8</td>\n",
       "      <td>Perception Malfunction Task-Environment</td>\n",
       "      <td>1</td>\n",
       "      <td>Regularly Assigned</td>\n",
       "      <td>0</td>\n",
       "      <td>0</td>\n",
       "      <td>0</td>\n",
       "    </tr>\n",
       "    <tr>\n",
       "      <th>4843</th>\n",
       "      <td>220778096</td>\n",
       "      <td>7/1/2015</td>\n",
       "      <td>At approximately 8:30 a.m. on July 1, 2015, Em...</td>\n",
       "      <td>EMPLOYEE FALLS FROM ELEVATION, SUSTAINS HEAD T...</td>\n",
       "      <td>FALL,LOST BALANCE,HEAD</td>\n",
       "      <td>0</td>\n",
       "      <td></td>\n",
       "      <td>0</td>\n",
       "      <td></td>\n",
       "      <td>0</td>\n",
       "      <td></td>\n",
       "      <td>0</td>\n",
       "      <td></td>\n",
       "      <td>Fatal</td>\n",
       "      <td>21</td>\n",
       "      <td>Serious Fall/Strike</td>\n",
       "      <td>13</td>\n",
       "      <td>Head</td>\n",
       "      <td>5</td>\n",
       "      <td>Fall (from elevation)</td>\n",
       "      <td>13</td>\n",
       "      <td>Work-Surface/Facility-Layout Condition</td>\n",
       "      <td>6</td>\n",
       "      <td>Equipment Inappropriate For Operation</td>\n",
       "      <td>2</td>\n",
       "      <td>Not Regularly Assigned</td>\n",
       "      <td>0</td>\n",
       "      <td>0</td>\n",
       "      <td>0</td>\n",
       "    </tr>\n",
       "    <tr>\n",
       "      <th>4844</th>\n",
       "      <td>220778112</td>\n",
       "      <td>7/1/2015</td>\n",
       "      <td>At 3:00 p.m. on July 1, 2015, an employee was ...</td>\n",
       "      <td>EMPLOYEE FOUND UNRESPONSIVE BY HOME OWNER DURI...</td>\n",
       "      <td>UNCONSCIOUSNESS</td>\n",
       "      <td>0</td>\n",
       "      <td></td>\n",
       "      <td>0</td>\n",
       "      <td></td>\n",
       "      <td>0</td>\n",
       "      <td></td>\n",
       "      <td>0</td>\n",
       "      <td></td>\n",
       "      <td>Fatal</td>\n",
       "      <td>21</td>\n",
       "      <td>Serious Fall/Strike</td>\n",
       "      <td>4</td>\n",
       "      <td>Whole Body</td>\n",
       "      <td>14</td>\n",
       "      <td>Other</td>\n",
       "      <td>18</td>\n",
       "      <td>Other</td>\n",
       "      <td>14</td>\n",
       "      <td>Other</td>\n",
       "      <td>1</td>\n",
       "      <td>Regularly Assigned</td>\n",
       "      <td>0</td>\n",
       "      <td>0</td>\n",
       "      <td>0</td>\n",
       "    </tr>\n",
       "    <tr>\n",
       "      <th>4845</th>\n",
       "      <td>220777940</td>\n",
       "      <td>7/1/2015</td>\n",
       "      <td>At approximately 2:30 p.m. on July 1, 2015, Em...</td>\n",
       "      <td>EMPLOYEE IS STRUCK AND KILLED BY LOGGING TRUCK...</td>\n",
       "      <td>STRUCK BY,MOTOR VEHICLE</td>\n",
       "      <td>0</td>\n",
       "      <td></td>\n",
       "      <td>0</td>\n",
       "      <td></td>\n",
       "      <td>0</td>\n",
       "      <td></td>\n",
       "      <td>0</td>\n",
       "      <td></td>\n",
       "      <td>Fatal</td>\n",
       "      <td>21</td>\n",
       "      <td>Serious Fall/Strike</td>\n",
       "      <td>4</td>\n",
       "      <td>Whole Body</td>\n",
       "      <td>1</td>\n",
       "      <td>Struck-by</td>\n",
       "      <td>13</td>\n",
       "      <td>Work-Surface/Facility-Layout Condition</td>\n",
       "      <td>1</td>\n",
       "      <td>Misjudgment, Hazardous Situation</td>\n",
       "      <td>1</td>\n",
       "      <td>Regularly Assigned</td>\n",
       "      <td>0</td>\n",
       "      <td>0</td>\n",
       "      <td>0</td>\n",
       "    </tr>\n",
       "    <tr>\n",
       "      <th>4846</th>\n",
       "      <td>220778195</td>\n",
       "      <td>7/1/2015</td>\n",
       "      <td>At approximately 2:15 p.m. on July 1, 2015, Em...</td>\n",
       "      <td>EMPLOYEE IS STRUCK BY OVERTURNED STANDUP FORKL...</td>\n",
       "      <td>CRUSHING,STRUCK BY,POWERED INDUSTRIAL VEHICLE,...</td>\n",
       "      <td>0</td>\n",
       "      <td></td>\n",
       "      <td>0</td>\n",
       "      <td></td>\n",
       "      <td>0</td>\n",
       "      <td></td>\n",
       "      <td>0</td>\n",
       "      <td></td>\n",
       "      <td>Fatal</td>\n",
       "      <td>21</td>\n",
       "      <td>Serious Fall/Strike</td>\n",
       "      <td>16</td>\n",
       "      <td>Left Leg</td>\n",
       "      <td>1</td>\n",
       "      <td>Struck-by</td>\n",
       "      <td>8</td>\n",
       "      <td>Materials Handling Equip./Method</td>\n",
       "      <td>11</td>\n",
       "      <td>Mater-Handling Procedure Inappropriate</td>\n",
       "      <td>1</td>\n",
       "      <td>Regularly Assigned</td>\n",
       "      <td>0</td>\n",
       "      <td>0</td>\n",
       "      <td>0</td>\n",
       "    </tr>\n",
       "  </tbody>\n",
       "</table>\n",
       "<p>4847 rows × 29 columns</p>\n",
       "</div>"
      ],
      "text/plain": [
       "      summary_nr Event Date  \\\n",
       "0      220982664  8/10/2017   \n",
       "1      220973937  7/17/2017   \n",
       "2      220967632  6/30/2017   \n",
       "3      220969901  6/30/2017   \n",
       "4      220977748  6/23/2017   \n",
       "...          ...        ...   \n",
       "4842   220778856   7/1/2015   \n",
       "4843   220778096   7/1/2015   \n",
       "4844   220778112   7/1/2015   \n",
       "4845   220777940   7/1/2015   \n",
       "4846   220778195   7/1/2015   \n",
       "\n",
       "                                          Abstract Text  \\\n",
       "0     At 9:00 a.m. on August 10, 2017, an employee w...   \n",
       "1     At 9:45 a.m. on July 17, 2017, an employee was...   \n",
       "2     At 7:30 a.m. on June 30, 2017, an employee was...   \n",
       "3     At 2:00 p.m. on June 30, 2017, an employee was...   \n",
       "4     At 12:20 p.m. on June 23, 2017, an employee wa...   \n",
       "...                                                 ...   \n",
       "4842  At approximately 9:15 a.m. on July 1, 2015, Em...   \n",
       "4843  At approximately 8:30 a.m. on July 1, 2015, Em...   \n",
       "4844  At 3:00 p.m. on July 1, 2015, an employee was ...   \n",
       "4845  At approximately 2:30 p.m. on July 1, 2015, Em...   \n",
       "4846  At approximately 2:15 p.m. on July 1, 2015, Em...   \n",
       "\n",
       "                                      Event Description  \\\n",
       "0     EMPLOYEE'S FINGERS AMPUTATED WHILE OPERATING A...   \n",
       "1     EMPLOYEE'S FINGER IS CAUGHT IN DRILL AND IS AM...   \n",
       "2     EMPLOYEE IS HOSPITALIZED AFTER BEING INJURED I...   \n",
       "3               EMPLOYEE FALLS FROM ROOF AND IS INJURED   \n",
       "4     EMPLOYEE IS STRUCK BY PLYWOOD WHILE UNLOADING ...   \n",
       "...                                                 ...   \n",
       "4842  EMPLOYEE FALLS FROM BILLBOARD, SUSTAINS TRAUMA...   \n",
       "4843  EMPLOYEE FALLS FROM ELEVATION, SUSTAINS HEAD T...   \n",
       "4844  EMPLOYEE FOUND UNRESPONSIVE BY HOME OWNER DURI...   \n",
       "4845  EMPLOYEE IS STRUCK AND KILLED BY LOGGING TRUCK...   \n",
       "4846  EMPLOYEE IS STRUCK BY OVERTURNED STANDUP FORKL...   \n",
       "\n",
       "                                         Event Keywords con_end  \\\n",
       "0        FINGER,MECHANICAL POWER PRESS,AMPUTATION,GUARD       0   \n",
       "1     CAUGHT IN,DRIVE SHAFT,RESIDENTIAL CONSTRUCTION...       H   \n",
       "2                         AMPUTATED,EXPLOSION,FIREWORKS       0   \n",
       "3     RIB,ROOF,HEAD,FALL PROTECTION,FALL,COLLARBONE,...       C   \n",
       "4     STRUCK BY,TRUCK,BRAIN,NECK,FRACTURE,UNSTABLE LOAD       0   \n",
       "...                                                 ...     ...   \n",
       "4842                           FALL,LOST BALANCE,LADDER       0   \n",
       "4843                             FALL,LOST BALANCE,HEAD       0   \n",
       "4844                                    UNCONSCIOUSNESS       0   \n",
       "4845                            STRUCK BY,MOTOR VEHICLE       0   \n",
       "4846  CRUSHING,STRUCK BY,POWERED INDUSTRIAL VEHICLE,...       0   \n",
       "\n",
       "     Construction End Use  build_stor Building Stories proj_cost  \\\n",
       "0                                   0                          0   \n",
       "1          Other building           1                1         0   \n",
       "2                                   0                          0   \n",
       "3     Commercial building           1                1         D   \n",
       "4                                   0                          0   \n",
       "...                   ...         ...              ...       ...   \n",
       "4842                                0                          0   \n",
       "4843                                0                          0   \n",
       "4844                                0                          0   \n",
       "4845                                0                          0   \n",
       "4846                                0                          0   \n",
       "\n",
       "                Project Cost proj_type                  Project Type  \\\n",
       "0                                    0                                 \n",
       "1                                    B  Alteration or rehabilitation   \n",
       "2                                    0                                 \n",
       "3     $500,000 to $1,000,000         B  Alteration or rehabilitation   \n",
       "4                                    0                                 \n",
       "...                      ...       ...                           ...   \n",
       "4842                                 0                                 \n",
       "4843                                 0                                 \n",
       "4844                                 0                                 \n",
       "4845                                 0                                 \n",
       "4846                                 0                                 \n",
       "\n",
       "     Degree of Injury  nature_of_inj      Nature of Injury  part_of_body  \\\n",
       "0            Nonfatal              1  Amputation, Crushing            10   \n",
       "1            Nonfatal              9           Dislocation            10   \n",
       "2            Nonfatal              5             Fire Burn            12   \n",
       "3               Fatal             21   Serious Fall/Strike            13   \n",
       "4            Nonfatal              3   Bruising, Contusion            20   \n",
       "...               ...            ...                   ...           ...   \n",
       "4842            Fatal              6           Head Trauma             4   \n",
       "4843            Fatal             21   Serious Fall/Strike            13   \n",
       "4844            Fatal             21   Serious Fall/Strike             4   \n",
       "4845            Fatal             21   Serious Fall/Strike             4   \n",
       "4846            Fatal             21   Serious Fall/Strike            16   \n",
       "\n",
       "     Part of Body  event_type             Event type  evn_factor  \\\n",
       "0         Fingers           2   Caught in or between           2   \n",
       "1         Fingers           2   Caught in or between          18   \n",
       "2            Hand          14                  Other          18   \n",
       "3            Head           5  Fall (from elevation)          13   \n",
       "4            Neck           1              Struck-by           6   \n",
       "...           ...         ...                    ...         ...   \n",
       "4842   Whole Body           5  Fall (from elevation)          18   \n",
       "4843         Head           5  Fall (from elevation)          13   \n",
       "4844   Whole Body          14                  Other          18   \n",
       "4845   Whole Body           1              Struck-by          13   \n",
       "4846     Left Leg           1              Struck-by           8   \n",
       "\n",
       "                        Environmental Factor  hum_factor  \\\n",
       "0                Catch Point/Puncture Action          14   \n",
       "1                                      Other          10   \n",
       "2                                      Other           4   \n",
       "3     Work-Surface/Facility-Layout Condition          14   \n",
       "4      Overhead Moving/Falling Object Action          15   \n",
       "...                                      ...         ...   \n",
       "4842                                   Other           8   \n",
       "4843  Work-Surface/Facility-Layout Condition           6   \n",
       "4844                                   Other          14   \n",
       "4845  Work-Surface/Facility-Layout Condition           1   \n",
       "4846        Materials Handling Equip./Method          11   \n",
       "\n",
       "                                 Human Factor  task_assigned  \\\n",
       "0                                       Other              1   \n",
       "1             Position Inappropriate For Task              1   \n",
       "2          Malfunction In Securing/Warning Op              2   \n",
       "3                                       Other              1   \n",
       "4      Insufficient/Lack/Housekeeping Program              1   \n",
       "...                                       ...            ...   \n",
       "4842  Perception Malfunction Task-Environment              1   \n",
       "4843    Equipment Inappropriate For Operation              2   \n",
       "4844                                    Other              1   \n",
       "4845         Misjudgment, Hazardous Situation              1   \n",
       "4846   Mater-Handling Procedure Inappropriate              1   \n",
       "\n",
       "               Task Assigned hazsub  fat_cause  fall_ht  \n",
       "0         Regularly Assigned      0          0        0  \n",
       "1         Regularly Assigned      0          0        0  \n",
       "2     Not Regularly Assigned      0          0        0  \n",
       "3         Regularly Assigned      0         15        0  \n",
       "4         Regularly Assigned      0          0        0  \n",
       "...                      ...    ...        ...      ...  \n",
       "4842      Regularly Assigned      0          0        0  \n",
       "4843  Not Regularly Assigned      0          0        0  \n",
       "4844      Regularly Assigned      0          0        0  \n",
       "4845      Regularly Assigned      0          0        0  \n",
       "4846      Regularly Assigned      0          0        0  \n",
       "\n",
       "[4847 rows x 29 columns]"
      ]
     },
     "execution_count": 8,
     "metadata": {},
     "output_type": "execute_result"
    }
   ],
   "source": [
    "pd.set_option('display.max_columns', 30)\n",
    "df"
   ]
  },
  {
   "cell_type": "markdown",
   "metadata": {},
   "source": [
    "## Data Preprocessing and Exploration"
   ]
  },
  {
   "cell_type": "markdown",
   "metadata": {},
   "source": [
    "In this section, we will prepare and explore the dataset to ensure it is suitable for building our predictive model. This involves several essential steps, including handling missing values, converting data types, and examining data distributions."
   ]
  },
  {
   "cell_type": "markdown",
   "metadata": {},
   "source": [
    "#### Handling Missig Value"
   ]
  },
  {
   "cell_type": "code",
   "execution_count": 9,
   "metadata": {},
   "outputs": [
    {
     "data": {
      "text/plain": [
       "20"
      ]
     },
     "execution_count": 9,
     "metadata": {},
     "output_type": "execute_result"
    }
   ],
   "source": [
    "total_null_values = df.isnull().sum().sum()\n",
    "total_null_values"
   ]
  },
  {
   "cell_type": "code",
   "execution_count": 10,
   "metadata": {},
   "outputs": [
    {
     "data": {
      "text/plain": [
       "summary_nr              0\n",
       "Event Date              0\n",
       "Abstract Text           0\n",
       "Event Description       0\n",
       "Event Keywords          0\n",
       "con_end                 0\n",
       "Construction End Use    0\n",
       "build_stor              0\n",
       "Building Stories        0\n",
       "proj_cost               0\n",
       "Project Cost            0\n",
       "proj_type               0\n",
       "Project Type            0\n",
       "Degree of Injury        0\n",
       "nature_of_inj           0\n",
       "Nature of Injury        2\n",
       "part_of_body            0\n",
       "Part of Body            2\n",
       "event_type              0\n",
       "Event type              2\n",
       "evn_factor              0\n",
       "Environmental Factor    7\n",
       "hum_factor              0\n",
       "Human Factor            7\n",
       "task_assigned           0\n",
       "Task Assigned           0\n",
       "hazsub                  0\n",
       "fat_cause               0\n",
       "fall_ht                 0\n",
       "dtype: int64"
      ]
     },
     "execution_count": 10,
     "metadata": {},
     "output_type": "execute_result"
    }
   ],
   "source": [
    "null_values_per_column = df.isnull().sum()\n",
    "null_values_per_column"
   ]
  },
  {
   "cell_type": "markdown",
   "metadata": {},
   "source": [
    "Upon inspection of the dataset, several columns like 'Nature of Injury', 'Part of Body', and others had missing values. Additionally, these rows often lacked data in multiple columns. Considering these rows represented a mere 0.19% of the dataset (9 out of 4847 rows), they will be dropped. This decision prioritized data integrity, minimized loss of information, and simplified the analysis by ensuring it's based on complete records without the complexities of imputation."
   ]
  },
  {
   "cell_type": "code",
   "execution_count": 11,
   "metadata": {},
   "outputs": [],
   "source": [
    "df_drop = df.dropna()"
   ]
  },
  {
   "cell_type": "code",
   "execution_count": 12,
   "metadata": {},
   "outputs": [
    {
     "data": {
      "text/plain": [
       "(4838, 29)"
      ]
     },
     "execution_count": 12,
     "metadata": {},
     "output_type": "execute_result"
    }
   ],
   "source": [
    "df_drop.shape"
   ]
  },
  {
   "cell_type": "markdown",
   "metadata": {},
   "source": [
    "After dropping these rows, the revised dataset has 4838 rows and 29 columns. We'll continue our analysis with this cleaned dataset, ensuring more reliable and comprehensive insights."
   ]
  },
  {
   "cell_type": "markdown",
   "metadata": {},
   "source": [
    "#### Handling Blank Space"
   ]
  },
  {
   "cell_type": "markdown",
   "metadata": {},
   "source": [
    "Our examination revealed four features ('Construction End Use', 'Project Cost', 'Building Stories', and 'Project Type') contain blank spaces, indicating missing or unspecified values."
   ]
  },
  {
   "cell_type": "code",
   "execution_count": 13,
   "metadata": {
    "scrolled": true
   },
   "outputs": [
    {
     "data": {
      "text/plain": [
       "                                         3813\n",
       "Commercial building                       279\n",
       "Single family or duplex dwelling          193\n",
       "Other building                            139\n",
       "Multi-family dwelling                     130\n",
       "Highway, road, street                      84\n",
       "Manufacturing plant                        39\n",
       "Pipeline                                   34\n",
       "Other heavy construction                   32\n",
       "Sewer/water treatment plant                20\n",
       "Bridge                                     20\n",
       "Power line, transmission line              17\n",
       "Contractor's yard/facility                  9\n",
       "Refinery                                    8\n",
       "Power plant                                 7\n",
       "Excavation, landfill                        6\n",
       "Tower, tank, storage ,elevator              6\n",
       "Shoreline development, dam, reservoir       2\n",
       "Name: Construction End Use, dtype: int64"
      ]
     },
     "execution_count": 13,
     "metadata": {},
     "output_type": "execute_result"
    }
   ],
   "source": [
    "df_drop['Construction End Use'].value_counts()"
   ]
  },
  {
   "cell_type": "code",
   "execution_count": 14,
   "metadata": {},
   "outputs": [
    {
     "data": {
      "text/plain": [
       "                              4252\n",
       "Under $50,000                  159\n",
       "$1,000,000 to $5,000,000       106\n",
       "$50,000 to $250,000             74\n",
       "$500,000 to $1,000,000          74\n",
       "$250,000 to $500,000            72\n",
       "$10,000,000 to $20,000,000      53\n",
       "$5,000,000 to $10,000,000       48\n",
       "Name: Project Cost, dtype: int64"
      ]
     },
     "execution_count": 14,
     "metadata": {},
     "output_type": "execute_result"
    }
   ],
   "source": [
    "df_drop['Project Cost'].value_counts()"
   ]
  },
  {
   "cell_type": "code",
   "execution_count": 15,
   "metadata": {},
   "outputs": [
    {
     "data": {
      "text/plain": [
       "0    4252\n",
       "A     159\n",
       "E     106\n",
       "B      74\n",
       "D      74\n",
       "C      72\n",
       "G      53\n",
       "F      48\n",
       "Name: proj_cost, dtype: int64"
      ]
     },
     "execution_count": 15,
     "metadata": {},
     "output_type": "execute_result"
    }
   ],
   "source": [
    "df_drop['proj_cost'].value_counts()"
   ]
  },
  {
   "cell_type": "code",
   "execution_count": 16,
   "metadata": {},
   "outputs": [
    {
     "data": {
      "text/plain": [
       "                                3760\n",
       "New project or new addition      566\n",
       "Alteration or rehabilitation     262\n",
       "Maintenance or repair            159\n",
       "Demolition                        49\n",
       "Other                             42\n",
       "Name: Project Type, dtype: int64"
      ]
     },
     "execution_count": 16,
     "metadata": {},
     "output_type": "execute_result"
    }
   ],
   "source": [
    "df_drop['Project Type'].value_counts()"
   ]
  },
  {
   "cell_type": "markdown",
   "metadata": {},
   "source": [
    "#### Dropping Unnecessary Columns"
   ]
  },
  {
   "cell_type": "markdown",
   "metadata": {},
   "source": [
    "Based on our inspection, we're dropping \"Construction End Use\" due to its minor relevance to accident severity. \"Project Cost\" and \"Project Type\" are removed because of data insufficiency. Other columns like 'nature_of_inj', 'part_of_body', 'event_type', 'evn_factor', 'hum_factor', and 'task_assigned' are eliminated due to redundancy, as they have categorical equivalents. We opt for categorical columns, anticipating they may yield simpler models with potentially superior or comparable performance to numerical columns. Accordingly, we drop these columns from our dataset."
   ]
  },
  {
   "cell_type": "code",
   "execution_count": 17,
   "metadata": {},
   "outputs": [],
   "source": [
    "# Creating a copy of the DataFrame\n",
    "df_clean = df_drop.copy()\n",
    "\n",
    "# Making the changes on df_clean\n",
    "df_clean.drop(columns=['Construction End Use', 'Project Type', 'con_end', 'proj_type','Building Stories', 'Project Cost', 'proj_cost', 'nature_of_inj', 'part_of_body', 'event_type', 'evn_factor', 'hum_factor', 'task_assigned' ],inplace=True)"
   ]
  },
  {
   "cell_type": "code",
   "execution_count": 18,
   "metadata": {},
   "outputs": [
    {
     "data": {
      "text/html": [
       "<div>\n",
       "<style scoped>\n",
       "    .dataframe tbody tr th:only-of-type {\n",
       "        vertical-align: middle;\n",
       "    }\n",
       "\n",
       "    .dataframe tbody tr th {\n",
       "        vertical-align: top;\n",
       "    }\n",
       "\n",
       "    .dataframe thead th {\n",
       "        text-align: right;\n",
       "    }\n",
       "</style>\n",
       "<table border=\"1\" class=\"dataframe\">\n",
       "  <thead>\n",
       "    <tr style=\"text-align: right;\">\n",
       "      <th></th>\n",
       "      <th>summary_nr</th>\n",
       "      <th>Event Date</th>\n",
       "      <th>Abstract Text</th>\n",
       "      <th>Event Description</th>\n",
       "      <th>Event Keywords</th>\n",
       "      <th>build_stor</th>\n",
       "      <th>Degree of Injury</th>\n",
       "      <th>Nature of Injury</th>\n",
       "      <th>Part of Body</th>\n",
       "      <th>Event type</th>\n",
       "      <th>Environmental Factor</th>\n",
       "      <th>Human Factor</th>\n",
       "      <th>Task Assigned</th>\n",
       "      <th>hazsub</th>\n",
       "      <th>fat_cause</th>\n",
       "      <th>fall_ht</th>\n",
       "    </tr>\n",
       "  </thead>\n",
       "  <tbody>\n",
       "    <tr>\n",
       "      <th>0</th>\n",
       "      <td>220982664</td>\n",
       "      <td>8/10/2017</td>\n",
       "      <td>At 9:00 a.m. on August 10, 2017, an employee w...</td>\n",
       "      <td>EMPLOYEE'S FINGERS AMPUTATED WHILE OPERATING A...</td>\n",
       "      <td>FINGER,MECHANICAL POWER PRESS,AMPUTATION,GUARD</td>\n",
       "      <td>0</td>\n",
       "      <td>Nonfatal</td>\n",
       "      <td>Amputation, Crushing</td>\n",
       "      <td>Fingers</td>\n",
       "      <td>Caught in or between</td>\n",
       "      <td>Catch Point/Puncture Action</td>\n",
       "      <td>Other</td>\n",
       "      <td>Regularly Assigned</td>\n",
       "      <td>0</td>\n",
       "      <td>0</td>\n",
       "      <td>0</td>\n",
       "    </tr>\n",
       "    <tr>\n",
       "      <th>1</th>\n",
       "      <td>220973937</td>\n",
       "      <td>7/17/2017</td>\n",
       "      <td>At 9:45 a.m. on July 17, 2017, an employee was...</td>\n",
       "      <td>EMPLOYEE'S FINGER IS CAUGHT IN DRILL AND IS AM...</td>\n",
       "      <td>CAUGHT IN,DRIVE SHAFT,RESIDENTIAL CONSTRUCTION...</td>\n",
       "      <td>1</td>\n",
       "      <td>Nonfatal</td>\n",
       "      <td>Dislocation</td>\n",
       "      <td>Fingers</td>\n",
       "      <td>Caught in or between</td>\n",
       "      <td>Other</td>\n",
       "      <td>Position Inappropriate For Task</td>\n",
       "      <td>Regularly Assigned</td>\n",
       "      <td>0</td>\n",
       "      <td>0</td>\n",
       "      <td>0</td>\n",
       "    </tr>\n",
       "    <tr>\n",
       "      <th>2</th>\n",
       "      <td>220967632</td>\n",
       "      <td>6/30/2017</td>\n",
       "      <td>At 7:30 a.m. on June 30, 2017, an employee was...</td>\n",
       "      <td>EMPLOYEE IS HOSPITALIZED AFTER BEING INJURED I...</td>\n",
       "      <td>AMPUTATED,EXPLOSION,FIREWORKS</td>\n",
       "      <td>0</td>\n",
       "      <td>Nonfatal</td>\n",
       "      <td>Fire Burn</td>\n",
       "      <td>Hand</td>\n",
       "      <td>Other</td>\n",
       "      <td>Other</td>\n",
       "      <td>Malfunction In Securing/Warning Op</td>\n",
       "      <td>Not Regularly Assigned</td>\n",
       "      <td>0</td>\n",
       "      <td>0</td>\n",
       "      <td>0</td>\n",
       "    </tr>\n",
       "    <tr>\n",
       "      <th>3</th>\n",
       "      <td>220969901</td>\n",
       "      <td>6/30/2017</td>\n",
       "      <td>At 2:00 p.m. on June 30, 2017, an employee was...</td>\n",
       "      <td>EMPLOYEE FALLS FROM ROOF AND IS INJURED</td>\n",
       "      <td>RIB,ROOF,HEAD,FALL PROTECTION,FALL,COLLARBONE,...</td>\n",
       "      <td>1</td>\n",
       "      <td>Fatal</td>\n",
       "      <td>Serious Fall/Strike</td>\n",
       "      <td>Head</td>\n",
       "      <td>Fall (from elevation)</td>\n",
       "      <td>Work-Surface/Facility-Layout Condition</td>\n",
       "      <td>Other</td>\n",
       "      <td>Regularly Assigned</td>\n",
       "      <td>0</td>\n",
       "      <td>15</td>\n",
       "      <td>0</td>\n",
       "    </tr>\n",
       "    <tr>\n",
       "      <th>4</th>\n",
       "      <td>220977748</td>\n",
       "      <td>6/23/2017</td>\n",
       "      <td>At 12:20 p.m. on June 23, 2017, an employee wa...</td>\n",
       "      <td>EMPLOYEE IS STRUCK BY PLYWOOD WHILE UNLOADING ...</td>\n",
       "      <td>STRUCK BY,TRUCK,BRAIN,NECK,FRACTURE,UNSTABLE LOAD</td>\n",
       "      <td>0</td>\n",
       "      <td>Nonfatal</td>\n",
       "      <td>Bruising, Contusion</td>\n",
       "      <td>Neck</td>\n",
       "      <td>Struck-by</td>\n",
       "      <td>Overhead Moving/Falling Object Action</td>\n",
       "      <td>Insufficient/Lack/Housekeeping Program</td>\n",
       "      <td>Regularly Assigned</td>\n",
       "      <td>0</td>\n",
       "      <td>0</td>\n",
       "      <td>0</td>\n",
       "    </tr>\n",
       "  </tbody>\n",
       "</table>\n",
       "</div>"
      ],
      "text/plain": [
       "   summary_nr Event Date                                      Abstract Text  \\\n",
       "0   220982664  8/10/2017  At 9:00 a.m. on August 10, 2017, an employee w...   \n",
       "1   220973937  7/17/2017  At 9:45 a.m. on July 17, 2017, an employee was...   \n",
       "2   220967632  6/30/2017  At 7:30 a.m. on June 30, 2017, an employee was...   \n",
       "3   220969901  6/30/2017  At 2:00 p.m. on June 30, 2017, an employee was...   \n",
       "4   220977748  6/23/2017  At 12:20 p.m. on June 23, 2017, an employee wa...   \n",
       "\n",
       "                                   Event Description  \\\n",
       "0  EMPLOYEE'S FINGERS AMPUTATED WHILE OPERATING A...   \n",
       "1  EMPLOYEE'S FINGER IS CAUGHT IN DRILL AND IS AM...   \n",
       "2  EMPLOYEE IS HOSPITALIZED AFTER BEING INJURED I...   \n",
       "3            EMPLOYEE FALLS FROM ROOF AND IS INJURED   \n",
       "4  EMPLOYEE IS STRUCK BY PLYWOOD WHILE UNLOADING ...   \n",
       "\n",
       "                                      Event Keywords  build_stor  \\\n",
       "0     FINGER,MECHANICAL POWER PRESS,AMPUTATION,GUARD           0   \n",
       "1  CAUGHT IN,DRIVE SHAFT,RESIDENTIAL CONSTRUCTION...           1   \n",
       "2                      AMPUTATED,EXPLOSION,FIREWORKS           0   \n",
       "3  RIB,ROOF,HEAD,FALL PROTECTION,FALL,COLLARBONE,...           1   \n",
       "4  STRUCK BY,TRUCK,BRAIN,NECK,FRACTURE,UNSTABLE LOAD           0   \n",
       "\n",
       "  Degree of Injury      Nature of Injury Part of Body             Event type  \\\n",
       "0         Nonfatal  Amputation, Crushing      Fingers   Caught in or between   \n",
       "1         Nonfatal           Dislocation      Fingers   Caught in or between   \n",
       "2         Nonfatal             Fire Burn         Hand                  Other   \n",
       "3            Fatal   Serious Fall/Strike         Head  Fall (from elevation)   \n",
       "4         Nonfatal   Bruising, Contusion         Neck              Struck-by   \n",
       "\n",
       "                     Environmental Factor  \\\n",
       "0             Catch Point/Puncture Action   \n",
       "1                                   Other   \n",
       "2                                   Other   \n",
       "3  Work-Surface/Facility-Layout Condition   \n",
       "4   Overhead Moving/Falling Object Action   \n",
       "\n",
       "                             Human Factor           Task Assigned hazsub  \\\n",
       "0                                   Other      Regularly Assigned      0   \n",
       "1         Position Inappropriate For Task      Regularly Assigned      0   \n",
       "2      Malfunction In Securing/Warning Op  Not Regularly Assigned      0   \n",
       "3                                   Other      Regularly Assigned      0   \n",
       "4  Insufficient/Lack/Housekeeping Program      Regularly Assigned      0   \n",
       "\n",
       "   fat_cause  fall_ht  \n",
       "0          0        0  \n",
       "1          0        0  \n",
       "2          0        0  \n",
       "3         15        0  \n",
       "4          0        0  "
      ]
     },
     "execution_count": 18,
     "metadata": {},
     "output_type": "execute_result"
    }
   ],
   "source": [
    "df_clean.head()"
   ]
  },
  {
   "cell_type": "markdown",
   "metadata": {},
   "source": [
    "#### Converting Date to datetime format"
   ]
  },
  {
   "cell_type": "markdown",
   "metadata": {},
   "source": [
    "Let convert the date column to a the datetime format."
   ]
  },
  {
   "cell_type": "code",
   "execution_count": 19,
   "metadata": {},
   "outputs": [],
   "source": [
    "# Converting date to datetime format\n",
    "df_clean['Event Date'] = pd.to_datetime(df_drop['Event Date'])"
   ]
  },
  {
   "cell_type": "markdown",
   "metadata": {},
   "source": [
    "#### Dropping Rows And Handling nan In 'hazsub'"
   ]
  },
  {
   "cell_type": "code",
   "execution_count": 20,
   "metadata": {},
   "outputs": [],
   "source": [
    "# Dropping rows where 'hazsub' contains non-numeric values\n",
    "df_clean = df_clean[pd.to_numeric(df_clean['hazsub'], errors='coerce').notna()]\n",
    "\n",
    "# Filling NaN values with default -999\n",
    "df_clean['hazsub'].fillna(-999, inplace=True)\n",
    "\n",
    "# Converting 'hazsub' to int64 type\n",
    "df_clean['hazsub'] = df_clean['hazsub'].astype('int64')"
   ]
  },
  {
   "cell_type": "markdown",
   "metadata": {},
   "source": [
    "#### Checking Class Distribution"
   ]
  },
  {
   "cell_type": "code",
   "execution_count": 45,
   "metadata": {},
   "outputs": [
    {
     "data": {
      "image/png": "[encoded data removed]",
      "text/plain": [
       "<Figure size 1008x432 with 1 Axes>"
      ]
     },
     "metadata": {
      "needs_background": "light"
     },
     "output_type": "display_data"
    }
   ],
   "source": [
    "# Getting value counts\n",
    "value_counts = df_clean['Degree of Injury'].value_counts()\n",
    "\n",
    "# Plotting\n",
    "plt.figure(figsize=(14,6))\n",
    "value_counts.plot(kind='bar', color= 'blue')\n",
    "plt.title('Distribution of Degree of Injury')\n",
    "plt.xlabel('Degree of Injury Encoded')\n",
    "plt.ylabel('Count')\n",
    "plt.xticks(rotation=0)\n",
    "plt.show()"
   ]
  },
  {
   "cell_type": "code",
   "execution_count": 22,
   "metadata": {},
   "outputs": [
    {
     "data": {
      "text/plain": [
       "Fatal       2954\n",
       "Nonfatal    1878\n",
       "Name: Degree of Injury, dtype: int64"
      ]
     },
     "execution_count": 22,
     "metadata": {},
     "output_type": "execute_result"
    }
   ],
   "source": [
    "value_counts"
   ]
  },
  {
   "cell_type": "markdown",
   "metadata": {},
   "source": [
    "The data exhibits a moderate class imbalance with 61% fatal injuries and 39% non-fatal. This skew can impact the model predictions. Depending on the baseline model evaluation, appropriate techniques will be employed to address this imbalance."
   ]
  },
  {
   "cell_type": "markdown",
   "metadata": {},
   "source": [
    "#####  Number of Incidents Over Time"
   ]
  },
  {
   "cell_type": "code",
   "execution_count": 23,
   "metadata": {},
   "outputs": [
    {
     "data": {
      "image/png": "[encoded data removed]",
      "text/plain": [
       "<Figure size 1080x504 with 1 Axes>"
      ]
     },
     "metadata": {
      "needs_background": "light"
     },
     "output_type": "display_data"
    }
   ],
   "source": [
    "# Counting the number of incidents on each date\n",
    "incidents_over_time = df_clean['Event Date'].value_counts().sort_index()\n",
    "\n",
    "# Plotting the time series data\n",
    "plt.figure(figsize=(15, 7))\n",
    "incidents_over_time.plot()\n",
    "plt.title('Number of Incidents Over Time')\n",
    "plt.xlabel('Date')\n",
    "plt.ylabel('Number of Incidents')\n",
    "plt.grid(True)\n",
    "plt.show()"
   ]
  },
  {
   "cell_type": "code",
   "execution_count": 24,
   "metadata": {},
   "outputs": [
    {
     "name": "stdout",
     "output_type": "stream",
     "text": [
      "Maximum number of incidents on a single day: 49 on 2017-04-10 00:00:00\n",
      "Minimum number of incidents on a single day (excluding zeros): 1 on 2015-07-05 00:00:00\n"
     ]
    }
   ],
   "source": [
    "# 1. The highest number of incidents on a single day.\n",
    "max_incidents = incidents_over_time.max()\n",
    "\n",
    "# 2. The date when the highest number of incidents occurred.\n",
    "date_max_incidents = incidents_over_time.idxmax()\n",
    "\n",
    "# 3. The lowest number of incidents on a single day (excluding days with zero incidents).\n",
    "min_incidents = incidents_over_time[incidents_over_time > 0].min()\n",
    "\n",
    "# 4. The date when the lowest number of incidents occurred (excluding days with zero incidents).\n",
    "date_min_incidents = incidents_over_time[incidents_over_time > 0].idxmin()\n",
    "\n",
    "# Printing the extracted values\n",
    "print(f\"Maximum number of incidents on a single day: {max_incidents} on {date_max_incidents}\")\n",
    "print(f\"Minimum number of incidents on a single day (excluding zeros): {min_incidents} on {date_min_incidents}\")\n"
   ]
  },
  {
   "cell_type": "code",
   "execution_count": 25,
   "metadata": {},
   "outputs": [],
   "source": [
    "# Extracting month and year from 'Event Date'\n",
    "df_clean['Year'] = df_clean['Event Date'].dt.year\n",
    "df_clean['Month'] = df_clean['Event Date'].dt.month"
   ]
  },
  {
   "cell_type": "code",
   "execution_count": 26,
   "metadata": {},
   "outputs": [
    {
     "data": {
      "image/png": "[encoded data removed]",
      "text/plain": [
       "<Figure size 1080x504 with 1 Axes>"
      ]
     },
     "metadata": {
      "needs_background": "light"
     },
     "output_type": "display_data"
    }
   ],
   "source": [
    "# Grouping by Year and Month to count incidents\n",
    "monthly_incidents = df_clean.groupby(['Year', 'Month']).size().reset_index(name='Incident_Count')\n",
    "\n",
    "# Plotting\n",
    "plt.figure(figsize=(15, 7))\n",
    "for year in monthly_incidents['Year'].unique():\n",
    "    subset = monthly_incidents[monthly_incidents['Year'] == year]\n",
    "    plt.plot(subset['Month'], subset['Incident_Count'], label=f'Year {year}', marker='o')\n",
    "\n",
    "plt.title('Number of Incidents Per Month')\n",
    "plt.xlabel('Month')\n",
    "plt.ylabel('Number of Incidents')\n",
    "plt.legend()\n",
    "plt.grid(True)\n",
    "plt.xticks(range(1, 13), ['Jan', 'Feb', 'Mar', 'Apr', 'May', 'Jun', 'Jul', 'Aug', 'Sep', 'Oct', 'Nov', 'Dec'])\n",
    "plt.show()"
   ]
  },
  {
   "cell_type": "markdown",
   "metadata": {},
   "source": [
    "The time series plots illustrate the frequency of incidents over time. Notably, the highest number of incidents on a single day was recorded as 49 on April 10, 2017. Conversely, the lowest count (excluding days with no incidents) was just a single incident on July 5, 2015. A notable trend observed is the increased frequency of accidents between January 2017 and April 2017, signifying this period as particularly incident-prone compared to other periods. It is imoprtant to notate that as time progresses, the likelihood of construction accident decreases."
   ]
  },
  {
   "cell_type": "markdown",
   "metadata": {},
   "source": [
    "## Model Selection and Evaluation"
   ]
  },
  {
   "cell_type": "markdown",
   "metadata": {},
   "source": [
    "In this section, we will explore a range of machine learning models to predict construction accident severity. Our goal is to identify the most effective model for this task and assess its performance."
   ]
  },
  {
   "cell_type": "markdown",
   "metadata": {},
   "source": [
    "#### Data Splitting"
   ]
  },
  {
   "cell_type": "markdown",
   "metadata": {},
   "source": [
    "We will split the data into training and test sets, reserving 20% of the data for testing, while ensuring that both sets have a similar distribution of our target classes, 'Fatal' and 'Nonfatal'.\n",
    "To evaluate the performance of our models, we'll employ cross-validation. This technique provides a more comprehensive assessment by using different portions of the data for training and validation.\n",
    "After determining the best model through cross-validation, we will then test its performance using the reserved test data. This final evaluation will give us insights into how our selected model is expected to perform on new, unseen data in real-world scenarios."
   ]
  },
  {
   "cell_type": "code",
   "execution_count": 27,
   "metadata": {},
   "outputs": [],
   "source": [
    "# Defining target and features\n",
    "X = df_clean.drop(columns=['Degree of Injury', 'Abstract Text', 'Event Description', 'Event Keywords', 'summary_nr'])\n",
    "y = df_clean['Degree of Injury']\n",
    "\n",
    "# Converting target into binary labels\n",
    "y = y.map({'Nonfatal': 0, 'Fatal': 1})\n",
    "\n",
    "# Splitting the data into training and test sets\n",
    "X_train, X_test, y_train, y_test = train_test_split(X, y, test_size=0.2, random_state=42, stratify=y)"
   ]
  },
  {
   "cell_type": "markdown",
   "metadata": {},
   "source": [
    "#### Encoding - Changing Categorical To Numerical."
   ]
  },
  {
   "cell_type": "code",
   "execution_count": 28,
   "metadata": {},
   "outputs": [],
   "source": [
    "# Encoding the 'Event Date' into 'Year', 'Month', and 'Day' for better suit in ML\n",
    "df_clean['Year'] = df_clean['Event Date'].dt.year\n",
    "df_clean['Month'] = df_clean['Event Date'].dt.month\n",
    "df_clean['Day'] = df_clean['Event Date'].dt.day\n",
    "\n",
    "df_clean = df_clean.drop('Event Date', axis=1)\n",
    "\n",
    "# Applying the ColumnTransformer to encode categorical and binary features\n",
    "X_train = X_train.drop(columns=['Event Date'])\n",
    "X_test = X_test.drop(columns=['Event Date'])\n",
    "\n",
    "categorical_features = [\"Nature of Injury\", \"Part of Body\", \"Event type\", \"Environmental Factor\", \"Human Factor\"]\n",
    "binary_features = [\"Task Assigned\"]\n",
    "\n",
    "preprocessor = ColumnTransformer(\n",
    "    transformers=[\n",
    "        ('onehot', OneHotEncoder(drop=None, sparse=False, handle_unknown='ignore'), categorical_features),\n",
    "        ('binary', OrdinalEncoder(), binary_features)\n",
    "    ],\n",
    "    remainder='passthrough'\n",
    ")\n",
    "\n",
    "X_train_preprocessed = preprocessor.fit_transform(X_train)\n",
    "X_test_preprocessed = preprocessor.transform(X_test)"
   ]
  },
  {
   "cell_type": "markdown",
   "metadata": {},
   "source": [
    "### Baseline Model"
   ]
  },
  {
   "cell_type": "markdown",
   "metadata": {},
   "source": [
    "We begin the process of building a predictive model for construction accident severity. Our initial step is to create a baseline model using a subset of features, primarily numerical and categorical variables. This model will serve as a starting point for our analysis and allow us to establish a performance baseline."
   ]
  },
  {
   "cell_type": "code",
   "execution_count": 29,
   "metadata": {
    "scrolled": true
   },
   "outputs": [
    {
     "name": "stdout",
     "output_type": "stream",
     "text": [
      "Mean CV Accuracy: 0.9128072445019406\n",
      "Standard Deviation of CV Accuracy: 0.016252831849458627\n",
      "\n",
      "Mean Precision: 0.9286706591270246\n",
      "Standard Deviation of Precision: 0.015183863209412016\n",
      "\n",
      "Mean Recall: 0.9288986634177805\n",
      "Standard Deviation of Recall: 0.018093302740392704\n",
      "\n",
      "Mean F1-Score: 0.9286795413176885\n",
      "Standard Deviation of F1-Score: 0.01345212023160769\n",
      "\n",
      "Mean ROC-AUC: 0.9686962880110299\n",
      "Standard Deviation of ROC-AUC: 0.005308186573123093\n",
      "\n"
     ]
    }
   ],
   "source": [
    "# Scaling the data\n",
    "scaler = StandardScaler()\n",
    "X_train_scaled = scaler.fit_transform(X_train_preprocessed)\n",
    "\n",
    "# Creating a new logistic regression model\n",
    "lr_cv = LogisticRegression(random_state=42, max_iter=1000)\n",
    "\n",
    "# Using cross_val_score to get the performance metrics for each fold\n",
    "accuracies = cross_val_score(lr_cv, X_train_scaled, y_train, cv=5, scoring='accuracy')\n",
    "precision_scores = cross_val_score(lr_cv, X_train_scaled, y_train, cv=5, scoring='precision')\n",
    "recall_scores = cross_val_score(lr_cv, X_train_scaled, y_train, cv=5, scoring='recall')\n",
    "f1_scores = cross_val_score(lr_cv, X_train_scaled, y_train, cv=5, scoring='f1')\n",
    "roc_auc_scores = cross_val_score(lr_cv, X_train_scaled, y_train, cv=5, scoring='roc_auc')\n",
    "\n",
    "# Printing out the mean and standard deviation of the metrics\n",
    "print(f\"Mean CV Accuracy: {accuracies.mean()}\")\n",
    "print(f\"Standard Deviation of CV Accuracy: {accuracies.std()}\")\n",
    "print()\n",
    "\n",
    "print(\"Mean Precision:\", precision_scores.mean())\n",
    "print(\"Standard Deviation of Precision:\", precision_scores.std())\n",
    "print()\n",
    "\n",
    "print(\"Mean Recall:\", recall_scores.mean())\n",
    "print(\"Standard Deviation of Recall:\", recall_scores.std())\n",
    "print()\n",
    "\n",
    "print(\"Mean F1-Score:\", f1_scores.mean())\n",
    "print(\"Standard Deviation of F1-Score:\", f1_scores.std())\n",
    "print()\n",
    "\n",
    "print(\"Mean ROC-AUC:\", roc_auc_scores.mean())\n",
    "print(\"Standard Deviation of ROC-AUC:\", roc_auc_scores.std())\n",
    "print()"
   ]
  },
  {
   "cell_type": "markdown",
   "metadata": {},
   "source": [
    "The Logistic Regression model witohout data text features demonstrates strong performance on the training data, with an average accuracy of approximately 91.18%. The model showcases consistency across different metrics, with precision and recall values around 92.71% and 92.89% respectively, indicating a balanced identification of positive instances. The F1-Score further confirms this balance at about 92.79%. Notably, the ROC-AUC score, at 96.87%, highlights the model's robust capability to distinguish between positive and negative classes. These metrics, combined with their low standard deviations, suggest a reliable and effective model. "
   ]
  },
  {
   "cell_type": "markdown",
   "metadata": {},
   "source": [
    "### Incorporating text data into our machine learning model"
   ]
  },
  {
   "cell_type": "markdown",
   "metadata": {},
   "source": [
    "Text data, including the 'Abstract Text',  'Event Description' and 'Event Keywords' columns hold valuable information that can enhance the accuracy of our construction accident severity prediction model. In this section, we will explore the process of integrating natural language processing (NLP) techniques to leverage this textual information."
   ]
  },
  {
   "cell_type": "markdown",
   "metadata": {},
   "source": [
    "#####  Text Processing"
   ]
  },
  {
   "cell_type": "code",
   "execution_count": 48,
   "metadata": {},
   "outputs": [],
   "source": [
    "# Creating a combined_text column\n",
    "df_clean['combined_text'] = df_clean['Abstract Text'] + ' ' + df_clean['Event Description'] + ' ' + df_clean['Event Keywords']"
   ]
  },
  {
   "cell_type": "code",
   "execution_count": 49,
   "metadata": {},
   "outputs": [],
   "source": [
    "# Updating the features to include the new 'combined_text' column.\n",
    "X = df_clean.drop(columns=['Degree of Injury'])"
   ]
  },
  {
   "cell_type": "code",
   "execution_count": 50,
   "metadata": {},
   "outputs": [],
   "source": [
    "# Performing a new train-test split with the updates.\n",
    "X_train, X_test, y_train, y_test = train_test_split(X, y, test_size=0.2, random_state=42, stratify=y)"
   ]
  },
  {
   "cell_type": "code",
   "execution_count": 51,
   "metadata": {},
   "outputs": [],
   "source": [
    "# Converting the combined text into a matrix of TF-IDF features.\n",
    "tfidf = TfidfVectorizer(max_features=5000, stop_words='english') \n",
    "X_text_tfidf_train = tfidf.fit_transform(X_train['combined_text'])\n",
    "X_text_tfidf_test = tfidf.transform(X_test['combined_text'])"
   ]
  },
  {
   "cell_type": "code",
   "execution_count": 52,
   "metadata": {},
   "outputs": [],
   "source": [
    "# Concatenating the TF-IDF vectors with the previously preprocessed data\n",
    "X_train_full = hstack([X_train_preprocessed, X_text_tfidf_train])\n",
    "X_test_full = hstack([X_test_preprocessed, X_text_tfidf_test])"
   ]
  },
  {
   "cell_type": "markdown",
   "metadata": {},
   "source": [
    "#####  Modeling"
   ]
  },
  {
   "cell_type": "code",
   "execution_count": 54,
   "metadata": {},
   "outputs": [
    {
     "name": "stdout",
     "output_type": "stream",
     "text": [
      "Mean CV Accuracy with Text Data: 0.9552393272962483\n",
      "Standard Deviation of CV Accuracy with Text Data: 0.0072537364910096784\n",
      "\n",
      "Mean Precision with Text Data: 0.9536312468491787\n",
      "Standard Deviation of Precision with Text Data: 0.006137781604602111\n",
      "\n",
      "Mean Recall with Text Data: 0.974191959006701\n",
      "Standard Deviation of Recall with Text Data: 0.009482536840654728\n",
      "\n",
      "Mean F1-Score with Text Data: 0.9637732531285247\n",
      "Standard Deviation of F1-Score with Text Data: 0.0059498723011317\n",
      "\n",
      "Mean ROC-AUC with Text Data: 0.9825400676054992\n",
      "Standard Deviation of ROC-AUC with Text Data: 0.002371480047564496\n"
     ]
    }
   ],
   "source": [
    "# Scaling the data\n",
    "scaler = StandardScaler(with_mean=False)  \n",
    "X_train_scaled_full = scaler.fit_transform(X_train_full)\n",
    "X_test_scaled_full = scaler.transform(X_test_full)\n",
    "\n",
    "# Creating a new logistic regression model\n",
    "lr_cv_full = LogisticRegression(random_state=42, max_iter=5000)\n",
    "\n",
    "# Using cross_val_score to get the performance metrics for each fold\n",
    "accuracies_full = cross_val_score(lr_cv_full, X_train_scaled_full, y_train, cv=5, scoring='accuracy')\n",
    "precision_scores_full = cross_val_score(lr_cv_full, X_train_scaled_full, y_train, cv=5, scoring='precision')\n",
    "recall_scores_full = cross_val_score(lr_cv_full, X_train_scaled_full, y_train, cv=5, scoring='recall')\n",
    "f1_scores_full = cross_val_score(lr_cv_full, X_train_scaled_full, y_train, cv=5, scoring='f1')\n",
    "roc_auc_scores_full = cross_val_score(lr_cv_full, X_train_scaled_full, y_train, cv=5, scoring='roc_auc')\n",
    "\n",
    "# Printing out the mean and standard deviation of the metrics\n",
    "print(f\"Mean CV Accuracy with Text Data: {accuracies_full.mean()}\")\n",
    "print(f\"Standard Deviation of CV Accuracy with Text Data: {accuracies_full.std()}\")\n",
    "print()\n",
    "\n",
    "print(\"Mean Precision with Text Data:\", precision_scores_full.mean())\n",
    "print(\"Standard Deviation of Precision with Text Data:\", precision_scores_full.std())\n",
    "print()\n",
    "\n",
    "print(\"Mean Recall with Text Data:\", recall_scores_full.mean())\n",
    "print(\"Standard Deviation of Recall with Text Data:\", recall_scores_full.std())\n",
    "print()\n",
    "\n",
    "print(\"Mean F1-Score with Text Data:\", f1_scores_full.mean())\n",
    "print(\"Standard Deviation of F1-Score with Text Data:\", f1_scores_full.std())\n",
    "print()\n",
    "\n",
    "print(\"Mean ROC-AUC with Text Data:\", roc_auc_scores_full.mean())\n",
    "print(\"Standard Deviation of ROC-AUC with Text Data:\", roc_auc_scores_full.std())"
   ]
  },
  {
   "cell_type": "markdown",
   "metadata": {},
   "source": [
    "The refined model, which integrates text data, displays a remarkable performance with a mean accuracy of 95.52%. This means that for approximately 96 out of every 100 construction accidents, the model aptly predicts the degree of injury. Boasting an F1-score of 0.9638, the model strikes a harmonious balance between precision (95.36%) and recall (97.42%). This balance suggests a reduced number of incorrect predictions. Moreover, an ROC-AUC score of 0.9825 reiterates the model's stellar ability to discern between fatal and nonfatal incidents.\n",
    "\n",
    "In comparison with the earlier model, which overlooked text data, integrating textual features has clearly uplifted its predictive prowess. The accuracy jumped from 91.28% to 95.52%. Both precision and recall witnessed substantial improvements, leading to fewer misclassifications. The escalation of the F1-score from 0.9287 to 0.9638 highlights the benefits of embracing text data in the modeling process. Furthermore, the ROC-AUC score, previously impressive at 0.9687, has now soared to an even higher benchmark of 0.9825, emphasizing the enhanced capabilities of this iteration in distinguishing between classes."
   ]
  },
  {
   "cell_type": "markdown",
   "metadata": {},
   "source": [
    "#### Model Refinement with Custom Stopwords"
   ]
  },
  {
   "cell_type": "code",
   "execution_count": 58,
   "metadata": {},
   "outputs": [
    {
     "name": "stdout",
     "output_type": "stream",
     "text": [
      "employee 402.61017183237203\n",
      "struck 150.08970025245196\n",
      "killed 149.93605155343164\n",
      "fall 129.53999078194965\n",
      "truck 118.22379667804874\n",
      "ladder 113.685238773136\n",
      "head 106.11147478195022\n",
      "roof 95.2017880518533\n",
      "finger 94.45826329766749\n",
      "fell 87.79429787730047\n",
      "2017 87.08167057352006\n",
      "2016 84.66891222195535\n",
      "caught 83.36828699233527\n",
      "approximately 83.05925311340012\n",
      "machine 82.843419865885\n",
      "vehicle 78.0938426006613\n",
      "tree 76.80680839648355\n",
      "00 73.98701038674578\n",
      "30 73.29747025078105\n",
      "crushed 72.68120193056782\n",
      "falls 64.99488830042999\n",
      "trailer 64.55316481014567\n",
      "hand 61.597023836909564\n",
      "feet 60.23932338311165\n",
      "heart 59.83075850378817\n",
      "hospitalized 57.790349685569836\n",
      "injuries 56.57464393396251\n",
      "worker 55.53796706904291\n",
      "10 55.235590776555824\n",
      "amputated 55.206389879113466\n",
      "fracture 54.66930857296582\n",
      "floor 54.53203206121477\n",
      "forklift 54.48523113053902\n",
      "working 53.06883467762807\n",
      "attack 52.35845909597303\n",
      "leg 51.52425731551415\n",
      "15 51.20567038036774\n",
      "concrete 50.85225156316009\n",
      "2015 50.49041760534149\n",
      "saw 50.40623302991416\n",
      "falling 49.94873222370293\n",
      "scaffold 49.36767062710207\n",
      "right 49.051892235269676\n",
      "work 48.81626210653415\n",
      "died 48.71355752165211\n",
      "construction 47.67927322315816\n",
      "ground 46.9158562233688\n",
      "12 46.825748500550766\n",
      "left 46.80510609097507\n",
      "march 46.191878220446995\n"
     ]
    }
   ],
   "source": [
    "# TF-IDF Feature Extraction\n",
    "# Getting the sum of each word's TF-IDF score across all documents\n",
    "sum_tfidf = X_text_tfidf_train.sum(axis=0) \n",
    "\n",
    "# Converting the sum to an array and match it with words\n",
    "words_freq = [(word, sum_tfidf[0, idx]) for word, idx in tfidf.vocabulary_.items()]\n",
    "words_freq = sorted(words_freq, key = lambda x: x[1], reverse=True)\n",
    "\n",
    "# Displaying the top 50 words\n",
    "for word, freq in words_freq[:50]: \n",
    "    print(word, freq)"
   ]
  },
  {
   "cell_type": "code",
   "execution_count": 63,
   "metadata": {},
   "outputs": [],
   "source": [
    "#Text Processing\n",
    "# Creating a severity-related words list to stopwords\n",
    "severity_stopwords = [\"killed\", \"died\", \"dead\"]\n",
    "custom_stopwords = text.ENGLISH_STOP_WORDS.union(severity_stopwords)\n",
    "\n",
    "# Creating the combined_text column\n",
    "df_clean['combined_text'] = df_clean['Abstract Text'] + ' ' + df_clean['Event Description'] + ' ' + df_clean['Event Keywords']\n",
    "\n",
    "# Updating the features to include the new 'combined_text' column.\n",
    "X = df_clean.drop(columns=['Degree of Injury'])\n",
    "\n",
    "# Performing a new train-test split with the updates.\n",
    "X_train, X_test, y_train, y_test = train_test_split(X, y, test_size=0.2, random_state=42, stratify=y)\n",
    "\n",
    "# Converting the combined text into a matrix of TF-IDF features with custom stopwords\n",
    "tfidf = TfidfVectorizer(max_features=5000, stop_words=custom_stopwords) \n",
    "X_text_tfidf_train = tfidf.fit_transform(X_train['combined_text'])\n",
    "X_text_tfidf_test = tfidf.transform(X_test['combined_text'])\n",
    "\n",
    "# Concatenating the TF-IDF vectors with the previously preprocessed data\n",
    "X_train_full = hstack([X_train_preprocessed, X_text_tfidf_train])\n",
    "X_test_full = hstack([X_test_preprocessed, X_text_tfidf_test])"
   ]
  },
  {
   "cell_type": "code",
   "execution_count": 64,
   "metadata": {},
   "outputs": [
    {
     "name": "stdout",
     "output_type": "stream",
     "text": [
      "Mean CV Accuracy with Text Data: 0.9464424320827943\n",
      "Standard Deviation of CV Accuracy with Text Data: 0.007066753057566692\n",
      "\n",
      "Mean Precision with Text Data: 0.9458329458851604\n",
      "Standard Deviation of Precision with Text Data: 0.0035899054043636953\n",
      "\n",
      "Mean Recall with Text Data: 0.9678449851291792\n",
      "Standard Deviation of Recall with Text Data: 0.011445615624022772\n",
      "\n",
      "Mean F1-Score with Text Data: 0.9566760071232542\n",
      "Standard Deviation of F1-Score with Text Data: 0.005926043104477414\n",
      "\n",
      "Mean ROC-AUC with Text Data: 0.978534774514672\n",
      "Standard Deviation of ROC-AUC with Text Data: 0.003299299272890772\n"
     ]
    }
   ],
   "source": [
    "# Modeling\n",
    "# Scaling the data\n",
    "scaler = StandardScaler(with_mean=False)  \n",
    "X_train_scaled_full = scaler.fit_transform(X_train_full)\n",
    "X_test_scaled_full = scaler.transform(X_test_full)\n",
    "\n",
    "# Creating a new logistic regression model\n",
    "lr_cv_full = LogisticRegression(random_state=42, max_iter=5000)\n",
    "\n",
    "# Using cross_val_score to get the performance metrics for each fold\n",
    "accuracies_full = cross_val_score(lr_cv_full, X_train_scaled_full, y_train, cv=5, scoring='accuracy')\n",
    "precision_scores_full = cross_val_score(lr_cv_full, X_train_scaled_full, y_train, cv=5, scoring='precision')\n",
    "recall_scores_full = cross_val_score(lr_cv_full, X_train_scaled_full, y_train, cv=5, scoring='recall')\n",
    "f1_scores_full = cross_val_score(lr_cv_full, X_train_scaled_full, y_train, cv=5, scoring='f1')\n",
    "roc_auc_scores_full = cross_val_score(lr_cv_full, X_train_scaled_full, y_train, cv=5, scoring='roc_auc')\n",
    "\n",
    "# Printing out the mean and standard deviation of the metrics\n",
    "print(f\"Mean CV Accuracy with Text Data: {accuracies_full.mean()}\")\n",
    "print(f\"Standard Deviation of CV Accuracy with Text Data: {accuracies_full.std()}\")\n",
    "print()\n",
    "\n",
    "print(\"Mean Precision with Text Data:\", precision_scores_full.mean())\n",
    "print(\"Standard Deviation of Precision with Text Data:\", precision_scores_full.std())\n",
    "print()\n",
    "\n",
    "print(\"Mean Recall with Text Data:\", recall_scores_full.mean())\n",
    "print(\"Standard Deviation of Recall with Text Data:\", recall_scores_full.std())\n",
    "print()\n",
    "\n",
    "print(\"Mean F1-Score with Text Data:\", f1_scores_full.mean())\n",
    "print(\"Standard Deviation of F1-Score with Text Data:\", f1_scores_full.std())\n",
    "print()\n",
    "\n",
    "print(\"Mean ROC-AUC with Text Data:\", roc_auc_scores_full.mean())\n",
    "print(\"Standard Deviation of ROC-AUC with Text Data:\", roc_auc_scores_full.std())"
   ]
  },
  {
   "cell_type": "markdown",
   "metadata": {},
   "source": [
    "While comparing the two models, the differences in performance metrics are not substantial. Although the model with all words exhibits marginally better results across all metrics, the deviation is relatively slight. For the sake of maintaining transparency in our predictions and understanding the factors influencing the severity determination, we have decided to continue working with the model that includes all words. This approach ensures a comprehensive utilization of the data and promotes a more transparent modeling process."
   ]
  },
  {
   "cell_type": "markdown",
   "metadata": {},
   "source": [
    "For future enhancements, we plan to explore the Random Forest algorithm. Renowned for its robustness, Random Forest may offer better results by effectively leveraging both structured and unstructured features present in our dataset."
   ]
  },
  {
   "cell_type": "markdown",
   "metadata": {},
   "source": [
    "### Random Forest Model "
   ]
  },
  {
   "cell_type": "code",
   "execution_count": 66,
   "metadata": {},
   "outputs": [
    {
     "name": "stdout",
     "output_type": "stream",
     "text": [
      "Mean CV Accuracy with Random Forest and Text Data: 0.9570504527813712\n",
      "Standard Deviation of CV Accuracy with Random Forest and Text Data: 0.012972782547706804\n",
      "\n",
      "Mean Precision with Random Forest and Text Data: 0.9541853657716051\n",
      "Standard Deviation of Precision with Random Forest and Text Data: 0.012040772773372321\n",
      "\n",
      "Mean Recall with Random Forest and Text Data: 0.9767307485577096\n",
      "Standard Deviation of Recall with Random Forest and Text Data: 0.011260021942154941\n",
      "\n",
      "Mean F1-Score with Random Forest and Text Data: 0.965299163522117\n",
      "Standard Deviation of F1-Score with Random Forest and Text Data: 0.010455954374079193\n",
      "\n",
      "Mean ROC-AUC with Random Forest and Text Data: 0.986558699216957\n",
      "Standard Deviation of ROC-AUC with Random Forest and Text Data: 0.004066816178057533\n"
     ]
    }
   ],
   "source": [
    "# Creating a new Random Forest classifier\n",
    "rf_cv_full = RandomForestClassifier(random_state=42, n_estimators=100)\n",
    "\n",
    "# Using cross_val_score to get the performance metrics for each fold\n",
    "accuracies_rf_full = cross_val_score(rf_cv_full, X_train_scaled_full, y_train, cv=5, scoring='accuracy')\n",
    "precision_scores_rf_full = cross_val_score(rf_cv_full, X_train_scaled_full, y_train, cv=5, scoring='precision')\n",
    "recall_scores_rf_full = cross_val_score(rf_cv_full, X_train_scaled_full, y_train, cv=5, scoring='recall')\n",
    "f1_scores_rf_full = cross_val_score(rf_cv_full, X_train_scaled_full, y_train, cv=5, scoring='f1')\n",
    "roc_auc_scores_rf_full = cross_val_score(rf_cv_full, X_train_scaled_full, y_train, cv=5, scoring='roc_auc')\n",
    "\n",
    "# Printing out the mean and standard deviation of the metrics\n",
    "print(f\"Mean CV Accuracy with Random Forest and Text Data: {accuracies_rf_full.mean()}\")\n",
    "print(f\"Standard Deviation of CV Accuracy with Random Forest and Text Data: {accuracies_rf_full.std()}\")\n",
    "print()\n",
    "print(f\"Mean Precision with Random Forest and Text Data: {precision_scores_rf_full.mean()}\")\n",
    "print(f\"Standard Deviation of Precision with Random Forest and Text Data: {precision_scores_rf_full.std()}\")\n",
    "print()\n",
    "print(f\"Mean Recall with Random Forest and Text Data: {recall_scores_rf_full.mean()}\")\n",
    "print(f\"Standard Deviation of Recall with Random Forest and Text Data: {recall_scores_rf_full.std()}\")\n",
    "print()\n",
    "print(f\"Mean F1-Score with Random Forest and Text Data: {f1_scores_rf_full.mean()}\")\n",
    "print(f\"Standard Deviation of F1-Score with Random Forest and Text Data: {f1_scores_rf_full.std()}\")\n",
    "print()\n",
    "print(f\"Mean ROC-AUC with Random Forest and Text Data: {roc_auc_scores_rf_full.mean()}\")\n",
    "print(f\"Standard Deviation of ROC-AUC with Random Forest and Text Data: {roc_auc_scores_rf_full.std()}\")"
   ]
  },
  {
   "cell_type": "markdown",
   "metadata": {},
   "source": [
    "The Random Forest model shows a slight edge in all metrics compared to our logistic regression model. However, its performance seems to vary a bit more across different data folds, as indicated by the slightly higher standard deviations."
   ]
  },
  {
   "cell_type": "markdown",
   "metadata": {},
   "source": [
    "### XGB"
   ]
  },
  {
   "cell_type": "code",
   "execution_count": 69,
   "metadata": {
    "scrolled": false
   },
   "outputs": [
    {
     "name": "stdout",
     "output_type": "stream",
     "text": [
      "Mean CV Accuracy with XGBoost: 0.9611901681759379\n",
      "Mean CV Precision with XGBoost: 0.9612257454982558\n",
      "Mean CV Recall with XGBoost: 0.9758814992654173\n",
      "Mean CV F1-Score with XGBoost: 0.9684866573657702\n",
      "Mean CV ROC-AUC with XGBoost: 0.9858053526423648\n"
     ]
    }
   ],
   "source": [
    "# Defining the model\n",
    "xgb_classifier = xgb.XGBClassifier(objective='binary:logistic', random_state=42)\n",
    "\n",
    "# Training the model\n",
    "xgb_classifier.fit(X_train_scaled_full, y_train)\n",
    "\n",
    "# Cross-validation\n",
    "xgb_accuracies = cross_val_score(xgb_classifier, X_train_scaled_full, y_train, cv=5, scoring='accuracy')\n",
    "xgb_precision = cross_val_score(xgb_classifier, X_train_scaled_full, y_train, cv=5, scoring='precision')\n",
    "xgb_recall = cross_val_score(xgb_classifier, X_train_scaled_full, y_train, cv=5, scoring='recall')\n",
    "xgb_f1 = cross_val_score(xgb_classifier, X_train_scaled_full, y_train, cv=5, scoring='f1')\n",
    "xgb_roc_auc = cross_val_score(xgb_classifier, X_train_scaled_full, y_train, cv=5, scoring='roc_auc')\n",
    "\n",
    "# Printing metrics\n",
    "print(\"Mean CV Accuracy with XGBoost:\", xgb_accuracies.mean())\n",
    "print(\"Mean CV Precision with XGBoost:\", xgb_precision.mean())\n",
    "print(\"Mean CV Recall with XGBoost:\", xgb_recall.mean())\n",
    "print(\"Mean CV F1-Score with XGBoost:\", xgb_f1.mean())\n",
    "print(\"Mean CV ROC-AUC with XGBoost:\", xgb_roc_auc.mean())"
   ]
  },
  {
   "cell_type": "markdown",
   "metadata": {},
   "source": [
    "### Stacking Ensemble Method"
   ]
  },
  {
   "cell_type": "code",
   "execution_count": 73,
   "metadata": {},
   "outputs": [],
   "source": [
    "kf = StratifiedKFold(n_splits=5, shuffle=True, random_state=42)\n",
    "\n",
    "# Placeholder for out-of-fold predictions\n",
    "oof_lr = np.zeros(X_train_scaled_full.shape[0])\n",
    "oof_rf = np.zeros(X_train_scaled_full.shape[0])\n",
    "oof_xgb = np.zeros(X_train_scaled_full.shape[0])\n"
   ]
  },
  {
   "cell_type": "code",
   "execution_count": 74,
   "metadata": {},
   "outputs": [],
   "source": [
    "for train_index, valid_index in kf.split(X_train_scaled_full, y_train):\n",
    "    X_train_fold, X_valid_fold = X_train_scaled_full[train_index], X_train_scaled_full[valid_index]\n",
    "    y_train_fold, y_valid_fold = y_train.iloc[train_index], y_train.iloc[valid_index]\n",
    "\n",
    "    # Train Logistic Regression and predict on the validation set\n",
    "    lr_cv_full.fit(X_train_fold, y_train_fold)\n",
    "    oof_lr[valid_index] = lr_cv_full.predict_proba(X_valid_fold)[:, 1]\n",
    "\n",
    "    # Train Random Forest and predict on the validation set\n",
    "    rf_cv_full.fit(X_train_fold, y_train_fold)\n",
    "    oof_rf[valid_index] = rf_cv_full.predict_proba(X_valid_fold)[:, 1]\n",
    "\n",
    "    # Train XGBoost and predict on the validation set\n",
    "    xgb_classifier.fit(X_train_fold, y_train_fold)\n",
    "    oof_xgb[valid_index] = xgb_classifier.predict_proba(X_valid_fold)[:, 1]"
   ]
  },
  {
   "cell_type": "code",
   "execution_count": 76,
   "metadata": {},
   "outputs": [
    {
     "data": {
      "text/plain": [
       "LogisticRegression(C=1.0, class_weight=None, dual=False, fit_intercept=True,\n",
       "                   intercept_scaling=1, l1_ratio=None, max_iter=100,\n",
       "                   multi_class='auto', n_jobs=None, penalty='l2',\n",
       "                   random_state=42, solver='lbfgs', tol=0.0001, verbose=0,\n",
       "                   warm_start=False)"
      ]
     },
     "execution_count": 76,
     "metadata": {},
     "output_type": "execute_result"
    }
   ],
   "source": [
    "# Combining OOF predictions to serve as new features\n",
    "stacked_features_train = np.column_stack((oof_lr, oof_rf, oof_xgb))\n",
    "\n",
    "# Training a meta-model on the stacked features\n",
    "meta_model = LogisticRegression(random_state=42)\n",
    "meta_model.fit(stacked_features_train, y_train)"
   ]
  },
  {
   "cell_type": "code",
   "execution_count": 77,
   "metadata": {},
   "outputs": [
    {
     "name": "stdout",
     "output_type": "stream",
     "text": [
      "Mean CV Accuracy of Stacked Model: 0.9671410090556275\n",
      "Standard Deviation of CV Accuracy of Stacked Model: 0.005703857098330814\n",
      "\n",
      "Mean CV Precision of Stacked Model: 0.9674436512460872\n",
      "Standard Deviation of CV Precision of Stacked Model: 0.007479086491231813\n",
      "\n",
      "Mean CV Recall of Stacked Model: 0.9792623714480237\n",
      "Standard Deviation of CV Recall of Stacked Model: 0.0028177892476546457\n",
      "\n",
      "Mean CV F1-Score of Stacked Model: 0.9733054140943272\n",
      "Standard Deviation of CV F1-Score of Stacked Model: 0.0045671115436201875\n",
      "\n",
      "Mean CV ROC-AUC of Stacked Model: 0.9888534400824506\n",
      "Standard Deviation of CV ROC-AUC of Stacked Model: 0.004453318232478614\n"
     ]
    }
   ],
   "source": [
    "# Cross-validation metrics for the meta-model\n",
    "accuracy_scores = cross_val_score(meta_model, stacked_features_train, y_train, cv=kf, scoring='accuracy')\n",
    "precision_scores = cross_val_score(meta_model, stacked_features_train, y_train, cv=kf, scoring='precision')\n",
    "recall_scores = cross_val_score(meta_model, stacked_features_train, y_train, cv=kf, scoring='recall')\n",
    "f1_scores = cross_val_score(meta_model, stacked_features_train, y_train, cv=kf, scoring='f1')\n",
    "roc_auc_scores = cross_val_score(meta_model, stacked_features_train, y_train, cv=kf, scoring='roc_auc')\n",
    "\n",
    "# Printing out the performance metrics\n",
    "print(f\"Mean CV Accuracy of Stacked Model: {accuracy_scores.mean()}\")\n",
    "print(f\"Standard Deviation of CV Accuracy of Stacked Model: {accuracy_scores.std()}\")\n",
    "print()\n",
    "print(f\"Mean CV Precision of Stacked Model: {precision_scores.mean()}\")\n",
    "print(f\"Standard Deviation of CV Precision of Stacked Model: {precision_scores.std()}\")\n",
    "print()\n",
    "print(f\"Mean CV Recall of Stacked Model: {recall_scores.mean()}\")\n",
    "print(f\"Standard Deviation of CV Recall of Stacked Model: {recall_scores.std()}\")\n",
    "print()\n",
    "print(f\"Mean CV F1-Score of Stacked Model: {f1_scores.mean()}\")\n",
    "print(f\"Standard Deviation of CV F1-Score of Stacked Model: {f1_scores.std()}\")\n",
    "print()\n",
    "print(f\"Mean CV ROC-AUC of Stacked Model: {roc_auc_scores.mean()}\")\n",
    "print(f\"Standard Deviation of CV ROC-AUC of Stacked Model: {roc_auc_scores.std()}\")"
   ]
  },
  {
   "cell_type": "markdown",
   "metadata": {},
   "source": [
    "The stacked ensemble model has outperformed the other models in all of the metrics. This showcases the power of ensemble methods.\n",
    "\n",
    "The standard deviations for the individual models and the ensemble indicate that the models' performances are consistent across different folds of the cross-validation. Still, the ensemble method's slightly improved metrics demonstrate the effectiveness of combining the strengths of different models to counteract their individual weaknesses."
   ]
  },
  {
   "cell_type": "markdown",
   "metadata": {},
   "source": [
    "#### Hyperparameter Tuning Using GridSearchCV"
   ]
  },
  {
   "cell_type": "code",
   "execution_count": 82,
   "metadata": {},
   "outputs": [
    {
     "name": "stdout",
     "output_type": "stream",
     "text": [
      "Fitting 5 folds for each of 5 candidates, totalling 25 fits\n"
     ]
    },
    {
     "name": "stderr",
     "output_type": "stream",
     "text": [
      "[Parallel(n_jobs=-1)]: Using backend LokyBackend with 12 concurrent workers.\n",
      "[Parallel(n_jobs=-1)]: Done  25 out of  25 | elapsed:  1.8min finished\n"
     ]
    },
    {
     "name": "stdout",
     "output_type": "stream",
     "text": [
      "Best parameters for stacked model:  {'final_estimator__C': 0.1, 'final_estimator__penalty': 'l2', 'final_estimator__solver': 'lbfgs'}\n",
      "Best cross-validation score for stacked model: 0.97\n"
     ]
    }
   ],
   "source": [
    "# Base models\n",
    "estimators = [\n",
    "    ('lr', lr_cv_full),  \n",
    "    ('rf', rf_cv_full),\n",
    "    ('xgb', xgb_classifier)\n",
    "]\n",
    "\n",
    "# Stacking Classifier\n",
    "stacked_model = StackingClassifier(estimators=estimators, final_estimator=LogisticRegression(random_state=42))\n",
    "\n",
    "# Parameter grid for the meta-model (logistic regression)\n",
    "param_grid = {\n",
    "    'final_estimator__C': [0.01, 0.1, 1, 10, 100],\n",
    "    'final_estimator__penalty': ['l2'],  # 'l1' penalty is not supported by the 'lbfgs' solver by default.\n",
    "    'final_estimator__solver': ['lbfgs']  # Default solver for LogisticRegression\n",
    "}\n",
    "\n",
    "# Grid Search setup\n",
    "kf = StratifiedKFold(n_splits=5, shuffle=True, random_state=42)\n",
    "grid_search = GridSearchCV(stacked_model, param_grid, cv=kf, scoring='accuracy', verbose=1, n_jobs=-1)\n",
    "grid_search.fit(X_train_scaled_full, y_train)\n",
    "\n",
    "# Results\n",
    "print(\"Best parameters for stacked model: \", grid_search.best_params_)\n",
    "print(\"Best cross-validation score for stacked model: {:.2f}\".format(grid_search.best_score_))"
   ]
  },
  {
   "cell_type": "code",
   "execution_count": 83,
   "metadata": {},
   "outputs": [
    {
     "name": "stdout",
     "output_type": "stream",
     "text": [
      "Mean CV Accuracy of Best Stacked Model: 0.9668822768434671\n",
      "Standard Deviation of CV Accuracy of Best Stacked Model: 0.005585260839566062\n",
      "\n",
      "Mean CV Precision of Best Stacked Model: 0.9654615236500457\n",
      "Standard Deviation of CV Precision of Best Stacked Model: 0.0062650748038400525\n",
      "\n",
      "Mean CV Recall of Best Stacked Model: 0.9809554950370873\n",
      "Standard Deviation of CV Recall of Best Stacked Model: 0.0037889973953176724\n",
      "\n",
      "Mean CV F1-Score of Best Stacked Model: 0.9731398030304463\n",
      "Standard Deviation of CV F1-Score of Best Stacked Model: 0.004490936601803156\n",
      "\n",
      "Mean CV ROC-AUC of Best Stacked Model: 0.9889041510322552\n",
      "Standard Deviation of CV ROC-AUC of Best Stacked Model: 0.004435955082431837\n"
     ]
    }
   ],
   "source": [
    "from sklearn.model_selection import cross_val_score\n",
    "\n",
    "best_stacked_model = grid_search.best_estimator_\n",
    "\n",
    "# Cross-validated Accuracy\n",
    "accuracy_scores = cross_val_score(best_stacked_model, X_train_scaled_full, y_train, cv=kf, scoring='accuracy')\n",
    "\n",
    "# Cross-validated Precision\n",
    "precision_scores = cross_val_score(best_stacked_model, X_train_scaled_full, y_train, cv=kf, scoring='precision')\n",
    "\n",
    "# Cross-validated Recall\n",
    "recall_scores = cross_val_score(best_stacked_model, X_train_scaled_full, y_train, cv=kf, scoring='recall')\n",
    "\n",
    "# Cross-validated F1-Score\n",
    "f1_scores = cross_val_score(best_stacked_model, X_train_scaled_full, y_train, cv=kf, scoring='f1')\n",
    "\n",
    "# Cross-validated ROC-AUC\n",
    "roc_auc_scores = cross_val_score(best_stacked_model, X_train_scaled_full, y_train, cv=kf, scoring='roc_auc')\n",
    "\n",
    "# Printing out the performance metrics\n",
    "print(f\"Mean CV Accuracy of Best Stacked Model: {accuracy_scores.mean()}\")\n",
    "print(f\"Standard Deviation of CV Accuracy of Best Stacked Model: {accuracy_scores.std()}\")\n",
    "print()\n",
    "print(f\"Mean CV Precision of Best Stacked Model: {precision_scores.mean()}\")\n",
    "print(f\"Standard Deviation of CV Precision of Best Stacked Model: {precision_scores.std()}\")\n",
    "print()\n",
    "print(f\"Mean CV Recall of Best Stacked Model: {recall_scores.mean()}\")\n",
    "print(f\"Standard Deviation of CV Recall of Best Stacked Model: {recall_scores.std()}\")\n",
    "print()\n",
    "print(f\"Mean CV F1-Score of Best Stacked Model: {f1_scores.mean()}\")\n",
    "print(f\"Standard Deviation of CV F1-Score of Best Stacked Model: {f1_scores.std()}\")\n",
    "print()\n",
    "print(f\"Mean CV ROC-AUC of Best Stacked Model: {roc_auc_scores.mean()}\")\n",
    "print(f\"Standard Deviation of CV ROC-AUC of Best Stacked Model: {roc_auc_scores.std()}\")"
   ]
  },
  {
   "cell_type": "markdown",
   "metadata": {},
   "source": [
    "### Models Comparison"
   ]
  },
  {
   "cell_type": "code",
   "execution_count": 100,
   "metadata": {},
   "outputs": [],
   "source": [
    "# Converting result to a data frame\n",
    "data = {\n",
    "    'Model': [\"Logistic Regression\", \"Logistic Regression with Text\", \"Random Forest\", \"XGBoost\", \"Stacked\", \"Stacked (Tuned)\"],\n",
    "    \n",
    "    'Accuracy': [0.9128072445019406, 0.9552393272962483, 0.9570504527813712, 0.9611901681759379, 0.9671410090556275, 0.9668822768434671],\n",
    "    \n",
    "    'Precision': [0.9286706591270246, 0.9536312468491787, 0.9541853657716051, 0.9612257454982558, 0.9674436512460872, 0.9654615236500457],\n",
    "    \n",
    "    'Recall': [0.9288986634177805, 0.974191959006701, 0.9767307485577096, 0.9758814992654173, 0.9792623714480237, 0.9809554950370873],\n",
    "    \n",
    "    'F1-Score': [0.9286795413176885, 0.9637732531285247, 0.965299163522117, 0.9684866573657702, 0.9733054140943272, 0.9731398030304463],\n",
    "    \n",
    "    'ROC-AUC': [0.9686962880110299, 0.9825400676054992, 0.986558699216957, 0.9858053526423648, 0.9888534400824506, 0.9889041510322552]\n",
    "}\n",
    "\n",
    "models_result = pd.DataFrame(data)"
   ]
  },
  {
   "cell_type": "code",
   "execution_count": 126,
   "metadata": {
    "scrolled": false
   },
   "outputs": [
    {
     "data": {
      "image/png": "[encoded data removed]",
      "text/plain": [
       "<Figure size 1008x432 with 1 Axes>"
      ]
     },
     "metadata": {
      "needs_background": "light"
     },
     "output_type": "display_data"
    },
    {
     "data": {
      "image/png": "[encoded data removed]",
      "text/plain": [
       "<Figure size 1008x432 with 1 Axes>"
      ]
     },
     "metadata": {
      "needs_background": "light"
     },
     "output_type": "display_data"
    },
    {
     "data": {
      "image/png": "[encoded data removed]",
      "text/plain": [
       "<Figure size 1008x432 with 1 Axes>"
      ]
     },
     "metadata": {
      "needs_background": "light"
     },
     "output_type": "display_data"
    },
    {
     "data": {
      "image/png": "[encoded data removed]",
      "text/plain": [
       "<Figure size 1008x432 with 1 Axes>"
      ]
     },
     "metadata": {
      "needs_background": "light"
     },
     "output_type": "display_data"
    },
    {
     "data": {
      "image/png": "[encoded data removed]",
      "text/plain": [
       "<Figure size 1008x432 with 1 Axes>"
      ]
     },
     "metadata": {
      "needs_background": "light"
     },
     "output_type": "display_data"
    }
   ],
   "source": [
    "metrics = ['Accuracy', 'Precision', 'Recall', 'F1-Score', 'ROC-AUC']\n",
    "\n",
    "for metric in metrics:\n",
    "    plt.figure(figsize=(14, 6))\n",
    "    plt.bar(models_result['Model'], models_result[metric], color=['yellow', 'cyan', 'orange', 'magenta', 'blue', 'lightgreen']\n",
    ")\n",
    "    plt.title(f'{metric} Comparison among Models')\n",
    "    plt.ylabel(metric)\n",
    "    plt.xlabel('Model')\n",
    "    plt.xticks(rotation=90)\n",
    "    plt.ylim(min(models_result[metric]) - 0.01, max(models_result[metric]) + 0.01) \n",
    "    plt.show()"
   ]
  },
  {
   "cell_type": "markdown",
   "metadata": {},
   "source": [
    "The Stacked Models - both tuned and non-tuned - clearly stand out as the top performers in our evaluation. They consistently outpace the individual Logistic Regression, Random Forest, and XGBoost models across all metrics, underscoring the strength and effectiveness of ensemble stacking in leveraging the strengths of multiple models. While the differences between the stacked models and XGBoost are relatively marginal, the advantage still leans towards the stacked approach. Interestingly, when comparing the tuned stacked model against its non-tuned counterpart, the distinctions in performance metrics are minimal. However, taking into consideration the efficiency of the modeling process, as well as the slightly better precision of the non-tuned version, we've decided to proceed with the non-tuned Stacked Model for our subsequent tasks. This decision not only prioritizes model performance but also ensures a streamlined and efficient modeling process."
   ]
  },
  {
   "cell_type": "markdown",
   "metadata": {},
   "source": [
    "### Evaluating our best model in the testing data"
   ]
  },
  {
   "cell_type": "code",
   "execution_count": 134,
   "metadata": {},
   "outputs": [],
   "source": [
    "# Converting X_test_full from COO to CSR format to suit to XGBoost\n",
    "X_test_full_csr = X_test_full.tocsr()"
   ]
  },
  {
   "cell_type": "code",
   "execution_count": 135,
   "metadata": {},
   "outputs": [],
   "source": [
    "# Generating Test Predictions\n",
    "test_lr = lr_cv_full.predict_proba(X_test_full_csr)[:, 1]\n",
    "test_rf = rf_cv_full.predict_proba(X_test_full_csr)[:, 1]\n",
    "test_xgb = xgb_classifier.predict_proba(X_test_full_csr)[:, 1]"
   ]
  },
  {
   "cell_type": "code",
   "execution_count": 136,
   "metadata": {},
   "outputs": [],
   "source": [
    "# Stacking Test Predictions\n",
    "stacked_features_test = np.column_stack((test_lr, test_rf, test_xgb))"
   ]
  },
  {
   "cell_type": "code",
   "execution_count": 137,
   "metadata": {},
   "outputs": [
    {
     "name": "stdout",
     "output_type": "stream",
     "text": [
      "Test Accuracy of Stacked Model: 0.6122026887280249\n",
      "Test Precision of Stacked Model: 0.6118012422360248\n",
      "Test Recall of Stacked Model: 1.0\n",
      "Test F1-Score of Stacked Model: 0.7591522157996147\n",
      "Test ROC-AUC of Stacked Model: 0.9641789970119163\n"
     ]
    }
   ],
   "source": [
    "y_pred = meta_model.predict(stacked_features_test)\n",
    "\n",
    "# Metrics\n",
    "print(f\"Test Accuracy of Stacked Model: {accuracy_score(y_test, y_pred)}\")\n",
    "print(f\"Test Precision of Stacked Model: {precision_score(y_test, y_pred)}\")\n",
    "print(f\"Test Recall of Stacked Model: {recall_score(y_test, y_pred)}\")\n",
    "print(f\"Test F1-Score of Stacked Model: {f1_score(y_test, y_pred)}\")\n",
    "print(f\"Test ROC-AUC of Stacked Model: {roc_auc_score(y_test, meta_model.predict_proba(stacked_features_test)[:, 1])}\")"
   ]
  },
  {
   "cell_type": "code",
   "execution_count": null,
   "metadata": {},
   "outputs": [],
   "source": []
  },
  {
   "cell_type": "code",
   "execution_count": 141,
   "metadata": {},
   "outputs": [],
   "source": []
  },
  {
   "cell_type": "code",
   "execution_count": 142,
   "metadata": {},
   "outputs": [],
   "source": []
  },
  {
   "cell_type": "code",
   "execution_count": 140,
   "metadata": {},
   "outputs": [
    {
     "name": "stdout",
     "output_type": "stream",
     "text": [
      "Test Accuracy with XGBoost: 0.9576008273009308\n",
      "Test Precision with XGBoost: 0.9552980132450332\n",
      "Test Recall with XGBoost: 0.9763113367174281\n",
      "Test F1-Score with XGBoost: 0.9656903765690378\n",
      "Test ROC-AUC with XGBoost: 0.9850190805342549\n"
     ]
    }
   ],
   "source": [
    "# Predicting using the XGBoost model on the testing data\n",
    "y_pred_xgb = xgb_classifier.predict(X_test_scaled_full)\n",
    "y_pred_proba_xgb = xgb_classifier.predict_proba(X_test_scaled_full)[:, 1]\n",
    "\n",
    "# Calculating and printing the metrics\n",
    "\n",
    "print(f\"Test Accuracy with XGBoost: {accuracy_score(y_test, y_pred_xgb)}\")\n",
    "print(f\"Test Precision with XGBoost: {precision_score(y_test, y_pred_xgb)}\")\n",
    "print(f\"Test Recall with XGBoost: {recall_score(y_test, y_pred_xgb)}\")\n",
    "print(f\"Test F1-Score with XGBoost: {f1_score(y_test, y_pred_xgb)}\")\n",
    "print(f\"Test ROC-AUC with XGBoost: {roc_auc_score(y_test, y_pred_proba_xgb)}\")"
   ]
  },
  {
   "cell_type": "code",
   "execution_count": null,
   "metadata": {},
   "outputs": [],
   "source": []
  }
 ],
 "metadata": {
  "kernelspec": {
   "display_name": "Python (learn-env)",
   "language": "python",
   "name": "learn-env"
  },
  "language_info": {
   "codemirror_mode": {
    "name": "ipython",
    "version": 3
   },
   "file_extension": ".py",
   "mimetype": "text/x-python",
   "name": "python",
   "nbconvert_exporter": "python",
   "pygments_lexer": "ipython3",
   "version": "3.8.5"
  }
 },
 "nbformat": 4,
 "nbformat_minor": 4
}

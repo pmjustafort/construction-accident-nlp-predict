{
 "cells": [
  {
   "cell_type": "markdown",
   "metadata": {},
   "source": [
    "# Predicting Construction Accident Severity with Natural Language Processing and Data-Driven Recommendations."
   ]
  },
  {
   "cell_type": "markdown",
   "metadata": {},
   "source": [
    "## Imports"
   ]
  },
  {
   "cell_type": "markdown",
   "metadata": {},
   "source": [
    "In this section, we import the Python libraries and modules required for our project. These libraries provide essential functionality for data manipulation, visualization, and machine learning."
   ]
  },
  {
   "cell_type": "code",
   "execution_count": 189,
   "metadata": {},
   "outputs": [
    {
     "name": "stderr",
     "output_type": "stream",
     "text": [
      "[nltk_data] Downloading package wordnet to\n",
      "[nltk_data]     /Users/pmjustafort/nltk_data...\n",
      "[nltk_data]   Package wordnet is already up-to-date!\n"
     ]
    }
   ],
   "source": [
    "import pandas as pd\n",
    "import numpy as np\n",
    "\n",
    "import matplotlib.pyplot as plt\n",
    "import seaborn as sns\n",
    "\n",
    "import json\n",
    "from collections import defaultdict\n",
    "\n",
    "import warnings\n",
    "\n",
    "from sklearn.model_selection import train_test_split\n",
    "from sklearn.linear_model import LogisticRegression\n",
    "from sklearn.metrics import accuracy_score,precision_score, recall_score, f1_score\n",
    "from sklearn.metrics import classification_report, confusion_matrix, roc_curve, roc_auc_score\n",
    "from sklearn.preprocessing import StandardScaler\n",
    "from sklearn.feature_extraction.text import TfidfVectorizer\n",
    "from sklearn.metrics import precision_recall_curve, average_precision_score, auc, roc_curve\n",
    "from sklearn.compose import ColumnTransformer\n",
    "from sklearn.preprocessing import OneHotEncoder, OrdinalEncoder\n",
    "from sklearn.model_selection import cross_val_score, GridSearchCV\n",
    "from sklearn.feature_extraction import text\n",
    "from sklearn.ensemble import RandomForestClassifier\n",
    "from sklearn.model_selection import StratifiedKFold\n",
    "from sklearn.ensemble import StackingClassifier\n",
    "from sklearn.metrics import make_scorer, accuracy_score, precision_score, recall_score, f1_score\n",
    "from sklearn.model_selection import GridSearchCV, cross_val_score\n",
    "\n",
    "import xgboost as xgb\n",
    "\n",
    "\n",
    "from scipy.sparse import hstack\n",
    "import xgboost as xgb\n",
    "\n",
    "import nltk\n",
    "nltk.download('wordnet')\n",
    "from nltk.corpus import stopwords\n",
    "from nltk.stem import WordNetLemmatizer"
   ]
  },
  {
   "cell_type": "markdown",
   "metadata": {},
   "source": [
    "## Dataset Overview"
   ]
  },
  {
   "cell_type": "markdown",
   "metadata": {},
   "source": [
    "Before diving into the analysis, it's essential to get an overview of the dataset. In this section, we will explore the dataset's structure, the types of features it contains, and basic statistics to gain a better understanding of the data."
   ]
  },
  {
   "cell_type": "markdown",
   "metadata": {},
   "source": [
    "#### Loading The Data."
   ]
  },
  {
   "cell_type": "code",
   "execution_count": 30,
   "metadata": {
    "scrolled": true
   },
   "outputs": [],
   "source": [
    "# Loading the CSV file into a DataFrame \n",
    "df = pd.read_csv('Data/OSHA HSE DATA_ALL ABSTRACTS 15-17_FINAL.csv')"
   ]
  },
  {
   "cell_type": "code",
   "execution_count": 31,
   "metadata": {},
   "outputs": [
    {
     "data": {
      "text/html": [
       "<div>\n",
       "<style scoped>\n",
       "    .dataframe tbody tr th:only-of-type {\n",
       "        vertical-align: middle;\n",
       "    }\n",
       "\n",
       "    .dataframe tbody tr th {\n",
       "        vertical-align: top;\n",
       "    }\n",
       "\n",
       "    .dataframe thead th {\n",
       "        text-align: right;\n",
       "    }\n",
       "</style>\n",
       "<table border=\"1\" class=\"dataframe\">\n",
       "  <thead>\n",
       "    <tr style=\"text-align: right;\">\n",
       "      <th></th>\n",
       "      <th>summary_nr</th>\n",
       "      <th>Event Date</th>\n",
       "      <th>Abstract Text</th>\n",
       "      <th>Event Description</th>\n",
       "      <th>Event Keywords</th>\n",
       "      <th>con_end</th>\n",
       "      <th>Construction End Use</th>\n",
       "      <th>build_stor</th>\n",
       "      <th>Building Stories</th>\n",
       "      <th>proj_cost</th>\n",
       "      <th>Project Cost</th>\n",
       "      <th>proj_type</th>\n",
       "      <th>Project Type</th>\n",
       "      <th>Degree of Injury</th>\n",
       "      <th>nature_of_inj</th>\n",
       "      <th>Nature of Injury</th>\n",
       "      <th>part_of_body</th>\n",
       "      <th>Part of Body</th>\n",
       "      <th>event_type</th>\n",
       "      <th>Event type</th>\n",
       "      <th>evn_factor</th>\n",
       "      <th>Environmental Factor</th>\n",
       "      <th>hum_factor</th>\n",
       "      <th>Human Factor</th>\n",
       "      <th>task_assigned</th>\n",
       "      <th>Task Assigned</th>\n",
       "      <th>hazsub</th>\n",
       "      <th>fat_cause</th>\n",
       "      <th>fall_ht</th>\n",
       "    </tr>\n",
       "  </thead>\n",
       "  <tbody>\n",
       "    <tr>\n",
       "      <th>0</th>\n",
       "      <td>220982664</td>\n",
       "      <td>8/10/2017</td>\n",
       "      <td>At 9:00 a.m. on August 10, 2017, an employee w...</td>\n",
       "      <td>EMPLOYEE'S FINGERS AMPUTATED WHILE OPERATING A...</td>\n",
       "      <td>FINGER,MECHANICAL POWER PRESS,AMPUTATION,GUARD</td>\n",
       "      <td>0</td>\n",
       "      <td></td>\n",
       "      <td>0</td>\n",
       "      <td></td>\n",
       "      <td>0</td>\n",
       "      <td></td>\n",
       "      <td>0</td>\n",
       "      <td></td>\n",
       "      <td>Nonfatal</td>\n",
       "      <td>1</td>\n",
       "      <td>Amputation, Crushing</td>\n",
       "      <td>10</td>\n",
       "      <td>Fingers</td>\n",
       "      <td>2</td>\n",
       "      <td>Caught in or between</td>\n",
       "      <td>2</td>\n",
       "      <td>Catch Point/Puncture Action</td>\n",
       "      <td>14</td>\n",
       "      <td>Other</td>\n",
       "      <td>1</td>\n",
       "      <td>Regularly Assigned</td>\n",
       "      <td>0</td>\n",
       "      <td>0</td>\n",
       "      <td>0</td>\n",
       "    </tr>\n",
       "    <tr>\n",
       "      <th>1</th>\n",
       "      <td>220973937</td>\n",
       "      <td>7/17/2017</td>\n",
       "      <td>At 9:45 a.m. on July 17, 2017, an employee was...</td>\n",
       "      <td>EMPLOYEE'S FINGER IS CAUGHT IN DRILL AND IS AM...</td>\n",
       "      <td>CAUGHT IN,DRIVE SHAFT,RESIDENTIAL CONSTRUCTION...</td>\n",
       "      <td>H</td>\n",
       "      <td>Other building</td>\n",
       "      <td>1</td>\n",
       "      <td>1</td>\n",
       "      <td>0</td>\n",
       "      <td></td>\n",
       "      <td>B</td>\n",
       "      <td>Alteration or rehabilitation</td>\n",
       "      <td>Nonfatal</td>\n",
       "      <td>9</td>\n",
       "      <td>Dislocation</td>\n",
       "      <td>10</td>\n",
       "      <td>Fingers</td>\n",
       "      <td>2</td>\n",
       "      <td>Caught in or between</td>\n",
       "      <td>18</td>\n",
       "      <td>Other</td>\n",
       "      <td>10</td>\n",
       "      <td>Position Inappropriate For Task</td>\n",
       "      <td>1</td>\n",
       "      <td>Regularly Assigned</td>\n",
       "      <td>0</td>\n",
       "      <td>0</td>\n",
       "      <td>0</td>\n",
       "    </tr>\n",
       "    <tr>\n",
       "      <th>2</th>\n",
       "      <td>220967632</td>\n",
       "      <td>6/30/2017</td>\n",
       "      <td>At 7:30 a.m. on June 30, 2017, an employee was...</td>\n",
       "      <td>EMPLOYEE IS HOSPITALIZED AFTER BEING INJURED I...</td>\n",
       "      <td>AMPUTATED,EXPLOSION,FIREWORKS</td>\n",
       "      <td>0</td>\n",
       "      <td></td>\n",
       "      <td>0</td>\n",
       "      <td></td>\n",
       "      <td>0</td>\n",
       "      <td></td>\n",
       "      <td>0</td>\n",
       "      <td></td>\n",
       "      <td>Nonfatal</td>\n",
       "      <td>5</td>\n",
       "      <td>Fire Burn</td>\n",
       "      <td>12</td>\n",
       "      <td>Hand</td>\n",
       "      <td>14</td>\n",
       "      <td>Other</td>\n",
       "      <td>18</td>\n",
       "      <td>Other</td>\n",
       "      <td>4</td>\n",
       "      <td>Malfunction In Securing/Warning Op</td>\n",
       "      <td>2</td>\n",
       "      <td>Not Regularly Assigned</td>\n",
       "      <td>0</td>\n",
       "      <td>0</td>\n",
       "      <td>0</td>\n",
       "    </tr>\n",
       "    <tr>\n",
       "      <th>3</th>\n",
       "      <td>220969901</td>\n",
       "      <td>6/30/2017</td>\n",
       "      <td>At 2:00 p.m. on June 30, 2017, an employee was...</td>\n",
       "      <td>EMPLOYEE FALLS FROM ROOF AND IS INJURED</td>\n",
       "      <td>RIB,ROOF,HEAD,FALL PROTECTION,FALL,COLLARBONE,...</td>\n",
       "      <td>C</td>\n",
       "      <td>Commercial building</td>\n",
       "      <td>1</td>\n",
       "      <td>1</td>\n",
       "      <td>D</td>\n",
       "      <td>$500,000 to $1,000,000</td>\n",
       "      <td>B</td>\n",
       "      <td>Alteration or rehabilitation</td>\n",
       "      <td>Fatal</td>\n",
       "      <td>21</td>\n",
       "      <td>Serious Fall/Strike</td>\n",
       "      <td>13</td>\n",
       "      <td>Head</td>\n",
       "      <td>5</td>\n",
       "      <td>Fall (from elevation)</td>\n",
       "      <td>13</td>\n",
       "      <td>Work-Surface/Facility-Layout Condition</td>\n",
       "      <td>14</td>\n",
       "      <td>Other</td>\n",
       "      <td>1</td>\n",
       "      <td>Regularly Assigned</td>\n",
       "      <td>0</td>\n",
       "      <td>15</td>\n",
       "      <td>0</td>\n",
       "    </tr>\n",
       "    <tr>\n",
       "      <th>4</th>\n",
       "      <td>220977748</td>\n",
       "      <td>6/23/2017</td>\n",
       "      <td>At 12:20 p.m. on June 23, 2017, an employee wa...</td>\n",
       "      <td>EMPLOYEE IS STRUCK BY PLYWOOD WHILE UNLOADING ...</td>\n",
       "      <td>STRUCK BY,TRUCK,BRAIN,NECK,FRACTURE,UNSTABLE LOAD</td>\n",
       "      <td>0</td>\n",
       "      <td></td>\n",
       "      <td>0</td>\n",
       "      <td></td>\n",
       "      <td>0</td>\n",
       "      <td></td>\n",
       "      <td>0</td>\n",
       "      <td></td>\n",
       "      <td>Nonfatal</td>\n",
       "      <td>3</td>\n",
       "      <td>Bruising, Contusion</td>\n",
       "      <td>20</td>\n",
       "      <td>Neck</td>\n",
       "      <td>1</td>\n",
       "      <td>Struck-by</td>\n",
       "      <td>6</td>\n",
       "      <td>Overhead Moving/Falling Object Action</td>\n",
       "      <td>15</td>\n",
       "      <td>Insufficient/Lack/Housekeeping Program</td>\n",
       "      <td>1</td>\n",
       "      <td>Regularly Assigned</td>\n",
       "      <td>0</td>\n",
       "      <td>0</td>\n",
       "      <td>0</td>\n",
       "    </tr>\n",
       "  </tbody>\n",
       "</table>\n",
       "</div>"
      ],
      "text/plain": [
       "   summary_nr Event Date                                      Abstract Text  \\\n",
       "0   220982664  8/10/2017  At 9:00 a.m. on August 10, 2017, an employee w...   \n",
       "1   220973937  7/17/2017  At 9:45 a.m. on July 17, 2017, an employee was...   \n",
       "2   220967632  6/30/2017  At 7:30 a.m. on June 30, 2017, an employee was...   \n",
       "3   220969901  6/30/2017  At 2:00 p.m. on June 30, 2017, an employee was...   \n",
       "4   220977748  6/23/2017  At 12:20 p.m. on June 23, 2017, an employee wa...   \n",
       "\n",
       "                                   Event Description  \\\n",
       "0  EMPLOYEE'S FINGERS AMPUTATED WHILE OPERATING A...   \n",
       "1  EMPLOYEE'S FINGER IS CAUGHT IN DRILL AND IS AM...   \n",
       "2  EMPLOYEE IS HOSPITALIZED AFTER BEING INJURED I...   \n",
       "3            EMPLOYEE FALLS FROM ROOF AND IS INJURED   \n",
       "4  EMPLOYEE IS STRUCK BY PLYWOOD WHILE UNLOADING ...   \n",
       "\n",
       "                                      Event Keywords con_end  \\\n",
       "0     FINGER,MECHANICAL POWER PRESS,AMPUTATION,GUARD       0   \n",
       "1  CAUGHT IN,DRIVE SHAFT,RESIDENTIAL CONSTRUCTION...       H   \n",
       "2                      AMPUTATED,EXPLOSION,FIREWORKS       0   \n",
       "3  RIB,ROOF,HEAD,FALL PROTECTION,FALL,COLLARBONE,...       C   \n",
       "4  STRUCK BY,TRUCK,BRAIN,NECK,FRACTURE,UNSTABLE LOAD       0   \n",
       "\n",
       "  Construction End Use  build_stor Building Stories proj_cost  \\\n",
       "0                                0                          0   \n",
       "1       Other building           1                1         0   \n",
       "2                                0                          0   \n",
       "3  Commercial building           1                1         D   \n",
       "4                                0                          0   \n",
       "\n",
       "             Project Cost proj_type                  Project Type  \\\n",
       "0                                 0                                 \n",
       "1                                 B  Alteration or rehabilitation   \n",
       "2                                 0                                 \n",
       "3  $500,000 to $1,000,000         B  Alteration or rehabilitation   \n",
       "4                                 0                                 \n",
       "\n",
       "  Degree of Injury  nature_of_inj      Nature of Injury  part_of_body  \\\n",
       "0         Nonfatal              1  Amputation, Crushing            10   \n",
       "1         Nonfatal              9           Dislocation            10   \n",
       "2         Nonfatal              5             Fire Burn            12   \n",
       "3            Fatal             21   Serious Fall/Strike            13   \n",
       "4         Nonfatal              3   Bruising, Contusion            20   \n",
       "\n",
       "  Part of Body  event_type             Event type  evn_factor  \\\n",
       "0      Fingers           2   Caught in or between           2   \n",
       "1      Fingers           2   Caught in or between          18   \n",
       "2         Hand          14                  Other          18   \n",
       "3         Head           5  Fall (from elevation)          13   \n",
       "4         Neck           1              Struck-by           6   \n",
       "\n",
       "                     Environmental Factor  hum_factor  \\\n",
       "0             Catch Point/Puncture Action          14   \n",
       "1                                   Other          10   \n",
       "2                                   Other           4   \n",
       "3  Work-Surface/Facility-Layout Condition          14   \n",
       "4   Overhead Moving/Falling Object Action          15   \n",
       "\n",
       "                             Human Factor  task_assigned  \\\n",
       "0                                   Other              1   \n",
       "1         Position Inappropriate For Task              1   \n",
       "2      Malfunction In Securing/Warning Op              2   \n",
       "3                                   Other              1   \n",
       "4  Insufficient/Lack/Housekeeping Program              1   \n",
       "\n",
       "            Task Assigned hazsub  fat_cause  fall_ht  \n",
       "0      Regularly Assigned      0          0        0  \n",
       "1      Regularly Assigned      0          0        0  \n",
       "2  Not Regularly Assigned      0          0        0  \n",
       "3      Regularly Assigned      0         15        0  \n",
       "4      Regularly Assigned      0          0        0  "
      ]
     },
     "execution_count": 31,
     "metadata": {},
     "output_type": "execute_result"
    }
   ],
   "source": [
    "# Displaying the first few rows of the DataFrame\n",
    "df.head()"
   ]
  },
  {
   "cell_type": "code",
   "execution_count": 32,
   "metadata": {
    "scrolled": true
   },
   "outputs": [
    {
     "data": {
      "text/plain": [
       "<bound method DataFrame.info of       summary_nr Event Date  \\\n",
       "0      220982664  8/10/2017   \n",
       "1      220973937  7/17/2017   \n",
       "2      220967632  6/30/2017   \n",
       "3      220969901  6/30/2017   \n",
       "4      220977748  6/23/2017   \n",
       "...          ...        ...   \n",
       "4842   220778856   7/1/2015   \n",
       "4843   220778096   7/1/2015   \n",
       "4844   220778112   7/1/2015   \n",
       "4845   220777940   7/1/2015   \n",
       "4846   220778195   7/1/2015   \n",
       "\n",
       "                                          Abstract Text  \\\n",
       "0     At 9:00 a.m. on August 10, 2017, an employee w...   \n",
       "1     At 9:45 a.m. on July 17, 2017, an employee was...   \n",
       "2     At 7:30 a.m. on June 30, 2017, an employee was...   \n",
       "3     At 2:00 p.m. on June 30, 2017, an employee was...   \n",
       "4     At 12:20 p.m. on June 23, 2017, an employee wa...   \n",
       "...                                                 ...   \n",
       "4842  At approximately 9:15 a.m. on July 1, 2015, Em...   \n",
       "4843  At approximately 8:30 a.m. on July 1, 2015, Em...   \n",
       "4844  At 3:00 p.m. on July 1, 2015, an employee was ...   \n",
       "4845  At approximately 2:30 p.m. on July 1, 2015, Em...   \n",
       "4846  At approximately 2:15 p.m. on July 1, 2015, Em...   \n",
       "\n",
       "                                      Event Description  \\\n",
       "0     EMPLOYEE'S FINGERS AMPUTATED WHILE OPERATING A...   \n",
       "1     EMPLOYEE'S FINGER IS CAUGHT IN DRILL AND IS AM...   \n",
       "2     EMPLOYEE IS HOSPITALIZED AFTER BEING INJURED I...   \n",
       "3               EMPLOYEE FALLS FROM ROOF AND IS INJURED   \n",
       "4     EMPLOYEE IS STRUCK BY PLYWOOD WHILE UNLOADING ...   \n",
       "...                                                 ...   \n",
       "4842  EMPLOYEE FALLS FROM BILLBOARD, SUSTAINS TRAUMA...   \n",
       "4843  EMPLOYEE FALLS FROM ELEVATION, SUSTAINS HEAD T...   \n",
       "4844  EMPLOYEE FOUND UNRESPONSIVE BY HOME OWNER DURI...   \n",
       "4845  EMPLOYEE IS STRUCK AND KILLED BY LOGGING TRUCK...   \n",
       "4846  EMPLOYEE IS STRUCK BY OVERTURNED STANDUP FORKL...   \n",
       "\n",
       "                                         Event Keywords con_end  \\\n",
       "0        FINGER,MECHANICAL POWER PRESS,AMPUTATION,GUARD       0   \n",
       "1     CAUGHT IN,DRIVE SHAFT,RESIDENTIAL CONSTRUCTION...       H   \n",
       "2                         AMPUTATED,EXPLOSION,FIREWORKS       0   \n",
       "3     RIB,ROOF,HEAD,FALL PROTECTION,FALL,COLLARBONE,...       C   \n",
       "4     STRUCK BY,TRUCK,BRAIN,NECK,FRACTURE,UNSTABLE LOAD       0   \n",
       "...                                                 ...     ...   \n",
       "4842                           FALL,LOST BALANCE,LADDER       0   \n",
       "4843                             FALL,LOST BALANCE,HEAD       0   \n",
       "4844                                    UNCONSCIOUSNESS       0   \n",
       "4845                            STRUCK BY,MOTOR VEHICLE       0   \n",
       "4846  CRUSHING,STRUCK BY,POWERED INDUSTRIAL VEHICLE,...       0   \n",
       "\n",
       "     Construction End Use  build_stor Building Stories proj_cost  \\\n",
       "0                                   0                          0   \n",
       "1          Other building           1                1         0   \n",
       "2                                   0                          0   \n",
       "3     Commercial building           1                1         D   \n",
       "4                                   0                          0   \n",
       "...                   ...         ...              ...       ...   \n",
       "4842                                0                          0   \n",
       "4843                                0                          0   \n",
       "4844                                0                          0   \n",
       "4845                                0                          0   \n",
       "4846                                0                          0   \n",
       "\n",
       "                Project Cost proj_type                  Project Type  \\\n",
       "0                                    0                                 \n",
       "1                                    B  Alteration or rehabilitation   \n",
       "2                                    0                                 \n",
       "3     $500,000 to $1,000,000         B  Alteration or rehabilitation   \n",
       "4                                    0                                 \n",
       "...                      ...       ...                           ...   \n",
       "4842                                 0                                 \n",
       "4843                                 0                                 \n",
       "4844                                 0                                 \n",
       "4845                                 0                                 \n",
       "4846                                 0                                 \n",
       "\n",
       "     Degree of Injury  nature_of_inj      Nature of Injury  part_of_body  \\\n",
       "0            Nonfatal              1  Amputation, Crushing            10   \n",
       "1            Nonfatal              9           Dislocation            10   \n",
       "2            Nonfatal              5             Fire Burn            12   \n",
       "3               Fatal             21   Serious Fall/Strike            13   \n",
       "4            Nonfatal              3   Bruising, Contusion            20   \n",
       "...               ...            ...                   ...           ...   \n",
       "4842            Fatal              6           Head Trauma             4   \n",
       "4843            Fatal             21   Serious Fall/Strike            13   \n",
       "4844            Fatal             21   Serious Fall/Strike             4   \n",
       "4845            Fatal             21   Serious Fall/Strike             4   \n",
       "4846            Fatal             21   Serious Fall/Strike            16   \n",
       "\n",
       "     Part of Body  event_type             Event type  evn_factor  \\\n",
       "0         Fingers           2   Caught in or between           2   \n",
       "1         Fingers           2   Caught in or between          18   \n",
       "2            Hand          14                  Other          18   \n",
       "3            Head           5  Fall (from elevation)          13   \n",
       "4            Neck           1              Struck-by           6   \n",
       "...           ...         ...                    ...         ...   \n",
       "4842   Whole Body           5  Fall (from elevation)          18   \n",
       "4843         Head           5  Fall (from elevation)          13   \n",
       "4844   Whole Body          14                  Other          18   \n",
       "4845   Whole Body           1              Struck-by          13   \n",
       "4846     Left Leg           1              Struck-by           8   \n",
       "\n",
       "                        Environmental Factor  hum_factor  \\\n",
       "0                Catch Point/Puncture Action          14   \n",
       "1                                      Other          10   \n",
       "2                                      Other           4   \n",
       "3     Work-Surface/Facility-Layout Condition          14   \n",
       "4      Overhead Moving/Falling Object Action          15   \n",
       "...                                      ...         ...   \n",
       "4842                                   Other           8   \n",
       "4843  Work-Surface/Facility-Layout Condition           6   \n",
       "4844                                   Other          14   \n",
       "4845  Work-Surface/Facility-Layout Condition           1   \n",
       "4846        Materials Handling Equip./Method          11   \n",
       "\n",
       "                                 Human Factor  task_assigned  \\\n",
       "0                                       Other              1   \n",
       "1             Position Inappropriate For Task              1   \n",
       "2          Malfunction In Securing/Warning Op              2   \n",
       "3                                       Other              1   \n",
       "4      Insufficient/Lack/Housekeeping Program              1   \n",
       "...                                       ...            ...   \n",
       "4842  Perception Malfunction Task-Environment              1   \n",
       "4843    Equipment Inappropriate For Operation              2   \n",
       "4844                                    Other              1   \n",
       "4845         Misjudgment, Hazardous Situation              1   \n",
       "4846   Mater-Handling Procedure Inappropriate              1   \n",
       "\n",
       "               Task Assigned hazsub  fat_cause  fall_ht  \n",
       "0         Regularly Assigned      0          0        0  \n",
       "1         Regularly Assigned      0          0        0  \n",
       "2     Not Regularly Assigned      0          0        0  \n",
       "3         Regularly Assigned      0         15        0  \n",
       "4         Regularly Assigned      0          0        0  \n",
       "...                      ...    ...        ...      ...  \n",
       "4842      Regularly Assigned      0          0        0  \n",
       "4843  Not Regularly Assigned      0          0        0  \n",
       "4844      Regularly Assigned      0          0        0  \n",
       "4845      Regularly Assigned      0          0        0  \n",
       "4846      Regularly Assigned      0          0        0  \n",
       "\n",
       "[4847 rows x 29 columns]>"
      ]
     },
     "execution_count": 32,
     "metadata": {},
     "output_type": "execute_result"
    }
   ],
   "source": [
    "df.info"
   ]
  },
  {
   "cell_type": "code",
   "execution_count": 33,
   "metadata": {},
   "outputs": [
    {
     "data": {
      "text/html": [
       "<div>\n",
       "<style scoped>\n",
       "    .dataframe tbody tr th:only-of-type {\n",
       "        vertical-align: middle;\n",
       "    }\n",
       "\n",
       "    .dataframe tbody tr th {\n",
       "        vertical-align: top;\n",
       "    }\n",
       "\n",
       "    .dataframe thead th {\n",
       "        text-align: right;\n",
       "    }\n",
       "</style>\n",
       "<table border=\"1\" class=\"dataframe\">\n",
       "  <thead>\n",
       "    <tr style=\"text-align: right;\">\n",
       "      <th></th>\n",
       "      <th>summary_nr</th>\n",
       "      <th>build_stor</th>\n",
       "      <th>nature_of_inj</th>\n",
       "      <th>part_of_body</th>\n",
       "      <th>event_type</th>\n",
       "      <th>evn_factor</th>\n",
       "      <th>hum_factor</th>\n",
       "      <th>task_assigned</th>\n",
       "      <th>fat_cause</th>\n",
       "      <th>fall_ht</th>\n",
       "    </tr>\n",
       "  </thead>\n",
       "  <tbody>\n",
       "    <tr>\n",
       "      <th>count</th>\n",
       "      <td>4.847000e+03</td>\n",
       "      <td>4847.000000</td>\n",
       "      <td>4847.000000</td>\n",
       "      <td>4847.000000</td>\n",
       "      <td>4847.000000</td>\n",
       "      <td>4847.000000</td>\n",
       "      <td>4847.000000</td>\n",
       "      <td>4847.000000</td>\n",
       "      <td>4847.000000</td>\n",
       "      <td>4847.0</td>\n",
       "    </tr>\n",
       "    <tr>\n",
       "      <th>mean</th>\n",
       "      <td>2.208956e+08</td>\n",
       "      <td>0.447287</td>\n",
       "      <td>11.852486</td>\n",
       "      <td>13.629255</td>\n",
       "      <td>5.193728</td>\n",
       "      <td>11.983701</td>\n",
       "      <td>9.456984</td>\n",
       "      <td>1.371157</td>\n",
       "      <td>3.065608</td>\n",
       "      <td>0.0</td>\n",
       "    </tr>\n",
       "    <tr>\n",
       "      <th>std</th>\n",
       "      <td>5.585438e+04</td>\n",
       "      <td>3.011749</td>\n",
       "      <td>7.634332</td>\n",
       "      <td>7.838927</td>\n",
       "      <td>4.608330</td>\n",
       "      <td>6.198560</td>\n",
       "      <td>6.161380</td>\n",
       "      <td>0.483164</td>\n",
       "      <td>7.247627</td>\n",
       "      <td>0.0</td>\n",
       "    </tr>\n",
       "    <tr>\n",
       "      <th>min</th>\n",
       "      <td>2.207779e+08</td>\n",
       "      <td>0.000000</td>\n",
       "      <td>0.000000</td>\n",
       "      <td>0.000000</td>\n",
       "      <td>0.000000</td>\n",
       "      <td>0.000000</td>\n",
       "      <td>0.000000</td>\n",
       "      <td>1.000000</td>\n",
       "      <td>0.000000</td>\n",
       "      <td>0.0</td>\n",
       "    </tr>\n",
       "    <tr>\n",
       "      <th>25%</th>\n",
       "      <td>2.208494e+08</td>\n",
       "      <td>0.000000</td>\n",
       "      <td>5.000000</td>\n",
       "      <td>10.000000</td>\n",
       "      <td>2.000000</td>\n",
       "      <td>7.000000</td>\n",
       "      <td>1.000000</td>\n",
       "      <td>1.000000</td>\n",
       "      <td>0.000000</td>\n",
       "      <td>0.0</td>\n",
       "    </tr>\n",
       "    <tr>\n",
       "      <th>50%</th>\n",
       "      <td>2.209189e+08</td>\n",
       "      <td>0.000000</td>\n",
       "      <td>12.000000</td>\n",
       "      <td>13.000000</td>\n",
       "      <td>5.000000</td>\n",
       "      <td>13.000000</td>\n",
       "      <td>13.000000</td>\n",
       "      <td>1.000000</td>\n",
       "      <td>0.000000</td>\n",
       "      <td>0.0</td>\n",
       "    </tr>\n",
       "    <tr>\n",
       "      <th>75%</th>\n",
       "      <td>2.209406e+08</td>\n",
       "      <td>0.000000</td>\n",
       "      <td>21.000000</td>\n",
       "      <td>19.000000</td>\n",
       "      <td>6.000000</td>\n",
       "      <td>18.000000</td>\n",
       "      <td>14.000000</td>\n",
       "      <td>2.000000</td>\n",
       "      <td>0.000000</td>\n",
       "      <td>0.0</td>\n",
       "    </tr>\n",
       "    <tr>\n",
       "      <th>max</th>\n",
       "      <td>2.209923e+08</td>\n",
       "      <td>139.000000</td>\n",
       "      <td>22.000000</td>\n",
       "      <td>31.000000</td>\n",
       "      <td>14.000000</td>\n",
       "      <td>18.000000</td>\n",
       "      <td>20.000000</td>\n",
       "      <td>2.000000</td>\n",
       "      <td>30.000000</td>\n",
       "      <td>0.0</td>\n",
       "    </tr>\n",
       "  </tbody>\n",
       "</table>\n",
       "</div>"
      ],
      "text/plain": [
       "         summary_nr   build_stor  nature_of_inj  part_of_body   event_type  \\\n",
       "count  4.847000e+03  4847.000000    4847.000000   4847.000000  4847.000000   \n",
       "mean   2.208956e+08     0.447287      11.852486     13.629255     5.193728   \n",
       "std    5.585438e+04     3.011749       7.634332      7.838927     4.608330   \n",
       "min    2.207779e+08     0.000000       0.000000      0.000000     0.000000   \n",
       "25%    2.208494e+08     0.000000       5.000000     10.000000     2.000000   \n",
       "50%    2.209189e+08     0.000000      12.000000     13.000000     5.000000   \n",
       "75%    2.209406e+08     0.000000      21.000000     19.000000     6.000000   \n",
       "max    2.209923e+08   139.000000      22.000000     31.000000    14.000000   \n",
       "\n",
       "        evn_factor   hum_factor  task_assigned    fat_cause  fall_ht  \n",
       "count  4847.000000  4847.000000    4847.000000  4847.000000   4847.0  \n",
       "mean     11.983701     9.456984       1.371157     3.065608      0.0  \n",
       "std       6.198560     6.161380       0.483164     7.247627      0.0  \n",
       "min       0.000000     0.000000       1.000000     0.000000      0.0  \n",
       "25%       7.000000     1.000000       1.000000     0.000000      0.0  \n",
       "50%      13.000000    13.000000       1.000000     0.000000      0.0  \n",
       "75%      18.000000    14.000000       2.000000     0.000000      0.0  \n",
       "max      18.000000    20.000000       2.000000    30.000000      0.0  "
      ]
     },
     "execution_count": 33,
     "metadata": {},
     "output_type": "execute_result"
    }
   ],
   "source": [
    "df.describe()"
   ]
  },
  {
   "cell_type": "code",
   "execution_count": 34,
   "metadata": {},
   "outputs": [
    {
     "data": {
      "text/html": [
       "<div>\n",
       "<style scoped>\n",
       "    .dataframe tbody tr th:only-of-type {\n",
       "        vertical-align: middle;\n",
       "    }\n",
       "\n",
       "    .dataframe tbody tr th {\n",
       "        vertical-align: top;\n",
       "    }\n",
       "\n",
       "    .dataframe thead th {\n",
       "        text-align: right;\n",
       "    }\n",
       "</style>\n",
       "<table border=\"1\" class=\"dataframe\">\n",
       "  <thead>\n",
       "    <tr style=\"text-align: right;\">\n",
       "      <th></th>\n",
       "      <th>summary_nr</th>\n",
       "      <th>Event Date</th>\n",
       "      <th>Abstract Text</th>\n",
       "      <th>Event Description</th>\n",
       "      <th>Event Keywords</th>\n",
       "      <th>con_end</th>\n",
       "      <th>Construction End Use</th>\n",
       "      <th>build_stor</th>\n",
       "      <th>Building Stories</th>\n",
       "      <th>proj_cost</th>\n",
       "      <th>Project Cost</th>\n",
       "      <th>proj_type</th>\n",
       "      <th>Project Type</th>\n",
       "      <th>Degree of Injury</th>\n",
       "      <th>nature_of_inj</th>\n",
       "      <th>Nature of Injury</th>\n",
       "      <th>part_of_body</th>\n",
       "      <th>Part of Body</th>\n",
       "      <th>event_type</th>\n",
       "      <th>Event type</th>\n",
       "      <th>evn_factor</th>\n",
       "      <th>Environmental Factor</th>\n",
       "      <th>hum_factor</th>\n",
       "      <th>Human Factor</th>\n",
       "      <th>task_assigned</th>\n",
       "      <th>Task Assigned</th>\n",
       "      <th>hazsub</th>\n",
       "      <th>fat_cause</th>\n",
       "      <th>fall_ht</th>\n",
       "    </tr>\n",
       "  </thead>\n",
       "  <tbody>\n",
       "    <tr>\n",
       "      <th>count</th>\n",
       "      <td>4.847000e+03</td>\n",
       "      <td>4847</td>\n",
       "      <td>4847</td>\n",
       "      <td>4847</td>\n",
       "      <td>4847</td>\n",
       "      <td>4847</td>\n",
       "      <td>4847</td>\n",
       "      <td>4847.000000</td>\n",
       "      <td>4847</td>\n",
       "      <td>4847</td>\n",
       "      <td>4847</td>\n",
       "      <td>4847</td>\n",
       "      <td>4847</td>\n",
       "      <td>4847</td>\n",
       "      <td>4847.000000</td>\n",
       "      <td>4845</td>\n",
       "      <td>4847.000000</td>\n",
       "      <td>4845</td>\n",
       "      <td>4847.000000</td>\n",
       "      <td>4845</td>\n",
       "      <td>4847.000000</td>\n",
       "      <td>4840</td>\n",
       "      <td>4847.000000</td>\n",
       "      <td>4840</td>\n",
       "      <td>4847.000000</td>\n",
       "      <td>4847</td>\n",
       "      <td>4847</td>\n",
       "      <td>4847.000000</td>\n",
       "      <td>4847.0</td>\n",
       "    </tr>\n",
       "    <tr>\n",
       "      <th>unique</th>\n",
       "      <td>NaN</td>\n",
       "      <td>671</td>\n",
       "      <td>4829</td>\n",
       "      <td>4320</td>\n",
       "      <td>4427</td>\n",
       "      <td>18</td>\n",
       "      <td>18</td>\n",
       "      <td>NaN</td>\n",
       "      <td>25</td>\n",
       "      <td>8</td>\n",
       "      <td>8</td>\n",
       "      <td>6</td>\n",
       "      <td>6</td>\n",
       "      <td>2</td>\n",
       "      <td>NaN</td>\n",
       "      <td>19</td>\n",
       "      <td>NaN</td>\n",
       "      <td>29</td>\n",
       "      <td>NaN</td>\n",
       "      <td>14</td>\n",
       "      <td>NaN</td>\n",
       "      <td>17</td>\n",
       "      <td>NaN</td>\n",
       "      <td>18</td>\n",
       "      <td>NaN</td>\n",
       "      <td>2</td>\n",
       "      <td>31</td>\n",
       "      <td>NaN</td>\n",
       "      <td>NaN</td>\n",
       "    </tr>\n",
       "    <tr>\n",
       "      <th>top</th>\n",
       "      <td>NaN</td>\n",
       "      <td>4/10/2017</td>\n",
       "      <td>At 1:45 p.m. on January 9, 2017, an employee o...</td>\n",
       "      <td>EMPLOYEE FALLS FROM ROOF AND IS KILLED</td>\n",
       "      <td>HEART ATTACK</td>\n",
       "      <td>0</td>\n",
       "      <td></td>\n",
       "      <td>NaN</td>\n",
       "      <td></td>\n",
       "      <td>0</td>\n",
       "      <td></td>\n",
       "      <td>0</td>\n",
       "      <td></td>\n",
       "      <td>Fatal</td>\n",
       "      <td>NaN</td>\n",
       "      <td>Serious Fall/Strike</td>\n",
       "      <td>NaN</td>\n",
       "      <td>Head</td>\n",
       "      <td>NaN</td>\n",
       "      <td>Fall (from elevation)</td>\n",
       "      <td>NaN</td>\n",
       "      <td>Other</td>\n",
       "      <td>NaN</td>\n",
       "      <td>Other</td>\n",
       "      <td>NaN</td>\n",
       "      <td>Regularly Assigned</td>\n",
       "      <td>0</td>\n",
       "      <td>NaN</td>\n",
       "      <td>NaN</td>\n",
       "    </tr>\n",
       "    <tr>\n",
       "      <th>freq</th>\n",
       "      <td>NaN</td>\n",
       "      <td>49</td>\n",
       "      <td>2</td>\n",
       "      <td>46</td>\n",
       "      <td>46</td>\n",
       "      <td>3820</td>\n",
       "      <td>3820</td>\n",
       "      <td>NaN</td>\n",
       "      <td>4148</td>\n",
       "      <td>4261</td>\n",
       "      <td>4261</td>\n",
       "      <td>3767</td>\n",
       "      <td>3767</td>\n",
       "      <td>2964</td>\n",
       "      <td>NaN</td>\n",
       "      <td>1683</td>\n",
       "      <td>NaN</td>\n",
       "      <td>1023</td>\n",
       "      <td>NaN</td>\n",
       "      <td>1179</td>\n",
       "      <td>NaN</td>\n",
       "      <td>2009</td>\n",
       "      <td>NaN</td>\n",
       "      <td>1838</td>\n",
       "      <td>NaN</td>\n",
       "      <td>3048</td>\n",
       "      <td>4788</td>\n",
       "      <td>NaN</td>\n",
       "      <td>NaN</td>\n",
       "    </tr>\n",
       "    <tr>\n",
       "      <th>mean</th>\n",
       "      <td>2.208956e+08</td>\n",
       "      <td>NaN</td>\n",
       "      <td>NaN</td>\n",
       "      <td>NaN</td>\n",
       "      <td>NaN</td>\n",
       "      <td>NaN</td>\n",
       "      <td>NaN</td>\n",
       "      <td>0.447287</td>\n",
       "      <td>NaN</td>\n",
       "      <td>NaN</td>\n",
       "      <td>NaN</td>\n",
       "      <td>NaN</td>\n",
       "      <td>NaN</td>\n",
       "      <td>NaN</td>\n",
       "      <td>11.852486</td>\n",
       "      <td>NaN</td>\n",
       "      <td>13.629255</td>\n",
       "      <td>NaN</td>\n",
       "      <td>5.193728</td>\n",
       "      <td>NaN</td>\n",
       "      <td>11.983701</td>\n",
       "      <td>NaN</td>\n",
       "      <td>9.456984</td>\n",
       "      <td>NaN</td>\n",
       "      <td>1.371157</td>\n",
       "      <td>NaN</td>\n",
       "      <td>NaN</td>\n",
       "      <td>3.065608</td>\n",
       "      <td>0.0</td>\n",
       "    </tr>\n",
       "    <tr>\n",
       "      <th>std</th>\n",
       "      <td>5.585438e+04</td>\n",
       "      <td>NaN</td>\n",
       "      <td>NaN</td>\n",
       "      <td>NaN</td>\n",
       "      <td>NaN</td>\n",
       "      <td>NaN</td>\n",
       "      <td>NaN</td>\n",
       "      <td>3.011749</td>\n",
       "      <td>NaN</td>\n",
       "      <td>NaN</td>\n",
       "      <td>NaN</td>\n",
       "      <td>NaN</td>\n",
       "      <td>NaN</td>\n",
       "      <td>NaN</td>\n",
       "      <td>7.634332</td>\n",
       "      <td>NaN</td>\n",
       "      <td>7.838927</td>\n",
       "      <td>NaN</td>\n",
       "      <td>4.608330</td>\n",
       "      <td>NaN</td>\n",
       "      <td>6.198560</td>\n",
       "      <td>NaN</td>\n",
       "      <td>6.161380</td>\n",
       "      <td>NaN</td>\n",
       "      <td>0.483164</td>\n",
       "      <td>NaN</td>\n",
       "      <td>NaN</td>\n",
       "      <td>7.247627</td>\n",
       "      <td>0.0</td>\n",
       "    </tr>\n",
       "    <tr>\n",
       "      <th>min</th>\n",
       "      <td>2.207779e+08</td>\n",
       "      <td>NaN</td>\n",
       "      <td>NaN</td>\n",
       "      <td>NaN</td>\n",
       "      <td>NaN</td>\n",
       "      <td>NaN</td>\n",
       "      <td>NaN</td>\n",
       "      <td>0.000000</td>\n",
       "      <td>NaN</td>\n",
       "      <td>NaN</td>\n",
       "      <td>NaN</td>\n",
       "      <td>NaN</td>\n",
       "      <td>NaN</td>\n",
       "      <td>NaN</td>\n",
       "      <td>0.000000</td>\n",
       "      <td>NaN</td>\n",
       "      <td>0.000000</td>\n",
       "      <td>NaN</td>\n",
       "      <td>0.000000</td>\n",
       "      <td>NaN</td>\n",
       "      <td>0.000000</td>\n",
       "      <td>NaN</td>\n",
       "      <td>0.000000</td>\n",
       "      <td>NaN</td>\n",
       "      <td>1.000000</td>\n",
       "      <td>NaN</td>\n",
       "      <td>NaN</td>\n",
       "      <td>0.000000</td>\n",
       "      <td>0.0</td>\n",
       "    </tr>\n",
       "    <tr>\n",
       "      <th>25%</th>\n",
       "      <td>2.208494e+08</td>\n",
       "      <td>NaN</td>\n",
       "      <td>NaN</td>\n",
       "      <td>NaN</td>\n",
       "      <td>NaN</td>\n",
       "      <td>NaN</td>\n",
       "      <td>NaN</td>\n",
       "      <td>0.000000</td>\n",
       "      <td>NaN</td>\n",
       "      <td>NaN</td>\n",
       "      <td>NaN</td>\n",
       "      <td>NaN</td>\n",
       "      <td>NaN</td>\n",
       "      <td>NaN</td>\n",
       "      <td>5.000000</td>\n",
       "      <td>NaN</td>\n",
       "      <td>10.000000</td>\n",
       "      <td>NaN</td>\n",
       "      <td>2.000000</td>\n",
       "      <td>NaN</td>\n",
       "      <td>7.000000</td>\n",
       "      <td>NaN</td>\n",
       "      <td>1.000000</td>\n",
       "      <td>NaN</td>\n",
       "      <td>1.000000</td>\n",
       "      <td>NaN</td>\n",
       "      <td>NaN</td>\n",
       "      <td>0.000000</td>\n",
       "      <td>0.0</td>\n",
       "    </tr>\n",
       "    <tr>\n",
       "      <th>50%</th>\n",
       "      <td>2.209189e+08</td>\n",
       "      <td>NaN</td>\n",
       "      <td>NaN</td>\n",
       "      <td>NaN</td>\n",
       "      <td>NaN</td>\n",
       "      <td>NaN</td>\n",
       "      <td>NaN</td>\n",
       "      <td>0.000000</td>\n",
       "      <td>NaN</td>\n",
       "      <td>NaN</td>\n",
       "      <td>NaN</td>\n",
       "      <td>NaN</td>\n",
       "      <td>NaN</td>\n",
       "      <td>NaN</td>\n",
       "      <td>12.000000</td>\n",
       "      <td>NaN</td>\n",
       "      <td>13.000000</td>\n",
       "      <td>NaN</td>\n",
       "      <td>5.000000</td>\n",
       "      <td>NaN</td>\n",
       "      <td>13.000000</td>\n",
       "      <td>NaN</td>\n",
       "      <td>13.000000</td>\n",
       "      <td>NaN</td>\n",
       "      <td>1.000000</td>\n",
       "      <td>NaN</td>\n",
       "      <td>NaN</td>\n",
       "      <td>0.000000</td>\n",
       "      <td>0.0</td>\n",
       "    </tr>\n",
       "    <tr>\n",
       "      <th>75%</th>\n",
       "      <td>2.209406e+08</td>\n",
       "      <td>NaN</td>\n",
       "      <td>NaN</td>\n",
       "      <td>NaN</td>\n",
       "      <td>NaN</td>\n",
       "      <td>NaN</td>\n",
       "      <td>NaN</td>\n",
       "      <td>0.000000</td>\n",
       "      <td>NaN</td>\n",
       "      <td>NaN</td>\n",
       "      <td>NaN</td>\n",
       "      <td>NaN</td>\n",
       "      <td>NaN</td>\n",
       "      <td>NaN</td>\n",
       "      <td>21.000000</td>\n",
       "      <td>NaN</td>\n",
       "      <td>19.000000</td>\n",
       "      <td>NaN</td>\n",
       "      <td>6.000000</td>\n",
       "      <td>NaN</td>\n",
       "      <td>18.000000</td>\n",
       "      <td>NaN</td>\n",
       "      <td>14.000000</td>\n",
       "      <td>NaN</td>\n",
       "      <td>2.000000</td>\n",
       "      <td>NaN</td>\n",
       "      <td>NaN</td>\n",
       "      <td>0.000000</td>\n",
       "      <td>0.0</td>\n",
       "    </tr>\n",
       "    <tr>\n",
       "      <th>max</th>\n",
       "      <td>2.209923e+08</td>\n",
       "      <td>NaN</td>\n",
       "      <td>NaN</td>\n",
       "      <td>NaN</td>\n",
       "      <td>NaN</td>\n",
       "      <td>NaN</td>\n",
       "      <td>NaN</td>\n",
       "      <td>139.000000</td>\n",
       "      <td>NaN</td>\n",
       "      <td>NaN</td>\n",
       "      <td>NaN</td>\n",
       "      <td>NaN</td>\n",
       "      <td>NaN</td>\n",
       "      <td>NaN</td>\n",
       "      <td>22.000000</td>\n",
       "      <td>NaN</td>\n",
       "      <td>31.000000</td>\n",
       "      <td>NaN</td>\n",
       "      <td>14.000000</td>\n",
       "      <td>NaN</td>\n",
       "      <td>18.000000</td>\n",
       "      <td>NaN</td>\n",
       "      <td>20.000000</td>\n",
       "      <td>NaN</td>\n",
       "      <td>2.000000</td>\n",
       "      <td>NaN</td>\n",
       "      <td>NaN</td>\n",
       "      <td>30.000000</td>\n",
       "      <td>0.0</td>\n",
       "    </tr>\n",
       "  </tbody>\n",
       "</table>\n",
       "</div>"
      ],
      "text/plain": [
       "          summary_nr Event Date  \\\n",
       "count   4.847000e+03       4847   \n",
       "unique           NaN        671   \n",
       "top              NaN  4/10/2017   \n",
       "freq             NaN         49   \n",
       "mean    2.208956e+08        NaN   \n",
       "std     5.585438e+04        NaN   \n",
       "min     2.207779e+08        NaN   \n",
       "25%     2.208494e+08        NaN   \n",
       "50%     2.209189e+08        NaN   \n",
       "75%     2.209406e+08        NaN   \n",
       "max     2.209923e+08        NaN   \n",
       "\n",
       "                                            Abstract Text  \\\n",
       "count                                                4847   \n",
       "unique                                               4829   \n",
       "top     At 1:45 p.m. on January 9, 2017, an employee o...   \n",
       "freq                                                    2   \n",
       "mean                                                  NaN   \n",
       "std                                                   NaN   \n",
       "min                                                   NaN   \n",
       "25%                                                   NaN   \n",
       "50%                                                   NaN   \n",
       "75%                                                   NaN   \n",
       "max                                                   NaN   \n",
       "\n",
       "                             Event Description Event Keywords con_end  \\\n",
       "count                                     4847           4847    4847   \n",
       "unique                                    4320           4427      18   \n",
       "top     EMPLOYEE FALLS FROM ROOF AND IS KILLED   HEART ATTACK       0   \n",
       "freq                                        46             46    3820   \n",
       "mean                                       NaN            NaN     NaN   \n",
       "std                                        NaN            NaN     NaN   \n",
       "min                                        NaN            NaN     NaN   \n",
       "25%                                        NaN            NaN     NaN   \n",
       "50%                                        NaN            NaN     NaN   \n",
       "75%                                        NaN            NaN     NaN   \n",
       "max                                        NaN            NaN     NaN   \n",
       "\n",
       "       Construction End Use   build_stor Building Stories proj_cost  \\\n",
       "count                  4847  4847.000000             4847      4847   \n",
       "unique                   18          NaN               25         8   \n",
       "top                                  NaN                          0   \n",
       "freq                   3820          NaN             4148      4261   \n",
       "mean                    NaN     0.447287              NaN       NaN   \n",
       "std                     NaN     3.011749              NaN       NaN   \n",
       "min                     NaN     0.000000              NaN       NaN   \n",
       "25%                     NaN     0.000000              NaN       NaN   \n",
       "50%                     NaN     0.000000              NaN       NaN   \n",
       "75%                     NaN     0.000000              NaN       NaN   \n",
       "max                     NaN   139.000000              NaN       NaN   \n",
       "\n",
       "       Project Cost proj_type Project Type Degree of Injury  nature_of_inj  \\\n",
       "count          4847      4847         4847             4847    4847.000000   \n",
       "unique            8         6            6                2            NaN   \n",
       "top                         0                         Fatal            NaN   \n",
       "freq           4261      3767         3767             2964            NaN   \n",
       "mean            NaN       NaN          NaN              NaN      11.852486   \n",
       "std             NaN       NaN          NaN              NaN       7.634332   \n",
       "min             NaN       NaN          NaN              NaN       0.000000   \n",
       "25%             NaN       NaN          NaN              NaN       5.000000   \n",
       "50%             NaN       NaN          NaN              NaN      12.000000   \n",
       "75%             NaN       NaN          NaN              NaN      21.000000   \n",
       "max             NaN       NaN          NaN              NaN      22.000000   \n",
       "\n",
       "           Nature of Injury  part_of_body Part of Body   event_type  \\\n",
       "count                  4845   4847.000000         4845  4847.000000   \n",
       "unique                   19           NaN           29          NaN   \n",
       "top     Serious Fall/Strike           NaN         Head          NaN   \n",
       "freq                   1683           NaN         1023          NaN   \n",
       "mean                    NaN     13.629255          NaN     5.193728   \n",
       "std                     NaN      7.838927          NaN     4.608330   \n",
       "min                     NaN      0.000000          NaN     0.000000   \n",
       "25%                     NaN     10.000000          NaN     2.000000   \n",
       "50%                     NaN     13.000000          NaN     5.000000   \n",
       "75%                     NaN     19.000000          NaN     6.000000   \n",
       "max                     NaN     31.000000          NaN    14.000000   \n",
       "\n",
       "                   Event type   evn_factor Environmental Factor   hum_factor  \\\n",
       "count                    4845  4847.000000                 4840  4847.000000   \n",
       "unique                     14          NaN                   17          NaN   \n",
       "top     Fall (from elevation)          NaN                Other          NaN   \n",
       "freq                     1179          NaN                 2009          NaN   \n",
       "mean                      NaN    11.983701                  NaN     9.456984   \n",
       "std                       NaN     6.198560                  NaN     6.161380   \n",
       "min                       NaN     0.000000                  NaN     0.000000   \n",
       "25%                       NaN     7.000000                  NaN     1.000000   \n",
       "50%                       NaN    13.000000                  NaN    13.000000   \n",
       "75%                       NaN    18.000000                  NaN    14.000000   \n",
       "max                       NaN    18.000000                  NaN    20.000000   \n",
       "\n",
       "       Human Factor  task_assigned       Task Assigned hazsub    fat_cause  \\\n",
       "count          4840    4847.000000                4847   4847  4847.000000   \n",
       "unique           18            NaN                   2     31          NaN   \n",
       "top           Other            NaN  Regularly Assigned      0          NaN   \n",
       "freq           1838            NaN                3048   4788          NaN   \n",
       "mean            NaN       1.371157                 NaN    NaN     3.065608   \n",
       "std             NaN       0.483164                 NaN    NaN     7.247627   \n",
       "min             NaN       1.000000                 NaN    NaN     0.000000   \n",
       "25%             NaN       1.000000                 NaN    NaN     0.000000   \n",
       "50%             NaN       1.000000                 NaN    NaN     0.000000   \n",
       "75%             NaN       2.000000                 NaN    NaN     0.000000   \n",
       "max             NaN       2.000000                 NaN    NaN    30.000000   \n",
       "\n",
       "        fall_ht  \n",
       "count    4847.0  \n",
       "unique      NaN  \n",
       "top         NaN  \n",
       "freq        NaN  \n",
       "mean        0.0  \n",
       "std         0.0  \n",
       "min         0.0  \n",
       "25%         0.0  \n",
       "50%         0.0  \n",
       "75%         0.0  \n",
       "max         0.0  "
      ]
     },
     "execution_count": 34,
     "metadata": {},
     "output_type": "execute_result"
    }
   ],
   "source": [
    "df.describe(include='all')"
   ]
  },
  {
   "cell_type": "code",
   "execution_count": 35,
   "metadata": {},
   "outputs": [
    {
     "name": "stdout",
     "output_type": "stream",
     "text": [
      "summary_nr               int64\n",
      "Event Date              object\n",
      "Abstract Text           object\n",
      "Event Description       object\n",
      "Event Keywords          object\n",
      "con_end                 object\n",
      "Construction End Use    object\n",
      "build_stor               int64\n",
      "Building Stories        object\n",
      "proj_cost               object\n",
      "Project Cost            object\n",
      "proj_type               object\n",
      "Project Type            object\n",
      "Degree of Injury        object\n",
      "nature_of_inj            int64\n",
      "Nature of Injury        object\n",
      "part_of_body             int64\n",
      "Part of Body            object\n",
      "event_type               int64\n",
      "Event type              object\n",
      "evn_factor               int64\n",
      "Environmental Factor    object\n",
      "hum_factor               int64\n",
      "Human Factor            object\n",
      "task_assigned            int64\n",
      "Task Assigned           object\n",
      "hazsub                  object\n",
      "fat_cause                int64\n",
      "fall_ht                  int64\n",
      "dtype: object\n"
     ]
    }
   ],
   "source": [
    "print(df.dtypes)"
   ]
  },
  {
   "cell_type": "code",
   "execution_count": 36,
   "metadata": {},
   "outputs": [
    {
     "data": {
      "text/html": [
       "<div>\n",
       "<style scoped>\n",
       "    .dataframe tbody tr th:only-of-type {\n",
       "        vertical-align: middle;\n",
       "    }\n",
       "\n",
       "    .dataframe tbody tr th {\n",
       "        vertical-align: top;\n",
       "    }\n",
       "\n",
       "    .dataframe thead th {\n",
       "        text-align: right;\n",
       "    }\n",
       "</style>\n",
       "<table border=\"1\" class=\"dataframe\">\n",
       "  <thead>\n",
       "    <tr style=\"text-align: right;\">\n",
       "      <th></th>\n",
       "      <th>summary_nr</th>\n",
       "      <th>Event Date</th>\n",
       "      <th>Abstract Text</th>\n",
       "      <th>Event Description</th>\n",
       "      <th>Event Keywords</th>\n",
       "      <th>con_end</th>\n",
       "      <th>Construction End Use</th>\n",
       "      <th>build_stor</th>\n",
       "      <th>Building Stories</th>\n",
       "      <th>proj_cost</th>\n",
       "      <th>Project Cost</th>\n",
       "      <th>proj_type</th>\n",
       "      <th>Project Type</th>\n",
       "      <th>Degree of Injury</th>\n",
       "      <th>nature_of_inj</th>\n",
       "      <th>Nature of Injury</th>\n",
       "      <th>part_of_body</th>\n",
       "      <th>Part of Body</th>\n",
       "      <th>event_type</th>\n",
       "      <th>Event type</th>\n",
       "      <th>evn_factor</th>\n",
       "      <th>Environmental Factor</th>\n",
       "      <th>hum_factor</th>\n",
       "      <th>Human Factor</th>\n",
       "      <th>task_assigned</th>\n",
       "      <th>Task Assigned</th>\n",
       "      <th>hazsub</th>\n",
       "      <th>fat_cause</th>\n",
       "      <th>fall_ht</th>\n",
       "    </tr>\n",
       "  </thead>\n",
       "  <tbody>\n",
       "    <tr>\n",
       "      <th>0</th>\n",
       "      <td>220982664</td>\n",
       "      <td>8/10/2017</td>\n",
       "      <td>At 9:00 a.m. on August 10, 2017, an employee w...</td>\n",
       "      <td>EMPLOYEE'S FINGERS AMPUTATED WHILE OPERATING A...</td>\n",
       "      <td>FINGER,MECHANICAL POWER PRESS,AMPUTATION,GUARD</td>\n",
       "      <td>0</td>\n",
       "      <td></td>\n",
       "      <td>0</td>\n",
       "      <td></td>\n",
       "      <td>0</td>\n",
       "      <td></td>\n",
       "      <td>0</td>\n",
       "      <td></td>\n",
       "      <td>Nonfatal</td>\n",
       "      <td>1</td>\n",
       "      <td>Amputation, Crushing</td>\n",
       "      <td>10</td>\n",
       "      <td>Fingers</td>\n",
       "      <td>2</td>\n",
       "      <td>Caught in or between</td>\n",
       "      <td>2</td>\n",
       "      <td>Catch Point/Puncture Action</td>\n",
       "      <td>14</td>\n",
       "      <td>Other</td>\n",
       "      <td>1</td>\n",
       "      <td>Regularly Assigned</td>\n",
       "      <td>0</td>\n",
       "      <td>0</td>\n",
       "      <td>0</td>\n",
       "    </tr>\n",
       "    <tr>\n",
       "      <th>1</th>\n",
       "      <td>220973937</td>\n",
       "      <td>7/17/2017</td>\n",
       "      <td>At 9:45 a.m. on July 17, 2017, an employee was...</td>\n",
       "      <td>EMPLOYEE'S FINGER IS CAUGHT IN DRILL AND IS AM...</td>\n",
       "      <td>CAUGHT IN,DRIVE SHAFT,RESIDENTIAL CONSTRUCTION...</td>\n",
       "      <td>H</td>\n",
       "      <td>Other building</td>\n",
       "      <td>1</td>\n",
       "      <td>1</td>\n",
       "      <td>0</td>\n",
       "      <td></td>\n",
       "      <td>B</td>\n",
       "      <td>Alteration or rehabilitation</td>\n",
       "      <td>Nonfatal</td>\n",
       "      <td>9</td>\n",
       "      <td>Dislocation</td>\n",
       "      <td>10</td>\n",
       "      <td>Fingers</td>\n",
       "      <td>2</td>\n",
       "      <td>Caught in or between</td>\n",
       "      <td>18</td>\n",
       "      <td>Other</td>\n",
       "      <td>10</td>\n",
       "      <td>Position Inappropriate For Task</td>\n",
       "      <td>1</td>\n",
       "      <td>Regularly Assigned</td>\n",
       "      <td>0</td>\n",
       "      <td>0</td>\n",
       "      <td>0</td>\n",
       "    </tr>\n",
       "    <tr>\n",
       "      <th>2</th>\n",
       "      <td>220967632</td>\n",
       "      <td>6/30/2017</td>\n",
       "      <td>At 7:30 a.m. on June 30, 2017, an employee was...</td>\n",
       "      <td>EMPLOYEE IS HOSPITALIZED AFTER BEING INJURED I...</td>\n",
       "      <td>AMPUTATED,EXPLOSION,FIREWORKS</td>\n",
       "      <td>0</td>\n",
       "      <td></td>\n",
       "      <td>0</td>\n",
       "      <td></td>\n",
       "      <td>0</td>\n",
       "      <td></td>\n",
       "      <td>0</td>\n",
       "      <td></td>\n",
       "      <td>Nonfatal</td>\n",
       "      <td>5</td>\n",
       "      <td>Fire Burn</td>\n",
       "      <td>12</td>\n",
       "      <td>Hand</td>\n",
       "      <td>14</td>\n",
       "      <td>Other</td>\n",
       "      <td>18</td>\n",
       "      <td>Other</td>\n",
       "      <td>4</td>\n",
       "      <td>Malfunction In Securing/Warning Op</td>\n",
       "      <td>2</td>\n",
       "      <td>Not Regularly Assigned</td>\n",
       "      <td>0</td>\n",
       "      <td>0</td>\n",
       "      <td>0</td>\n",
       "    </tr>\n",
       "    <tr>\n",
       "      <th>3</th>\n",
       "      <td>220969901</td>\n",
       "      <td>6/30/2017</td>\n",
       "      <td>At 2:00 p.m. on June 30, 2017, an employee was...</td>\n",
       "      <td>EMPLOYEE FALLS FROM ROOF AND IS INJURED</td>\n",
       "      <td>RIB,ROOF,HEAD,FALL PROTECTION,FALL,COLLARBONE,...</td>\n",
       "      <td>C</td>\n",
       "      <td>Commercial building</td>\n",
       "      <td>1</td>\n",
       "      <td>1</td>\n",
       "      <td>D</td>\n",
       "      <td>$500,000 to $1,000,000</td>\n",
       "      <td>B</td>\n",
       "      <td>Alteration or rehabilitation</td>\n",
       "      <td>Fatal</td>\n",
       "      <td>21</td>\n",
       "      <td>Serious Fall/Strike</td>\n",
       "      <td>13</td>\n",
       "      <td>Head</td>\n",
       "      <td>5</td>\n",
       "      <td>Fall (from elevation)</td>\n",
       "      <td>13</td>\n",
       "      <td>Work-Surface/Facility-Layout Condition</td>\n",
       "      <td>14</td>\n",
       "      <td>Other</td>\n",
       "      <td>1</td>\n",
       "      <td>Regularly Assigned</td>\n",
       "      <td>0</td>\n",
       "      <td>15</td>\n",
       "      <td>0</td>\n",
       "    </tr>\n",
       "    <tr>\n",
       "      <th>4</th>\n",
       "      <td>220977748</td>\n",
       "      <td>6/23/2017</td>\n",
       "      <td>At 12:20 p.m. on June 23, 2017, an employee wa...</td>\n",
       "      <td>EMPLOYEE IS STRUCK BY PLYWOOD WHILE UNLOADING ...</td>\n",
       "      <td>STRUCK BY,TRUCK,BRAIN,NECK,FRACTURE,UNSTABLE LOAD</td>\n",
       "      <td>0</td>\n",
       "      <td></td>\n",
       "      <td>0</td>\n",
       "      <td></td>\n",
       "      <td>0</td>\n",
       "      <td></td>\n",
       "      <td>0</td>\n",
       "      <td></td>\n",
       "      <td>Nonfatal</td>\n",
       "      <td>3</td>\n",
       "      <td>Bruising, Contusion</td>\n",
       "      <td>20</td>\n",
       "      <td>Neck</td>\n",
       "      <td>1</td>\n",
       "      <td>Struck-by</td>\n",
       "      <td>6</td>\n",
       "      <td>Overhead Moving/Falling Object Action</td>\n",
       "      <td>15</td>\n",
       "      <td>Insufficient/Lack/Housekeeping Program</td>\n",
       "      <td>1</td>\n",
       "      <td>Regularly Assigned</td>\n",
       "      <td>0</td>\n",
       "      <td>0</td>\n",
       "      <td>0</td>\n",
       "    </tr>\n",
       "    <tr>\n",
       "      <th>...</th>\n",
       "      <td>...</td>\n",
       "      <td>...</td>\n",
       "      <td>...</td>\n",
       "      <td>...</td>\n",
       "      <td>...</td>\n",
       "      <td>...</td>\n",
       "      <td>...</td>\n",
       "      <td>...</td>\n",
       "      <td>...</td>\n",
       "      <td>...</td>\n",
       "      <td>...</td>\n",
       "      <td>...</td>\n",
       "      <td>...</td>\n",
       "      <td>...</td>\n",
       "      <td>...</td>\n",
       "      <td>...</td>\n",
       "      <td>...</td>\n",
       "      <td>...</td>\n",
       "      <td>...</td>\n",
       "      <td>...</td>\n",
       "      <td>...</td>\n",
       "      <td>...</td>\n",
       "      <td>...</td>\n",
       "      <td>...</td>\n",
       "      <td>...</td>\n",
       "      <td>...</td>\n",
       "      <td>...</td>\n",
       "      <td>...</td>\n",
       "      <td>...</td>\n",
       "    </tr>\n",
       "    <tr>\n",
       "      <th>4842</th>\n",
       "      <td>220778856</td>\n",
       "      <td>7/1/2015</td>\n",
       "      <td>At approximately 9:15 a.m. on July 1, 2015, Em...</td>\n",
       "      <td>EMPLOYEE FALLS FROM BILLBOARD, SUSTAINS TRAUMA...</td>\n",
       "      <td>FALL,LOST BALANCE,LADDER</td>\n",
       "      <td>0</td>\n",
       "      <td></td>\n",
       "      <td>0</td>\n",
       "      <td></td>\n",
       "      <td>0</td>\n",
       "      <td></td>\n",
       "      <td>0</td>\n",
       "      <td></td>\n",
       "      <td>Fatal</td>\n",
       "      <td>6</td>\n",
       "      <td>Head Trauma</td>\n",
       "      <td>4</td>\n",
       "      <td>Whole Body</td>\n",
       "      <td>5</td>\n",
       "      <td>Fall (from elevation)</td>\n",
       "      <td>18</td>\n",
       "      <td>Other</td>\n",
       "      <td>8</td>\n",
       "      <td>Perception Malfunction Task-Environment</td>\n",
       "      <td>1</td>\n",
       "      <td>Regularly Assigned</td>\n",
       "      <td>0</td>\n",
       "      <td>0</td>\n",
       "      <td>0</td>\n",
       "    </tr>\n",
       "    <tr>\n",
       "      <th>4843</th>\n",
       "      <td>220778096</td>\n",
       "      <td>7/1/2015</td>\n",
       "      <td>At approximately 8:30 a.m. on July 1, 2015, Em...</td>\n",
       "      <td>EMPLOYEE FALLS FROM ELEVATION, SUSTAINS HEAD T...</td>\n",
       "      <td>FALL,LOST BALANCE,HEAD</td>\n",
       "      <td>0</td>\n",
       "      <td></td>\n",
       "      <td>0</td>\n",
       "      <td></td>\n",
       "      <td>0</td>\n",
       "      <td></td>\n",
       "      <td>0</td>\n",
       "      <td></td>\n",
       "      <td>Fatal</td>\n",
       "      <td>21</td>\n",
       "      <td>Serious Fall/Strike</td>\n",
       "      <td>13</td>\n",
       "      <td>Head</td>\n",
       "      <td>5</td>\n",
       "      <td>Fall (from elevation)</td>\n",
       "      <td>13</td>\n",
       "      <td>Work-Surface/Facility-Layout Condition</td>\n",
       "      <td>6</td>\n",
       "      <td>Equipment Inappropriate For Operation</td>\n",
       "      <td>2</td>\n",
       "      <td>Not Regularly Assigned</td>\n",
       "      <td>0</td>\n",
       "      <td>0</td>\n",
       "      <td>0</td>\n",
       "    </tr>\n",
       "    <tr>\n",
       "      <th>4844</th>\n",
       "      <td>220778112</td>\n",
       "      <td>7/1/2015</td>\n",
       "      <td>At 3:00 p.m. on July 1, 2015, an employee was ...</td>\n",
       "      <td>EMPLOYEE FOUND UNRESPONSIVE BY HOME OWNER DURI...</td>\n",
       "      <td>UNCONSCIOUSNESS</td>\n",
       "      <td>0</td>\n",
       "      <td></td>\n",
       "      <td>0</td>\n",
       "      <td></td>\n",
       "      <td>0</td>\n",
       "      <td></td>\n",
       "      <td>0</td>\n",
       "      <td></td>\n",
       "      <td>Fatal</td>\n",
       "      <td>21</td>\n",
       "      <td>Serious Fall/Strike</td>\n",
       "      <td>4</td>\n",
       "      <td>Whole Body</td>\n",
       "      <td>14</td>\n",
       "      <td>Other</td>\n",
       "      <td>18</td>\n",
       "      <td>Other</td>\n",
       "      <td>14</td>\n",
       "      <td>Other</td>\n",
       "      <td>1</td>\n",
       "      <td>Regularly Assigned</td>\n",
       "      <td>0</td>\n",
       "      <td>0</td>\n",
       "      <td>0</td>\n",
       "    </tr>\n",
       "    <tr>\n",
       "      <th>4845</th>\n",
       "      <td>220777940</td>\n",
       "      <td>7/1/2015</td>\n",
       "      <td>At approximately 2:30 p.m. on July 1, 2015, Em...</td>\n",
       "      <td>EMPLOYEE IS STRUCK AND KILLED BY LOGGING TRUCK...</td>\n",
       "      <td>STRUCK BY,MOTOR VEHICLE</td>\n",
       "      <td>0</td>\n",
       "      <td></td>\n",
       "      <td>0</td>\n",
       "      <td></td>\n",
       "      <td>0</td>\n",
       "      <td></td>\n",
       "      <td>0</td>\n",
       "      <td></td>\n",
       "      <td>Fatal</td>\n",
       "      <td>21</td>\n",
       "      <td>Serious Fall/Strike</td>\n",
       "      <td>4</td>\n",
       "      <td>Whole Body</td>\n",
       "      <td>1</td>\n",
       "      <td>Struck-by</td>\n",
       "      <td>13</td>\n",
       "      <td>Work-Surface/Facility-Layout Condition</td>\n",
       "      <td>1</td>\n",
       "      <td>Misjudgment, Hazardous Situation</td>\n",
       "      <td>1</td>\n",
       "      <td>Regularly Assigned</td>\n",
       "      <td>0</td>\n",
       "      <td>0</td>\n",
       "      <td>0</td>\n",
       "    </tr>\n",
       "    <tr>\n",
       "      <th>4846</th>\n",
       "      <td>220778195</td>\n",
       "      <td>7/1/2015</td>\n",
       "      <td>At approximately 2:15 p.m. on July 1, 2015, Em...</td>\n",
       "      <td>EMPLOYEE IS STRUCK BY OVERTURNED STANDUP FORKL...</td>\n",
       "      <td>CRUSHING,STRUCK BY,POWERED INDUSTRIAL VEHICLE,...</td>\n",
       "      <td>0</td>\n",
       "      <td></td>\n",
       "      <td>0</td>\n",
       "      <td></td>\n",
       "      <td>0</td>\n",
       "      <td></td>\n",
       "      <td>0</td>\n",
       "      <td></td>\n",
       "      <td>Fatal</td>\n",
       "      <td>21</td>\n",
       "      <td>Serious Fall/Strike</td>\n",
       "      <td>16</td>\n",
       "      <td>Left Leg</td>\n",
       "      <td>1</td>\n",
       "      <td>Struck-by</td>\n",
       "      <td>8</td>\n",
       "      <td>Materials Handling Equip./Method</td>\n",
       "      <td>11</td>\n",
       "      <td>Mater-Handling Procedure Inappropriate</td>\n",
       "      <td>1</td>\n",
       "      <td>Regularly Assigned</td>\n",
       "      <td>0</td>\n",
       "      <td>0</td>\n",
       "      <td>0</td>\n",
       "    </tr>\n",
       "  </tbody>\n",
       "</table>\n",
       "<p>4847 rows × 29 columns</p>\n",
       "</div>"
      ],
      "text/plain": [
       "      summary_nr Event Date  \\\n",
       "0      220982664  8/10/2017   \n",
       "1      220973937  7/17/2017   \n",
       "2      220967632  6/30/2017   \n",
       "3      220969901  6/30/2017   \n",
       "4      220977748  6/23/2017   \n",
       "...          ...        ...   \n",
       "4842   220778856   7/1/2015   \n",
       "4843   220778096   7/1/2015   \n",
       "4844   220778112   7/1/2015   \n",
       "4845   220777940   7/1/2015   \n",
       "4846   220778195   7/1/2015   \n",
       "\n",
       "                                          Abstract Text  \\\n",
       "0     At 9:00 a.m. on August 10, 2017, an employee w...   \n",
       "1     At 9:45 a.m. on July 17, 2017, an employee was...   \n",
       "2     At 7:30 a.m. on June 30, 2017, an employee was...   \n",
       "3     At 2:00 p.m. on June 30, 2017, an employee was...   \n",
       "4     At 12:20 p.m. on June 23, 2017, an employee wa...   \n",
       "...                                                 ...   \n",
       "4842  At approximately 9:15 a.m. on July 1, 2015, Em...   \n",
       "4843  At approximately 8:30 a.m. on July 1, 2015, Em...   \n",
       "4844  At 3:00 p.m. on July 1, 2015, an employee was ...   \n",
       "4845  At approximately 2:30 p.m. on July 1, 2015, Em...   \n",
       "4846  At approximately 2:15 p.m. on July 1, 2015, Em...   \n",
       "\n",
       "                                      Event Description  \\\n",
       "0     EMPLOYEE'S FINGERS AMPUTATED WHILE OPERATING A...   \n",
       "1     EMPLOYEE'S FINGER IS CAUGHT IN DRILL AND IS AM...   \n",
       "2     EMPLOYEE IS HOSPITALIZED AFTER BEING INJURED I...   \n",
       "3               EMPLOYEE FALLS FROM ROOF AND IS INJURED   \n",
       "4     EMPLOYEE IS STRUCK BY PLYWOOD WHILE UNLOADING ...   \n",
       "...                                                 ...   \n",
       "4842  EMPLOYEE FALLS FROM BILLBOARD, SUSTAINS TRAUMA...   \n",
       "4843  EMPLOYEE FALLS FROM ELEVATION, SUSTAINS HEAD T...   \n",
       "4844  EMPLOYEE FOUND UNRESPONSIVE BY HOME OWNER DURI...   \n",
       "4845  EMPLOYEE IS STRUCK AND KILLED BY LOGGING TRUCK...   \n",
       "4846  EMPLOYEE IS STRUCK BY OVERTURNED STANDUP FORKL...   \n",
       "\n",
       "                                         Event Keywords con_end  \\\n",
       "0        FINGER,MECHANICAL POWER PRESS,AMPUTATION,GUARD       0   \n",
       "1     CAUGHT IN,DRIVE SHAFT,RESIDENTIAL CONSTRUCTION...       H   \n",
       "2                         AMPUTATED,EXPLOSION,FIREWORKS       0   \n",
       "3     RIB,ROOF,HEAD,FALL PROTECTION,FALL,COLLARBONE,...       C   \n",
       "4     STRUCK BY,TRUCK,BRAIN,NECK,FRACTURE,UNSTABLE LOAD       0   \n",
       "...                                                 ...     ...   \n",
       "4842                           FALL,LOST BALANCE,LADDER       0   \n",
       "4843                             FALL,LOST BALANCE,HEAD       0   \n",
       "4844                                    UNCONSCIOUSNESS       0   \n",
       "4845                            STRUCK BY,MOTOR VEHICLE       0   \n",
       "4846  CRUSHING,STRUCK BY,POWERED INDUSTRIAL VEHICLE,...       0   \n",
       "\n",
       "     Construction End Use  build_stor Building Stories proj_cost  \\\n",
       "0                                   0                          0   \n",
       "1          Other building           1                1         0   \n",
       "2                                   0                          0   \n",
       "3     Commercial building           1                1         D   \n",
       "4                                   0                          0   \n",
       "...                   ...         ...              ...       ...   \n",
       "4842                                0                          0   \n",
       "4843                                0                          0   \n",
       "4844                                0                          0   \n",
       "4845                                0                          0   \n",
       "4846                                0                          0   \n",
       "\n",
       "                Project Cost proj_type                  Project Type  \\\n",
       "0                                    0                                 \n",
       "1                                    B  Alteration or rehabilitation   \n",
       "2                                    0                                 \n",
       "3     $500,000 to $1,000,000         B  Alteration or rehabilitation   \n",
       "4                                    0                                 \n",
       "...                      ...       ...                           ...   \n",
       "4842                                 0                                 \n",
       "4843                                 0                                 \n",
       "4844                                 0                                 \n",
       "4845                                 0                                 \n",
       "4846                                 0                                 \n",
       "\n",
       "     Degree of Injury  nature_of_inj      Nature of Injury  part_of_body  \\\n",
       "0            Nonfatal              1  Amputation, Crushing            10   \n",
       "1            Nonfatal              9           Dislocation            10   \n",
       "2            Nonfatal              5             Fire Burn            12   \n",
       "3               Fatal             21   Serious Fall/Strike            13   \n",
       "4            Nonfatal              3   Bruising, Contusion            20   \n",
       "...               ...            ...                   ...           ...   \n",
       "4842            Fatal              6           Head Trauma             4   \n",
       "4843            Fatal             21   Serious Fall/Strike            13   \n",
       "4844            Fatal             21   Serious Fall/Strike             4   \n",
       "4845            Fatal             21   Serious Fall/Strike             4   \n",
       "4846            Fatal             21   Serious Fall/Strike            16   \n",
       "\n",
       "     Part of Body  event_type             Event type  evn_factor  \\\n",
       "0         Fingers           2   Caught in or between           2   \n",
       "1         Fingers           2   Caught in or between          18   \n",
       "2            Hand          14                  Other          18   \n",
       "3            Head           5  Fall (from elevation)          13   \n",
       "4            Neck           1              Struck-by           6   \n",
       "...           ...         ...                    ...         ...   \n",
       "4842   Whole Body           5  Fall (from elevation)          18   \n",
       "4843         Head           5  Fall (from elevation)          13   \n",
       "4844   Whole Body          14                  Other          18   \n",
       "4845   Whole Body           1              Struck-by          13   \n",
       "4846     Left Leg           1              Struck-by           8   \n",
       "\n",
       "                        Environmental Factor  hum_factor  \\\n",
       "0                Catch Point/Puncture Action          14   \n",
       "1                                      Other          10   \n",
       "2                                      Other           4   \n",
       "3     Work-Surface/Facility-Layout Condition          14   \n",
       "4      Overhead Moving/Falling Object Action          15   \n",
       "...                                      ...         ...   \n",
       "4842                                   Other           8   \n",
       "4843  Work-Surface/Facility-Layout Condition           6   \n",
       "4844                                   Other          14   \n",
       "4845  Work-Surface/Facility-Layout Condition           1   \n",
       "4846        Materials Handling Equip./Method          11   \n",
       "\n",
       "                                 Human Factor  task_assigned  \\\n",
       "0                                       Other              1   \n",
       "1             Position Inappropriate For Task              1   \n",
       "2          Malfunction In Securing/Warning Op              2   \n",
       "3                                       Other              1   \n",
       "4      Insufficient/Lack/Housekeeping Program              1   \n",
       "...                                       ...            ...   \n",
       "4842  Perception Malfunction Task-Environment              1   \n",
       "4843    Equipment Inappropriate For Operation              2   \n",
       "4844                                    Other              1   \n",
       "4845         Misjudgment, Hazardous Situation              1   \n",
       "4846   Mater-Handling Procedure Inappropriate              1   \n",
       "\n",
       "               Task Assigned hazsub  fat_cause  fall_ht  \n",
       "0         Regularly Assigned      0          0        0  \n",
       "1         Regularly Assigned      0          0        0  \n",
       "2     Not Regularly Assigned      0          0        0  \n",
       "3         Regularly Assigned      0         15        0  \n",
       "4         Regularly Assigned      0          0        0  \n",
       "...                      ...    ...        ...      ...  \n",
       "4842      Regularly Assigned      0          0        0  \n",
       "4843  Not Regularly Assigned      0          0        0  \n",
       "4844      Regularly Assigned      0          0        0  \n",
       "4845      Regularly Assigned      0          0        0  \n",
       "4846      Regularly Assigned      0          0        0  \n",
       "\n",
       "[4847 rows x 29 columns]"
      ]
     },
     "execution_count": 36,
     "metadata": {},
     "output_type": "execute_result"
    }
   ],
   "source": [
    "pd.set_option('display.max_columns', 30)\n",
    "df"
   ]
  },
  {
   "cell_type": "markdown",
   "metadata": {},
   "source": [
    "## Data Preprocessing and Exploration"
   ]
  },
  {
   "cell_type": "markdown",
   "metadata": {},
   "source": [
    "In this section, we will prepare and explore the dataset to ensure it is suitable for building our predictive model. This involves several essential steps, including handling missing values, converting data types, and examining data distributions."
   ]
  },
  {
   "cell_type": "markdown",
   "metadata": {},
   "source": [
    "#### Handling Missig Value"
   ]
  },
  {
   "cell_type": "code",
   "execution_count": 37,
   "metadata": {},
   "outputs": [
    {
     "data": {
      "text/plain": [
       "20"
      ]
     },
     "execution_count": 37,
     "metadata": {},
     "output_type": "execute_result"
    }
   ],
   "source": [
    "total_null_values = df.isnull().sum().sum()\n",
    "total_null_values"
   ]
  },
  {
   "cell_type": "code",
   "execution_count": 38,
   "metadata": {},
   "outputs": [
    {
     "data": {
      "text/plain": [
       "summary_nr              0\n",
       "Event Date              0\n",
       "Abstract Text           0\n",
       "Event Description       0\n",
       "Event Keywords          0\n",
       "con_end                 0\n",
       "Construction End Use    0\n",
       "build_stor              0\n",
       "Building Stories        0\n",
       "proj_cost               0\n",
       "Project Cost            0\n",
       "proj_type               0\n",
       "Project Type            0\n",
       "Degree of Injury        0\n",
       "nature_of_inj           0\n",
       "Nature of Injury        2\n",
       "part_of_body            0\n",
       "Part of Body            2\n",
       "event_type              0\n",
       "Event type              2\n",
       "evn_factor              0\n",
       "Environmental Factor    7\n",
       "hum_factor              0\n",
       "Human Factor            7\n",
       "task_assigned           0\n",
       "Task Assigned           0\n",
       "hazsub                  0\n",
       "fat_cause               0\n",
       "fall_ht                 0\n",
       "dtype: int64"
      ]
     },
     "execution_count": 38,
     "metadata": {},
     "output_type": "execute_result"
    }
   ],
   "source": [
    "null_values_per_column = df.isnull().sum()\n",
    "null_values_per_column"
   ]
  },
  {
   "cell_type": "markdown",
   "metadata": {},
   "source": [
    "Upon inspection of the dataset, several columns like 'Nature of Injury', 'Part of Body', and others had missing values. Additionally, these rows often lacked data in multiple columns. Considering these rows represented a mere 0.19% of the dataset (9 out of 4847 rows), they will be dropped. This decision prioritized data integrity, minimized loss of information, and simplified the analysis by ensuring it's based on complete records without the complexities of imputation."
   ]
  },
  {
   "cell_type": "code",
   "execution_count": 39,
   "metadata": {},
   "outputs": [],
   "source": [
    "df_drop = df.dropna()"
   ]
  },
  {
   "cell_type": "code",
   "execution_count": 40,
   "metadata": {},
   "outputs": [
    {
     "data": {
      "text/plain": [
       "(4838, 29)"
      ]
     },
     "execution_count": 40,
     "metadata": {},
     "output_type": "execute_result"
    }
   ],
   "source": [
    "df_drop.shape"
   ]
  },
  {
   "cell_type": "markdown",
   "metadata": {},
   "source": [
    "After dropping these rows, the revised dataset has 4838 rows and 29 columns. We'll continue our analysis with this cleaned dataset, ensuring more reliable and comprehensive insights."
   ]
  },
  {
   "cell_type": "markdown",
   "metadata": {},
   "source": [
    "#### Handling Blank Space"
   ]
  },
  {
   "cell_type": "markdown",
   "metadata": {},
   "source": [
    "Our examination revealed four features ('Construction End Use', 'Project Cost', 'Building Stories', and 'Project Type') contain blank spaces, indicating missing or unspecified values."
   ]
  },
  {
   "cell_type": "code",
   "execution_count": 41,
   "metadata": {
    "scrolled": true
   },
   "outputs": [
    {
     "data": {
      "text/plain": [
       "                                         3813\n",
       "Commercial building                       279\n",
       "Single family or duplex dwelling          193\n",
       "Other building                            139\n",
       "Multi-family dwelling                     130\n",
       "Highway, road, street                      84\n",
       "Manufacturing plant                        39\n",
       "Pipeline                                   34\n",
       "Other heavy construction                   32\n",
       "Sewer/water treatment plant                20\n",
       "Bridge                                     20\n",
       "Power line, transmission line              17\n",
       "Contractor's yard/facility                  9\n",
       "Refinery                                    8\n",
       "Power plant                                 7\n",
       "Tower, tank, storage ,elevator              6\n",
       "Excavation, landfill                        6\n",
       "Shoreline development, dam, reservoir       2\n",
       "Name: Construction End Use, dtype: int64"
      ]
     },
     "execution_count": 41,
     "metadata": {},
     "output_type": "execute_result"
    }
   ],
   "source": [
    "df_drop['Construction End Use'].value_counts()"
   ]
  },
  {
   "cell_type": "code",
   "execution_count": 42,
   "metadata": {},
   "outputs": [
    {
     "data": {
      "text/plain": [
       "                              4252\n",
       "Under $50,000                  159\n",
       "$1,000,000 to $5,000,000       106\n",
       "$50,000 to $250,000             74\n",
       "$500,000 to $1,000,000          74\n",
       "$250,000 to $500,000            72\n",
       "$10,000,000 to $20,000,000      53\n",
       "$5,000,000 to $10,000,000       48\n",
       "Name: Project Cost, dtype: int64"
      ]
     },
     "execution_count": 42,
     "metadata": {},
     "output_type": "execute_result"
    }
   ],
   "source": [
    "df_drop['Project Cost'].value_counts()"
   ]
  },
  {
   "cell_type": "code",
   "execution_count": 43,
   "metadata": {},
   "outputs": [
    {
     "data": {
      "text/plain": [
       "0    4252\n",
       "A     159\n",
       "E     106\n",
       "D      74\n",
       "B      74\n",
       "C      72\n",
       "G      53\n",
       "F      48\n",
       "Name: proj_cost, dtype: int64"
      ]
     },
     "execution_count": 43,
     "metadata": {},
     "output_type": "execute_result"
    }
   ],
   "source": [
    "df_drop['proj_cost'].value_counts()"
   ]
  },
  {
   "cell_type": "code",
   "execution_count": 44,
   "metadata": {},
   "outputs": [
    {
     "data": {
      "text/plain": [
       "                                3760\n",
       "New project or new addition      566\n",
       "Alteration or rehabilitation     262\n",
       "Maintenance or repair            159\n",
       "Demolition                        49\n",
       "Other                             42\n",
       "Name: Project Type, dtype: int64"
      ]
     },
     "execution_count": 44,
     "metadata": {},
     "output_type": "execute_result"
    }
   ],
   "source": [
    "df_drop['Project Type'].value_counts()"
   ]
  },
  {
   "cell_type": "markdown",
   "metadata": {},
   "source": [
    "#### Dropping Unnecessary Columns"
   ]
  },
  {
   "cell_type": "markdown",
   "metadata": {},
   "source": [
    "Based on our inspection, we're dropping \"Construction End Use\" due to its minor relevance to accident severity. \"Project Cost\" and \"Project Type\" are removed because of data insufficiency. Other columns like 'nature_of_inj', 'part_of_body', 'event_type', 'evn_factor', 'hum_factor', and 'task_assigned' are eliminated due to redundancy, as they have categorical equivalents. We opt for categorical columns, anticipating they may yield simpler models with potentially superior or comparable performance to numerical columns. Accordingly, we drop these columns from our dataset."
   ]
  },
  {
   "cell_type": "code",
   "execution_count": 45,
   "metadata": {},
   "outputs": [],
   "source": [
    "# Creating a copy of the DataFrame\n",
    "df_clean = df_drop.copy()\n",
    "\n",
    "# Making the changes on df_clean\n",
    "df_clean.drop(columns=['Construction End Use', 'Project Type', 'con_end', 'proj_type','Building Stories', 'Project Cost', 'proj_cost', 'nature_of_inj', 'part_of_body', 'event_type', 'evn_factor', 'hum_factor', 'task_assigned' ],inplace=True)"
   ]
  },
  {
   "cell_type": "code",
   "execution_count": 46,
   "metadata": {},
   "outputs": [
    {
     "data": {
      "text/html": [
       "<div>\n",
       "<style scoped>\n",
       "    .dataframe tbody tr th:only-of-type {\n",
       "        vertical-align: middle;\n",
       "    }\n",
       "\n",
       "    .dataframe tbody tr th {\n",
       "        vertical-align: top;\n",
       "    }\n",
       "\n",
       "    .dataframe thead th {\n",
       "        text-align: right;\n",
       "    }\n",
       "</style>\n",
       "<table border=\"1\" class=\"dataframe\">\n",
       "  <thead>\n",
       "    <tr style=\"text-align: right;\">\n",
       "      <th></th>\n",
       "      <th>summary_nr</th>\n",
       "      <th>Event Date</th>\n",
       "      <th>Abstract Text</th>\n",
       "      <th>Event Description</th>\n",
       "      <th>Event Keywords</th>\n",
       "      <th>build_stor</th>\n",
       "      <th>Degree of Injury</th>\n",
       "      <th>Nature of Injury</th>\n",
       "      <th>Part of Body</th>\n",
       "      <th>Event type</th>\n",
       "      <th>Environmental Factor</th>\n",
       "      <th>Human Factor</th>\n",
       "      <th>Task Assigned</th>\n",
       "      <th>hazsub</th>\n",
       "      <th>fat_cause</th>\n",
       "      <th>fall_ht</th>\n",
       "    </tr>\n",
       "  </thead>\n",
       "  <tbody>\n",
       "    <tr>\n",
       "      <th>0</th>\n",
       "      <td>220982664</td>\n",
       "      <td>8/10/2017</td>\n",
       "      <td>At 9:00 a.m. on August 10, 2017, an employee w...</td>\n",
       "      <td>EMPLOYEE'S FINGERS AMPUTATED WHILE OPERATING A...</td>\n",
       "      <td>FINGER,MECHANICAL POWER PRESS,AMPUTATION,GUARD</td>\n",
       "      <td>0</td>\n",
       "      <td>Nonfatal</td>\n",
       "      <td>Amputation, Crushing</td>\n",
       "      <td>Fingers</td>\n",
       "      <td>Caught in or between</td>\n",
       "      <td>Catch Point/Puncture Action</td>\n",
       "      <td>Other</td>\n",
       "      <td>Regularly Assigned</td>\n",
       "      <td>0</td>\n",
       "      <td>0</td>\n",
       "      <td>0</td>\n",
       "    </tr>\n",
       "    <tr>\n",
       "      <th>1</th>\n",
       "      <td>220973937</td>\n",
       "      <td>7/17/2017</td>\n",
       "      <td>At 9:45 a.m. on July 17, 2017, an employee was...</td>\n",
       "      <td>EMPLOYEE'S FINGER IS CAUGHT IN DRILL AND IS AM...</td>\n",
       "      <td>CAUGHT IN,DRIVE SHAFT,RESIDENTIAL CONSTRUCTION...</td>\n",
       "      <td>1</td>\n",
       "      <td>Nonfatal</td>\n",
       "      <td>Dislocation</td>\n",
       "      <td>Fingers</td>\n",
       "      <td>Caught in or between</td>\n",
       "      <td>Other</td>\n",
       "      <td>Position Inappropriate For Task</td>\n",
       "      <td>Regularly Assigned</td>\n",
       "      <td>0</td>\n",
       "      <td>0</td>\n",
       "      <td>0</td>\n",
       "    </tr>\n",
       "    <tr>\n",
       "      <th>2</th>\n",
       "      <td>220967632</td>\n",
       "      <td>6/30/2017</td>\n",
       "      <td>At 7:30 a.m. on June 30, 2017, an employee was...</td>\n",
       "      <td>EMPLOYEE IS HOSPITALIZED AFTER BEING INJURED I...</td>\n",
       "      <td>AMPUTATED,EXPLOSION,FIREWORKS</td>\n",
       "      <td>0</td>\n",
       "      <td>Nonfatal</td>\n",
       "      <td>Fire Burn</td>\n",
       "      <td>Hand</td>\n",
       "      <td>Other</td>\n",
       "      <td>Other</td>\n",
       "      <td>Malfunction In Securing/Warning Op</td>\n",
       "      <td>Not Regularly Assigned</td>\n",
       "      <td>0</td>\n",
       "      <td>0</td>\n",
       "      <td>0</td>\n",
       "    </tr>\n",
       "    <tr>\n",
       "      <th>3</th>\n",
       "      <td>220969901</td>\n",
       "      <td>6/30/2017</td>\n",
       "      <td>At 2:00 p.m. on June 30, 2017, an employee was...</td>\n",
       "      <td>EMPLOYEE FALLS FROM ROOF AND IS INJURED</td>\n",
       "      <td>RIB,ROOF,HEAD,FALL PROTECTION,FALL,COLLARBONE,...</td>\n",
       "      <td>1</td>\n",
       "      <td>Fatal</td>\n",
       "      <td>Serious Fall/Strike</td>\n",
       "      <td>Head</td>\n",
       "      <td>Fall (from elevation)</td>\n",
       "      <td>Work-Surface/Facility-Layout Condition</td>\n",
       "      <td>Other</td>\n",
       "      <td>Regularly Assigned</td>\n",
       "      <td>0</td>\n",
       "      <td>15</td>\n",
       "      <td>0</td>\n",
       "    </tr>\n",
       "    <tr>\n",
       "      <th>4</th>\n",
       "      <td>220977748</td>\n",
       "      <td>6/23/2017</td>\n",
       "      <td>At 12:20 p.m. on June 23, 2017, an employee wa...</td>\n",
       "      <td>EMPLOYEE IS STRUCK BY PLYWOOD WHILE UNLOADING ...</td>\n",
       "      <td>STRUCK BY,TRUCK,BRAIN,NECK,FRACTURE,UNSTABLE LOAD</td>\n",
       "      <td>0</td>\n",
       "      <td>Nonfatal</td>\n",
       "      <td>Bruising, Contusion</td>\n",
       "      <td>Neck</td>\n",
       "      <td>Struck-by</td>\n",
       "      <td>Overhead Moving/Falling Object Action</td>\n",
       "      <td>Insufficient/Lack/Housekeeping Program</td>\n",
       "      <td>Regularly Assigned</td>\n",
       "      <td>0</td>\n",
       "      <td>0</td>\n",
       "      <td>0</td>\n",
       "    </tr>\n",
       "  </tbody>\n",
       "</table>\n",
       "</div>"
      ],
      "text/plain": [
       "   summary_nr Event Date                                      Abstract Text  \\\n",
       "0   220982664  8/10/2017  At 9:00 a.m. on August 10, 2017, an employee w...   \n",
       "1   220973937  7/17/2017  At 9:45 a.m. on July 17, 2017, an employee was...   \n",
       "2   220967632  6/30/2017  At 7:30 a.m. on June 30, 2017, an employee was...   \n",
       "3   220969901  6/30/2017  At 2:00 p.m. on June 30, 2017, an employee was...   \n",
       "4   220977748  6/23/2017  At 12:20 p.m. on June 23, 2017, an employee wa...   \n",
       "\n",
       "                                   Event Description  \\\n",
       "0  EMPLOYEE'S FINGERS AMPUTATED WHILE OPERATING A...   \n",
       "1  EMPLOYEE'S FINGER IS CAUGHT IN DRILL AND IS AM...   \n",
       "2  EMPLOYEE IS HOSPITALIZED AFTER BEING INJURED I...   \n",
       "3            EMPLOYEE FALLS FROM ROOF AND IS INJURED   \n",
       "4  EMPLOYEE IS STRUCK BY PLYWOOD WHILE UNLOADING ...   \n",
       "\n",
       "                                      Event Keywords  build_stor  \\\n",
       "0     FINGER,MECHANICAL POWER PRESS,AMPUTATION,GUARD           0   \n",
       "1  CAUGHT IN,DRIVE SHAFT,RESIDENTIAL CONSTRUCTION...           1   \n",
       "2                      AMPUTATED,EXPLOSION,FIREWORKS           0   \n",
       "3  RIB,ROOF,HEAD,FALL PROTECTION,FALL,COLLARBONE,...           1   \n",
       "4  STRUCK BY,TRUCK,BRAIN,NECK,FRACTURE,UNSTABLE LOAD           0   \n",
       "\n",
       "  Degree of Injury      Nature of Injury Part of Body             Event type  \\\n",
       "0         Nonfatal  Amputation, Crushing      Fingers   Caught in or between   \n",
       "1         Nonfatal           Dislocation      Fingers   Caught in or between   \n",
       "2         Nonfatal             Fire Burn         Hand                  Other   \n",
       "3            Fatal   Serious Fall/Strike         Head  Fall (from elevation)   \n",
       "4         Nonfatal   Bruising, Contusion         Neck              Struck-by   \n",
       "\n",
       "                     Environmental Factor  \\\n",
       "0             Catch Point/Puncture Action   \n",
       "1                                   Other   \n",
       "2                                   Other   \n",
       "3  Work-Surface/Facility-Layout Condition   \n",
       "4   Overhead Moving/Falling Object Action   \n",
       "\n",
       "                             Human Factor           Task Assigned hazsub  \\\n",
       "0                                   Other      Regularly Assigned      0   \n",
       "1         Position Inappropriate For Task      Regularly Assigned      0   \n",
       "2      Malfunction In Securing/Warning Op  Not Regularly Assigned      0   \n",
       "3                                   Other      Regularly Assigned      0   \n",
       "4  Insufficient/Lack/Housekeeping Program      Regularly Assigned      0   \n",
       "\n",
       "   fat_cause  fall_ht  \n",
       "0          0        0  \n",
       "1          0        0  \n",
       "2          0        0  \n",
       "3         15        0  \n",
       "4          0        0  "
      ]
     },
     "execution_count": 46,
     "metadata": {},
     "output_type": "execute_result"
    }
   ],
   "source": [
    "df_clean.head()"
   ]
  },
  {
   "cell_type": "markdown",
   "metadata": {},
   "source": [
    "#### Converting Date to datetime format"
   ]
  },
  {
   "cell_type": "markdown",
   "metadata": {},
   "source": [
    "Let convert the date column to a the datetime format."
   ]
  },
  {
   "cell_type": "code",
   "execution_count": 47,
   "metadata": {},
   "outputs": [],
   "source": [
    "# Converting date to datetime format\n",
    "df_clean['Event Date'] = pd.to_datetime(df_drop['Event Date'])"
   ]
  },
  {
   "cell_type": "markdown",
   "metadata": {},
   "source": [
    "#### Dropping Rows And Handling nan In 'hazsub'"
   ]
  },
  {
   "cell_type": "code",
   "execution_count": 48,
   "metadata": {},
   "outputs": [],
   "source": [
    "# Dropping rows where 'hazsub' contains non-numeric values\n",
    "df_clean = df_clean[pd.to_numeric(df_clean['hazsub'], errors='coerce').notna()]\n",
    "\n",
    "# Filling NaN values with default -999\n",
    "df_clean['hazsub'].fillna(-999, inplace=True)\n",
    "\n",
    "# Converting 'hazsub' to int64 type\n",
    "df_clean['hazsub'] = df_clean['hazsub'].astype('int64')"
   ]
  },
  {
   "cell_type": "markdown",
   "metadata": {},
   "source": [
    "#### Checking Class Distribution"
   ]
  },
  {
   "cell_type": "code",
   "execution_count": 455,
   "metadata": {},
   "outputs": [
    {
     "data": {
      "image/png": "[encoded data removed]",
      "text/plain": [
       "<Figure size 864x432 with 1 Axes>"
      ]
     },
     "metadata": {
      "needs_background": "light"
     },
     "output_type": "display_data"
    }
   ],
   "source": [
    "# Getting value counts\n",
    "value_counts = df_clean['Degree of Injury'].value_counts()\n",
    "\n",
    "# Plotting\n",
    "plt.figure(figsize=(12,6))\n",
    "value_counts.plot(kind='bar', color= 'blue')\n",
    "plt.title('Distribution of Degree of Injury')\n",
    "plt.xlabel('Degree of Injury Encoded')\n",
    "plt.ylabel('Count')\n",
    "plt.xticks(rotation=0)\n",
    "plt.show()"
   ]
  },
  {
   "cell_type": "code",
   "execution_count": 50,
   "metadata": {},
   "outputs": [
    {
     "data": {
      "text/plain": [
       "Fatal       2954\n",
       "Nonfatal    1878\n",
       "Name: Degree of Injury, dtype: int64"
      ]
     },
     "execution_count": 50,
     "metadata": {},
     "output_type": "execute_result"
    }
   ],
   "source": [
    "value_counts"
   ]
  },
  {
   "cell_type": "markdown",
   "metadata": {},
   "source": [
    "The data exhibits a moderate class imbalance with 61% fatal injuries and 39% non-fatal. This skew can impact the model predictions. Depending on the baseline model evaluation, appropriate techniques will be employed to address this imbalance."
   ]
  },
  {
   "cell_type": "markdown",
   "metadata": {},
   "source": [
    "#####  Number of Incidents Over Time"
   ]
  },
  {
   "cell_type": "code",
   "execution_count": 51,
   "metadata": {},
   "outputs": [
    {
     "data": {
      "image/png": "[encoded data removed]",
      "text/plain": [
       "<Figure size 1080x504 with 1 Axes>"
      ]
     },
     "metadata": {
      "needs_background": "light"
     },
     "output_type": "display_data"
    }
   ],
   "source": [
    "# Counting the number of incidents on each date\n",
    "incidents_over_time = df_clean['Event Date'].value_counts().sort_index()\n",
    "\n",
    "# Plotting the time series data\n",
    "plt.figure(figsize=(15, 7))\n",
    "incidents_over_time.plot()\n",
    "plt.title('Number of Incidents Over Time')\n",
    "plt.xlabel('Date')\n",
    "plt.ylabel('Number of Incidents')\n",
    "plt.grid(True)\n",
    "plt.show()"
   ]
  },
  {
   "cell_type": "code",
   "execution_count": 52,
   "metadata": {},
   "outputs": [
    {
     "name": "stdout",
     "output_type": "stream",
     "text": [
      "Maximum number of incidents on a single day: 49 on 2017-04-10 00:00:00\n",
      "Minimum number of incidents on a single day (excluding zeros): 1 on 2015-07-05 00:00:00\n"
     ]
    }
   ],
   "source": [
    "# 1. The highest number of incidents on a single day.\n",
    "max_incidents = incidents_over_time.max()\n",
    "\n",
    "# 2. The date when the highest number of incidents occurred.\n",
    "date_max_incidents = incidents_over_time.idxmax()\n",
    "\n",
    "# 3. The lowest number of incidents on a single day (excluding days with zero incidents).\n",
    "min_incidents = incidents_over_time[incidents_over_time > 0].min()\n",
    "\n",
    "# 4. The date when the lowest number of incidents occurred (excluding days with zero incidents).\n",
    "date_min_incidents = incidents_over_time[incidents_over_time > 0].idxmin()\n",
    "\n",
    "# Printing the extracted values\n",
    "print(f\"Maximum number of incidents on a single day: {max_incidents} on {date_max_incidents}\")\n",
    "print(f\"Minimum number of incidents on a single day (excluding zeros): {min_incidents} on {date_min_incidents}\")\n"
   ]
  },
  {
   "cell_type": "code",
   "execution_count": 53,
   "metadata": {},
   "outputs": [],
   "source": [
    "# Extracting month and year from 'Event Date'\n",
    "df_clean['Year'] = df_clean['Event Date'].dt.year\n",
    "df_clean['Month'] = df_clean['Event Date'].dt.month"
   ]
  },
  {
   "cell_type": "code",
   "execution_count": 54,
   "metadata": {},
   "outputs": [
    {
     "data": {
      "image/png": "[encoded data removed]",
      "text/plain": [
       "<Figure size 1080x504 with 1 Axes>"
      ]
     },
     "metadata": {
      "needs_background": "light"
     },
     "output_type": "display_data"
    }
   ],
   "source": [
    "# Grouping by Year and Month to count incidents\n",
    "monthly_incidents = df_clean.groupby(['Year', 'Month']).size().reset_index(name='Incident_Count')\n",
    "\n",
    "# Plotting\n",
    "plt.figure(figsize=(15, 7))\n",
    "for year in monthly_incidents['Year'].unique():\n",
    "    subset = monthly_incidents[monthly_incidents['Year'] == year]\n",
    "    plt.plot(subset['Month'], subset['Incident_Count'], label=f'Year {year}', marker='o')\n",
    "\n",
    "plt.title('Number of Incidents Per Month')\n",
    "plt.xlabel('Month')\n",
    "plt.ylabel('Number of Incidents')\n",
    "plt.legend()\n",
    "plt.grid(True)\n",
    "plt.xticks(range(1, 13), ['Jan', 'Feb', 'Mar', 'Apr', 'May', 'Jun', 'Jul', 'Aug', 'Sep', 'Oct', 'Nov', 'Dec'])\n",
    "plt.show()"
   ]
  },
  {
   "cell_type": "markdown",
   "metadata": {},
   "source": [
    "The time series plots illustrate the frequency of incidents over time. Notably, the highest number of incidents on a single day was recorded as 49 on April 10, 2017. Conversely, the lowest count (excluding days with no incidents) was just a single incident on July 5, 2015. A notable trend observed is the increased frequency of accidents between January 2017 and April 2017, signifying this period as particularly incident-prone compared to other periods. It is imoprtant to notate that as time progresses, the likelihood of construction accident decreases."
   ]
  },
  {
   "cell_type": "markdown",
   "metadata": {},
   "source": [
    "## Model Selection and Evaluation"
   ]
  },
  {
   "cell_type": "markdown",
   "metadata": {},
   "source": [
    "In this section, we will explore a range of machine learning models to predict construction accident severity. Our goal is to identify the most effective model for this task and assess its performance."
   ]
  },
  {
   "cell_type": "markdown",
   "metadata": {},
   "source": [
    "#### Data Splitting"
   ]
  },
  {
   "cell_type": "markdown",
   "metadata": {},
   "source": [
    "We will split the data into training and test sets, reserving 20% of the data for testing, while ensuring that both sets have a similar distribution of our target classes, 'Fatal' and 'Nonfatal'.\n",
    "To evaluate the performance of our models, we'll employ cross-validation. This technique provides a more comprehensive assessment by using different portions of the data for training and validation.\n",
    "After determining the best model through cross-validation, we will then test its performance using the reserved test data. This final evaluation will give us insights into how our selected model is expected to perform on new, unseen data in real-world scenarios."
   ]
  },
  {
   "cell_type": "code",
   "execution_count": 55,
   "metadata": {},
   "outputs": [],
   "source": [
    "# Defining target and features\n",
    "X = df_clean.drop(columns=['Degree of Injury', 'Abstract Text', 'Event Description', 'Event Keywords', 'summary_nr'])\n",
    "y = df_clean['Degree of Injury']\n",
    "\n",
    "# Converting target into binary labels\n",
    "y = y.map({'Nonfatal': 0, 'Fatal': 1})\n",
    "\n",
    "# Splitting the data into training and test sets\n",
    "X_train, X_test, y_train, y_test = train_test_split(X, y, test_size=0.2, random_state=42, stratify=y)"
   ]
  },
  {
   "cell_type": "markdown",
   "metadata": {},
   "source": [
    "#### Encoding - Changing Categorical To Numerical."
   ]
  },
  {
   "cell_type": "code",
   "execution_count": 56,
   "metadata": {},
   "outputs": [],
   "source": [
    "X_train = X_train.copy()\n",
    "X_test = X_test.copy()\n",
    "\n",
    "# Encoding the 'Event Date' into 'Year', 'Month', and 'Day' for better suit in ML\n",
    "X_train['Year'] = X_train['Event Date'].dt.year\n",
    "X_train['Month'] = X_train['Event Date'].dt.month\n",
    "X_train['Day'] = X_train['Event Date'].dt.day\n",
    "\n",
    "X_test['Year'] = X_test['Event Date'].dt.year\n",
    "X_test['Month'] = X_test['Event Date'].dt.month\n",
    "X_test['Day'] = X_test['Event Date'].dt.day\n",
    "\n",
    "# Dropping the 'Event Date' column\n",
    "X_train = X_train.drop(columns=['Event Date'])\n",
    "X_test = X_test.drop(columns=['Event Date'])\n",
    "\n",
    "# Applying the ColumnTransformer to encode categorical and binary features\n",
    "categorical_features = [\"Nature of Injury\", \"Part of Body\", \"Event type\", \"Environmental Factor\", \"Human Factor\"]\n",
    "binary_features = [\"Task Assigned\"]\n",
    "\n",
    "preprocessor = ColumnTransformer(\n",
    "    transformers=[\n",
    "        ('onehot', OneHotEncoder(drop=None, sparse=False, handle_unknown='ignore'), categorical_features),\n",
    "        ('binary', OrdinalEncoder(), binary_features)\n",
    "    ],\n",
    "    remainder='passthrough'\n",
    ")\n",
    "\n",
    "X_train_preprocessed = preprocessor.fit_transform(X_train)\n",
    "X_test_preprocessed = preprocessor.transform(X_test)"
   ]
  },
  {
   "cell_type": "markdown",
   "metadata": {},
   "source": [
    "### Baseline Model"
   ]
  },
  {
   "cell_type": "markdown",
   "metadata": {},
   "source": [
    "We begin the process of building a predictive model for construction accident severity. Our initial step is to create a baseline model using a subset of features, primarily numerical and categorical variables. This model will serve as a starting point for our analysis and allow us to establish a performance baseline."
   ]
  },
  {
   "cell_type": "code",
   "execution_count": 57,
   "metadata": {
    "scrolled": true
   },
   "outputs": [
    {
     "name": "stdout",
     "output_type": "stream",
     "text": [
      "Mean CV Accuracy: 0.9120310478654593\n",
      "Standard Deviation of CV Accuracy: 0.015928324938288614\n",
      "\n",
      "Mean Precision: 0.9274901649481582\n",
      "Standard Deviation of Precision: 0.01482183195773859\n",
      "\n",
      "Mean Recall: 0.9288986634177805\n",
      "Standard Deviation of Recall: 0.018093302740392704\n",
      "\n",
      "Mean F1-Score: 0.9280879920357952\n",
      "Standard Deviation of F1-Score: 0.013203168247678577\n",
      "\n",
      "Mean ROC-AUC: 0.9686519221154617\n",
      "Standard Deviation of ROC-AUC: 0.005312543583569465\n",
      "\n"
     ]
    }
   ],
   "source": [
    "# Scaling the data\n",
    "scaler = StandardScaler()\n",
    "X_train_scaled = scaler.fit_transform(X_train_preprocessed)\n",
    "\n",
    "# Creating a new logistic regression model\n",
    "lr_cv = LogisticRegression(random_state=42, max_iter=1000)\n",
    "\n",
    "# Using cross_val_score to get the performance metrics for each fold\n",
    "accuracies = cross_val_score(lr_cv, X_train_scaled, y_train, cv=5, scoring='accuracy')\n",
    "precision_scores = cross_val_score(lr_cv, X_train_scaled, y_train, cv=5, scoring='precision')\n",
    "recall_scores = cross_val_score(lr_cv, X_train_scaled, y_train, cv=5, scoring='recall')\n",
    "f1_scores = cross_val_score(lr_cv, X_train_scaled, y_train, cv=5, scoring='f1')\n",
    "roc_auc_scores = cross_val_score(lr_cv, X_train_scaled, y_train, cv=5, scoring='roc_auc')\n",
    "\n",
    "# Printing out the mean and standard deviation of the metrics\n",
    "print(f\"Mean CV Accuracy: {accuracies.mean()}\")\n",
    "print(f\"Standard Deviation of CV Accuracy: {accuracies.std()}\")\n",
    "print()\n",
    "\n",
    "print(\"Mean Precision:\", precision_scores.mean())\n",
    "print(\"Standard Deviation of Precision:\", precision_scores.std())\n",
    "print()\n",
    "\n",
    "print(\"Mean Recall:\", recall_scores.mean())\n",
    "print(\"Standard Deviation of Recall:\", recall_scores.std())\n",
    "print()\n",
    "\n",
    "print(\"Mean F1-Score:\", f1_scores.mean())\n",
    "print(\"Standard Deviation of F1-Score:\", f1_scores.std())\n",
    "print()\n",
    "\n",
    "print(\"Mean ROC-AUC:\", roc_auc_scores.mean())\n",
    "print(\"Standard Deviation of ROC-AUC:\", roc_auc_scores.std())\n",
    "print()"
   ]
  },
  {
   "cell_type": "markdown",
   "metadata": {},
   "source": [
    "The Logistic Regression model witohout data text features demonstrates strong performance on the training data, with an average accuracy of approximately 91.20%. The model showcases consistency across different metrics, with precision and recall values around 92.75% and 92.89% respectively, indicating a balanced identification of positive instances. The F1-Score further confirms this balance at about 92.80%. Notably, the ROC-AUC score, at 96.87%, highlights the model's robust capability to distinguish between positive and negative classes. These metrics, combined with their low standard deviations, suggest a reliable and effective model. "
   ]
  },
  {
   "cell_type": "markdown",
   "metadata": {},
   "source": [
    "### Incorporating text data into our machine learning model"
   ]
  },
  {
   "cell_type": "markdown",
   "metadata": {},
   "source": [
    "Text data, including the 'Abstract Text',  'Event Description' and 'Event Keywords' columns hold valuable information that can enhance the accuracy of our construction accident severity prediction model. In this section, we will explore the process of integrating natural language processing (NLP) techniques to leverage this textual information."
   ]
  },
  {
   "cell_type": "markdown",
   "metadata": {},
   "source": [
    "#####  Text Processing"
   ]
  },
  {
   "cell_type": "code",
   "execution_count": 60,
   "metadata": {},
   "outputs": [],
   "source": [
    "# Creating a combined_text column\n",
    "df_clean['combined_text'] = df_clean['Abstract Text'] + ' ' + df_clean['Event Description'] + ' ' + df_clean['Event Keywords']\n",
    "columns_to_drop = ['Abstract Text', 'Event Description', 'Event Keywords', 'summary_nr']\n",
    "df_clean = df_clean.drop(columns=columns_to_drop)"
   ]
  },
  {
   "cell_type": "code",
   "execution_count": 61,
   "metadata": {},
   "outputs": [],
   "source": [
    "# Updating the features to include the new 'combined_text' column.\n",
    "X = df_clean.drop(columns=['Degree of Injury'])"
   ]
  },
  {
   "cell_type": "code",
   "execution_count": 62,
   "metadata": {},
   "outputs": [],
   "source": [
    "# Performing a new train-test split with the updates.\n",
    "X_train, X_test, y_train, y_test = train_test_split(X, y, test_size=0.2, random_state=42, stratify=y)"
   ]
  },
  {
   "cell_type": "code",
   "execution_count": 63,
   "metadata": {},
   "outputs": [],
   "source": [
    "# Converting the combined text into a matrix of TF-IDF features.\n",
    "tfidf = TfidfVectorizer(max_features=5000, stop_words='english') \n",
    "X_text_tfidf_train = tfidf.fit_transform(X_train['combined_text'])\n",
    "X_text_tfidf_test = tfidf.transform(X_test['combined_text'])"
   ]
  },
  {
   "cell_type": "code",
   "execution_count": 64,
   "metadata": {},
   "outputs": [],
   "source": [
    "# Dropping 'combined_text' column\n",
    "X_train = X_train.drop(columns=['combined_text'])\n",
    "X_test = X_test.drop(columns=['combined_text'])"
   ]
  },
  {
   "cell_type": "code",
   "execution_count": 65,
   "metadata": {},
   "outputs": [],
   "source": [
    "# Concatenating the TF-IDF vectors with the previously preprocessed data\n",
    "X_train_full = hstack([X_train_preprocessed, X_text_tfidf_train])\n",
    "X_test_full = hstack([X_test_preprocessed, X_text_tfidf_test])"
   ]
  },
  {
   "cell_type": "markdown",
   "metadata": {},
   "source": [
    "#####  Modeling"
   ]
  },
  {
   "cell_type": "code",
   "execution_count": 66,
   "metadata": {},
   "outputs": [
    {
     "name": "stdout",
     "output_type": "stream",
     "text": [
      "Mean CV Accuracy with Text Data: 0.954980595084088\n",
      "Standard Deviation of CV Accuracy with Text Data: 0.007692661706245036\n",
      "\n",
      "Mean Precision with Text Data: 0.9536101063174943\n",
      "Standard Deviation of Precision with Text Data: 0.006151502224995646\n",
      "\n",
      "Mean Recall with Text Data: 0.9737691260257284\n",
      "Standard Deviation of Recall with Text Data: 0.01022576256328454\n",
      "\n",
      "Mean F1-Score with Text Data: 0.963552744005348\n",
      "Standard Deviation of F1-Score with Text Data: 0.006328106301983464\n",
      "\n",
      "Mean ROC-AUC with Text Data: 0.9825442805781789\n",
      "Standard Deviation of ROC-AUC with Text Data: 0.0023842281823628258\n"
     ]
    }
   ],
   "source": [
    "# Scaling the data\n",
    "scaler = StandardScaler(with_mean=False)  \n",
    "X_train_scaled_full = scaler.fit_transform(X_train_full)\n",
    "X_test_scaled_full = scaler.transform(X_test_full)\n",
    "\n",
    "# Creating a new logistic regression model\n",
    "lr_cv_full = LogisticRegression(random_state=42, max_iter=5000)\n",
    "\n",
    "# Using cross_val_score to get the performance metrics for each fold\n",
    "accuracies_full = cross_val_score(lr_cv_full, X_train_scaled_full, y_train, cv=5, scoring='accuracy')\n",
    "precision_scores_full = cross_val_score(lr_cv_full, X_train_scaled_full, y_train, cv=5, scoring='precision')\n",
    "recall_scores_full = cross_val_score(lr_cv_full, X_train_scaled_full, y_train, cv=5, scoring='recall')\n",
    "f1_scores_full = cross_val_score(lr_cv_full, X_train_scaled_full, y_train, cv=5, scoring='f1')\n",
    "roc_auc_scores_full = cross_val_score(lr_cv_full, X_train_scaled_full, y_train, cv=5, scoring='roc_auc')\n",
    "\n",
    "# Printing out the mean and standard deviation of the metrics\n",
    "print(f\"Mean CV Accuracy with Text Data: {accuracies_full.mean()}\")\n",
    "print(f\"Standard Deviation of CV Accuracy with Text Data: {accuracies_full.std()}\")\n",
    "print()\n",
    "\n",
    "print(\"Mean Precision with Text Data:\", precision_scores_full.mean())\n",
    "print(\"Standard Deviation of Precision with Text Data:\", precision_scores_full.std())\n",
    "print()\n",
    "\n",
    "print(\"Mean Recall with Text Data:\", recall_scores_full.mean())\n",
    "print(\"Standard Deviation of Recall with Text Data:\", recall_scores_full.std())\n",
    "print()\n",
    "\n",
    "print(\"Mean F1-Score with Text Data:\", f1_scores_full.mean())\n",
    "print(\"Standard Deviation of F1-Score with Text Data:\", f1_scores_full.std())\n",
    "print()\n",
    "\n",
    "print(\"Mean ROC-AUC with Text Data:\", roc_auc_scores_full.mean())\n",
    "print(\"Standard Deviation of ROC-AUC with Text Data:\", roc_auc_scores_full.std())"
   ]
  },
  {
   "cell_type": "markdown",
   "metadata": {},
   "source": [
    "The refined model, which integrates text data, displays a remarkable performance with a mean accuracy of 95.54%. This means that for approximately 96 out of every 100 construction accidents, the model aptly predicts the degree of injury. Boasting an F1-score of 96.35%, the model strikes a harmonious balance between precision (95.36%) and recall (97.38%). This balance suggests a reduced number of incorrect predictions. Moreover, an ROC-AUC score of 0.9825 reiterates the model's stellar ability to discern between fatal and nonfatal incidents."
   ]
  },
  {
   "cell_type": "code",
   "execution_count": 451,
   "metadata": {},
   "outputs": [
    {
     "data": {
      "image/png": "[encoded data removed]",
      "text/plain": [
       "<Figure size 936x432 with 1 Axes>"
      ]
     },
     "metadata": {
      "needs_background": "light"
     },
     "output_type": "display_data"
    }
   ],
   "source": [
    "import numpy as np\n",
    "import matplotlib.pyplot as plt\n",
    "\n",
    "metrics = ['Accuracy', 'Precision', 'Recall', 'F1-Score', 'ROC-AUC']\n",
    "Numeric_And_Categorical_Model = [0.912, 0.927, 0.929, 0.928, 0.969]\n",
    "Text_Incorporated_Model = [0.955, 0.954, 0.974, 0.964, 0.983]\n",
    "\n",
    "x = np.arange(len(metrics))  # the label locations\n",
    "bar_width = 0.25  # Width of each bar\n",
    "\n",
    "fig, ax = plt.subplots(figsize=(13, 6))\n",
    "\n",
    "rects1 = ax.bar(x - width/2 - 0.1, Numeric_And_Categorical_Model, bar_width, label='Numeric And Categorical Model', color='blue', alpha=1)\n",
    "rects2 = ax.bar(x + width/2 + 0.1, Text_Incorporated_Model, bar_width, label='Text Incorporated Model', color='lightgreen', alpha=1)\n",
    "\n",
    "ax.set_ylabel('Scores')\n",
    "ax.set_title('Numeric/Categorical Model And Text Incorporated Model Comparison')\n",
    "ax.set_xticks(x)\n",
    "ax.set_xticklabels(metrics)\n",
    "ax.legend(loc='lower center', bbox_to_anchor=(0.5, -0.2), ncol=2)\n",
    "\n",
    "\n",
    "for i in range(len(metrics)):\n",
    "    ax.text(x[i] - bar_width/2 -0.1, Numeric_And_Categorical_Model[i] + 0.005, f'{Numeric_And_Categorical_Model[i]:.3f}', ha='center')\n",
    "    ax.text(x[i] + bar_width/2 +0.1, Text_Incorporated_Model[i] + 0.005, f'{Text_Incorporated_Model[i]:.3f}', ha='center')\n",
    "\n",
    "fig.tight_layout()\n",
    "plt.show()"
   ]
  },
  {
   "cell_type": "markdown",
   "metadata": {},
   "source": [
    "In comparison with the model without text features, integrating textual features has clearly uplifted its predictive prowess. The accuracy jumped from 91.20% to 95.40%. Both precision and recall witnessed substantial improvements, leading to fewer misclassifications. The escalation of the F1-score from 0.9280 to 0.9635 highlights the benefits of embracing text data in the modeling process. Furthermore, the ROC-AUC score, previously impressive at 0.9687, has now soared to an even higher benchmark of 0.9825, emphasizing the enhanced capabilities of this iteration in distinguishing between classes."
   ]
  },
  {
   "cell_type": "markdown",
   "metadata": {},
   "source": [
    "#### Model Refinement with Custom Stopwords"
   ]
  },
  {
   "cell_type": "code",
   "execution_count": 67,
   "metadata": {
    "scrolled": true
   },
   "outputs": [
    {
     "name": "stdout",
     "output_type": "stream",
     "text": [
      "employee 402.61017183237203\n",
      "struck 150.08970025245196\n",
      "killed 149.93605155343164\n",
      "fall 129.53999078194965\n",
      "truck 118.22379667804874\n",
      "ladder 113.685238773136\n",
      "head 106.11147478195022\n",
      "roof 95.2017880518533\n",
      "finger 94.45826329766749\n",
      "fell 87.79429787730047\n",
      "2017 87.08167057352006\n",
      "2016 84.66891222195535\n",
      "caught 83.36828699233527\n",
      "approximately 83.05925311340012\n",
      "machine 82.843419865885\n",
      "vehicle 78.0938426006613\n",
      "tree 76.80680839648355\n",
      "00 73.98701038674578\n",
      "30 73.29747025078105\n",
      "crushed 72.68120193056782\n",
      "falls 64.99488830042999\n",
      "trailer 64.55316481014567\n",
      "hand 61.597023836909564\n",
      "feet 60.23932338311165\n",
      "heart 59.83075850378817\n",
      "hospitalized 57.790349685569836\n",
      "injuries 56.57464393396251\n",
      "worker 55.53796706904291\n",
      "10 55.235590776555824\n",
      "amputated 55.206389879113466\n",
      "fracture 54.66930857296582\n",
      "floor 54.53203206121477\n",
      "forklift 54.48523113053902\n",
      "working 53.06883467762807\n",
      "attack 52.35845909597303\n",
      "leg 51.52425731551415\n",
      "15 51.20567038036774\n",
      "concrete 50.85225156316009\n",
      "2015 50.49041760534149\n",
      "saw 50.40623302991416\n",
      "falling 49.94873222370293\n",
      "scaffold 49.36767062710207\n",
      "right 49.051892235269676\n",
      "work 48.81626210653415\n",
      "died 48.71355752165211\n",
      "construction 47.67927322315816\n",
      "ground 46.9158562233688\n",
      "12 46.825748500550766\n",
      "left 46.80510609097507\n",
      "march 46.191878220446995\n"
     ]
    }
   ],
   "source": [
    "# TF-IDF Feature Extraction\n",
    "# Getting the sum of each word's TF-IDF score across all documents\n",
    "sum_tfidf = X_text_tfidf_train.sum(axis=0) \n",
    "\n",
    "# Converting the sum to an array and match it with words\n",
    "words_freq = [(word, sum_tfidf[0, idx]) for word, idx in tfidf.vocabulary_.items()]\n",
    "words_freq = sorted(words_freq, key = lambda x: x[1], reverse=True)\n",
    "\n",
    "# Displaying the top 50 words\n",
    "for word, freq in words_freq[:50]: \n",
    "    print(word, freq)"
   ]
  },
  {
   "cell_type": "code",
   "execution_count": 75,
   "metadata": {},
   "outputs": [],
   "source": [
    "#Text Processing\n",
    "# Creating a severity-related words list to stopwords\n",
    "severity_stopwords = [\"killed\", \"died\", \"dead\"]\n",
    "custom_stopwords = text.ENGLISH_STOP_WORDS.union(severity_stopwords)\n",
    "\n",
    "# Updating the features to include the new 'combined_text' column.\n",
    "X = df_clean.drop(columns=['Degree of Injury'])\n",
    "\n",
    "# Performing a new train-test split with the updates.\n",
    "X_train, X_test, y_train, y_test = train_test_split(X, y, test_size=0.2, random_state=42, stratify=y)\n",
    "\n",
    "# Converting the combined text into a matrix of TF-IDF features with custom stopwords\n",
    "tfidf = TfidfVectorizer(max_features=5000, stop_words=custom_stopwords) \n",
    "X_text_tfidf_train = tfidf.fit_transform(X_train['combined_text'])\n",
    "X_text_tfidf_test = tfidf.transform(X_test['combined_text'])\n",
    "\n",
    "# Concatenating the TF-IDF vectors with the previously preprocessed data\n",
    "X_train_full_no_severity = hstack([X_train_preprocessed, X_text_tfidf_train])\n",
    "X_test_full_no_severity = hstack([X_test_preprocessed, X_text_tfidf_test])"
   ]
  },
  {
   "cell_type": "code",
   "execution_count": 76,
   "metadata": {},
   "outputs": [
    {
     "name": "stdout",
     "output_type": "stream",
     "text": [
      "Mean CV Accuracy with Text Data: 0.9319534282018112\n",
      "Standard Deviation of CV Accuracy with Text Data: 0.008041537007979336\n",
      "\n",
      "Mean Precision with Text Data: 0.9326742408293569\n",
      "Standard Deviation of Precision with Text Data: 0.012353633384578091\n",
      "\n",
      "Mean Recall with Text Data: 0.9581001182499016\n",
      "Standard Deviation of Recall with Text Data: 0.010500762038368727\n",
      "\n",
      "Mean F1-Score with Text Data: 0.9451196627737355\n",
      "Standard Deviation of F1-Score with Text Data: 0.006339511706416702\n",
      "\n",
      "Mean ROC-AUC with Text Data: 0.9760589031255172\n",
      "Standard Deviation of ROC-AUC with Text Data: 0.0050099732549421195\n"
     ]
    }
   ],
   "source": [
    "# Modeling\n",
    "# Scaling the data\n",
    "scaler = StandardScaler(with_mean=False)  \n",
    "X_train_scaled_full_no_severity = scaler.fit_transform(X_train_full_no_severity)\n",
    "X_test_scaled_full_no_severity = scaler.transform(X_test_full_no_severity)\n",
    "\n",
    "# Creating a new logistic regression model\n",
    "lr_cv_full = LogisticRegression(random_state=42, max_iter=5000)\n",
    "\n",
    "# Using cross_val_score to get the performance metrics for each fold\n",
    "accuracies_full = cross_val_score(lr_cv_full, X_train_full_no_severity, y_train, cv=5, scoring='accuracy')\n",
    "precision_scores_full = cross_val_score(lr_cv_full, X_train_full_no_severity, y_train, cv=5, scoring='precision')\n",
    "recall_scores_full = cross_val_score(lr_cv_full, X_train_full_no_severity, y_train, cv=5, scoring='recall')\n",
    "f1_scores_full = cross_val_score(lr_cv_full, X_train_full_no_severity, y_train, cv=5, scoring='f1')\n",
    "roc_auc_scores_full = cross_val_score(lr_cv_full, X_train_full_no_severity, y_train, cv=5, scoring='roc_auc')\n",
    "\n",
    "# Printing out the mean and standard deviation of the metrics\n",
    "print(f\"Mean CV Accuracy with Text Data: {accuracies_full.mean()}\")\n",
    "print(f\"Standard Deviation of CV Accuracy with Text Data: {accuracies_full.std()}\")\n",
    "print()\n",
    "\n",
    "print(\"Mean Precision with Text Data:\", precision_scores_full.mean())\n",
    "print(\"Standard Deviation of Precision with Text Data:\", precision_scores_full.std())\n",
    "print()\n",
    "\n",
    "print(\"Mean Recall with Text Data:\", recall_scores_full.mean())\n",
    "print(\"Standard Deviation of Recall with Text Data:\", recall_scores_full.std())\n",
    "print()\n",
    "\n",
    "print(\"Mean F1-Score with Text Data:\", f1_scores_full.mean())\n",
    "print(\"Standard Deviation of F1-Score with Text Data:\", f1_scores_full.std())\n",
    "print()\n",
    "\n",
    "print(\"Mean ROC-AUC with Text Data:\", roc_auc_scores_full.mean())\n",
    "print(\"Standard Deviation of ROC-AUC with Text Data:\", roc_auc_scores_full.std())"
   ]
  },
  {
   "cell_type": "code",
   "execution_count": 411,
   "metadata": {},
   "outputs": [
    {
     "data": {
      "image/png": "[encoded data removed]",
      "text/plain": [
       "<Figure size 864x432 with 1 Axes>"
      ]
     },
     "metadata": {
      "needs_background": "light"
     },
     "output_type": "display_data"
    }
   ],
   "source": [
    "import numpy as np\n",
    "import matplotlib.pyplot as plt\n",
    "\n",
    "# Data for model with severity\n",
    "metrics_with_severity = {\n",
    "    \"Accuracy\": [0.954980595084088, 0.007692661706245036],\n",
    "    \"Precision\": [0.9536101063174943, 0.006151502224995646],\n",
    "    \"Recall\": [0.9737691260257284, 0.01022576256328454],\n",
    "    \"F1-Score\": [0.963552744005348, 0.006328106301983464],\n",
    "    \"ROC-AUC\": [0.9825442805781789, 0.0023842281823628258]\n",
    "}\n",
    "\n",
    "# Data for the second model without severity\n",
    "metrics_without_severity = {\n",
    "    \"Accuracy\": [0.9319534282018112, 0.008041537007979336],\n",
    "    \"Precision\": [0.9326742408293569, 0.012353633384578091],\n",
    "    \"Recall\": [0.9581001182499016, 0.010500762038368727],\n",
    "    \"F1-Score\": [0.9451196627737355, 0.006339511706416702],\n",
    "    \"ROC-AUC\": [0.9760589031255172, 0.0050099732549421195]\n",
    "}\n",
    "\n",
    "labels = list(metrics_with_severity.keys())\n",
    "with_severity_means = [m[0] for m in metrics_with_severity.values()]\n",
    "without_severity_means = [m[0] for m in metrics_without_severity.values()]\n",
    "\n",
    "with_severity_stds = [m[1] for m in metrics_with_severity.values()]\n",
    "without_severity_stds = [m[1] for m in metrics_without_severity.values()]\n",
    "\n",
    "x = np.arange(len(metrics)) \n",
    "width = 0.3\n",
    "\n",
    "fig, ax = plt.subplots(figsize=(12, 6))\n",
    "\n",
    "rects1 = ax.bar(x - width/2 - 0.1, with_severity_means, width, label='With Severity', color='blue', alpha=1, capsize=5)\n",
    "rects2 = ax.bar(x + width/2 + 0.1, without_severity_means, width, label='Without Severity', color='coral', alpha=1, capsize=5)\n",
    "\n",
    "ax.set_ylabel('Scores')\n",
    "ax.set_title('Model With Severity Words And Model Without Severity Words Comparison')\n",
    "ax.set_xticks(x)\n",
    "ax.set_xticklabels(labels)\n",
    "ax.legend(loc='lower center', bbox_to_anchor=(0.5, -0.2), ncol=2)\n",
    "\n",
    "for i in range(len(labels)):\n",
    "    ax.text(x[i] - width/2 - 0.1, with_severity_means[i] + 0.005, f'{with_severity_means[i]:.3f}', ha='center')\n",
    "    ax.text(x[i] + width/2 + 0.1, without_severity_means[i] + 0.005, f'{without_severity_means[i]:.3f}', ha='center')\n",
    "\n",
    "fig.tight_layout()\n",
    "plt.show()"
   ]
  },
  {
   "cell_type": "markdown",
   "metadata": {},
   "source": [
    "While comparing the two models, the differences in performance metrics are not substantial. Although the model with all words exhibits marginally better results across all metrics, the deviation is relatively slight. For the sake of maintaining transparency in our predictions and understanding the factors influencing the severity determination, we have decided to continue working with the model that includes all words. This approach ensures a comprehensive utilization of the data and promotes a more transparent modeling process."
   ]
  },
  {
   "cell_type": "markdown",
   "metadata": {},
   "source": [
    "For future enhancements, we plan to explore the Random Forest algorithm. Renowned for its robustness, Random Forest may offer better results by effectively leveraging both structured and unstructured features present in our dataset."
   ]
  },
  {
   "cell_type": "markdown",
   "metadata": {},
   "source": [
    "### Random Forest Model "
   ]
  },
  {
   "cell_type": "code",
   "execution_count": 79,
   "metadata": {},
   "outputs": [
    {
     "name": "stdout",
     "output_type": "stream",
     "text": [
      "Mean CV Accuracy with Random Forest and Text Data: 0.9725743855109961\n",
      "Standard Deviation of CV Accuracy with Random Forest and Text Data: 0.006717078905949364\n",
      "\n",
      "Mean Precision with Random Forest and Text Data: 0.966575129333941\n",
      "Standard Deviation of Precision with Random Forest and Text Data: 0.00825280600578769\n",
      "\n",
      "Mean Recall with Random Forest and Text Data: 0.9894229046475795\n",
      "Standard Deviation of Recall with Random Forest and Text Data: 0.004818688064349446\n",
      "\n",
      "Mean F1-Score with Random Forest and Text Data: 0.977847490823686\n",
      "Standard Deviation of F1-Score with Random Forest and Text Data: 0.005365426680923803\n",
      "\n",
      "Mean ROC-AUC with Random Forest and Text Data: 0.9886664806747583\n",
      "Standard Deviation of ROC-AUC with Random Forest and Text Data: 0.0026457387127022712\n"
     ]
    }
   ],
   "source": [
    "# Creating a Random Forest classifier\n",
    "rf_cv_full = RandomForestClassifier(random_state=42, n_estimators=100)\n",
    "\n",
    "# Using cross_val_score to get the performance metrics for each fold\n",
    "accuracies_rf_full = cross_val_score(rf_cv_full, X_train_scaled_full, y_train, cv=5, scoring='accuracy')\n",
    "precision_scores_rf_full = cross_val_score(rf_cv_full, X_train_scaled_full, y_train, cv=5, scoring='precision')\n",
    "recall_scores_rf_full = cross_val_score(rf_cv_full, X_train_scaled_full, y_train, cv=5, scoring='recall')\n",
    "f1_scores_rf_full = cross_val_score(rf_cv_full, X_train_scaled_full, y_train, cv=5, scoring='f1')\n",
    "roc_auc_scores_rf_full = cross_val_score(rf_cv_full, X_train_scaled_full, y_train, cv=5, scoring='roc_auc')\n",
    "\n",
    "# Printing out the mean and standard deviation of the metrics\n",
    "print(f\"Mean CV Accuracy with Random Forest and Text Data: {accuracies_rf_full.mean()}\")\n",
    "print(f\"Standard Deviation of CV Accuracy with Random Forest and Text Data: {accuracies_rf_full.std()}\")\n",
    "print()\n",
    "print(f\"Mean Precision with Random Forest and Text Data: {precision_scores_rf_full.mean()}\")\n",
    "print(f\"Standard Deviation of Precision with Random Forest and Text Data: {precision_scores_rf_full.std()}\")\n",
    "print()\n",
    "print(f\"Mean Recall with Random Forest and Text Data: {recall_scores_rf_full.mean()}\")\n",
    "print(f\"Standard Deviation of Recall with Random Forest and Text Data: {recall_scores_rf_full.std()}\")\n",
    "print()\n",
    "print(f\"Mean F1-Score with Random Forest and Text Data: {f1_scores_rf_full.mean()}\")\n",
    "print(f\"Standard Deviation of F1-Score with Random Forest and Text Data: {f1_scores_rf_full.std()}\")\n",
    "print()\n",
    "print(f\"Mean ROC-AUC with Random Forest and Text Data: {roc_auc_scores_rf_full.mean()}\")\n",
    "print(f\"Standard Deviation of ROC-AUC with Random Forest and Text Data: {roc_auc_scores_rf_full.std()}\")"
   ]
  },
  {
   "cell_type": "markdown",
   "metadata": {},
   "source": [
    "The Random Forest model shows a slight edge in all metrics compared to our logistic regression model. However, its performance seems to vary a bit more across different data folds, as indicated by the slightly higher standard deviations.\n",
    "\n",
    "Moving forward, we will try implementing the XGBoost model to see if it offers any improvements."
   ]
  },
  {
   "cell_type": "markdown",
   "metadata": {},
   "source": [
    "### XGBoost"
   ]
  },
  {
   "cell_type": "code",
   "execution_count": 121,
   "metadata": {
    "scrolled": true
   },
   "outputs": [
    {
     "name": "stdout",
     "output_type": "stream",
     "text": [
      "Mean CV Accuracy with XGBoost: 0.9790426908150065\n",
      "Mean CV Precision with XGBoost: 0.9814665056548673\n",
      "Mean CV Recall with XGBoost: 0.9843417422152149\n",
      "Mean CV F1-Score with XGBoost: 0.9828903681268504\n",
      "Mean CV ROC-AUC with XGBoost: 0.987892690347361\n"
     ]
    }
   ],
   "source": [
    "# Defining the model\n",
    "xgb_classifier = xgb.XGBClassifier(objective='binary:logistic', random_state=42)\n",
    "\n",
    "# Training the model\n",
    "xgb_classifier.fit(X_train_scaled_full, y_train)\n",
    "\n",
    "# Cross-validation\n",
    "xgb_accuracies = cross_val_score(xgb_classifier, X_train_scaled_full, y_train, cv=5, scoring='accuracy')\n",
    "xgb_precision = cross_val_score(xgb_classifier, X_train_scaled_full, y_train, cv=5, scoring='precision')\n",
    "xgb_recall = cross_val_score(xgb_classifier, X_train_scaled_full, y_train, cv=5, scoring='recall')\n",
    "xgb_f1 = cross_val_score(xgb_classifier, X_train_scaled_full, y_train, cv=5, scoring='f1')\n",
    "xgb_roc_auc = cross_val_score(xgb_classifier, X_train_scaled_full, y_train, cv=5, scoring='roc_auc')\n",
    "\n",
    "# Printing metrics\n",
    "print(\"Mean CV Accuracy with XGBoost:\", xgb_accuracies.mean())\n",
    "print(\"Mean CV Precision with XGBoost:\", xgb_precision.mean())\n",
    "print(\"Mean CV Recall with XGBoost:\", xgb_recall.mean())\n",
    "print(\"Mean CV F1-Score with XGBoost:\", xgb_f1.mean())\n",
    "print(\"Mean CV ROC-AUC with XGBoost:\", xgb_roc_auc.mean())"
   ]
  },
  {
   "cell_type": "markdown",
   "metadata": {},
   "source": [
    "The XGBoost model demonstrates impressive performance across different evaluation metrics in our cross-validation. Specifically, the model achieves an accuracy of approximately 96.12%, suggesting that it correctly predicts outcomes in the majority of cases. The precision of 98.14% indicates that when the model predicts a positive class, it's accurate about 97.90% of the time. An even more impressive recall of 98.43% implies that the model is able to correctly identify about 98.43% of all actual positive instances. The F1-Score, which is a harmonized measure of precision and recall, stands at approximately 98.29%, further underscoring the model's balanced performance. Lastly, a ROC-AUC of about 98.79% shows the model's capability to distinguish between the positive and negative classes.\n",
    "\n",
    "Given the promising results of the individual models we've tested, including XGBoost, we are now inclined to explore the stacking ensemble model. This approach combines predictions from multiple models, potentially offering even better performance by capitalizing on the strengths of each individual model."
   ]
  },
  {
   "cell_type": "markdown",
   "metadata": {},
   "source": [
    "### Stacking Ensemble Method"
   ]
  },
  {
   "cell_type": "code",
   "execution_count": 122,
   "metadata": {},
   "outputs": [],
   "source": [
    "kf = StratifiedKFold(n_splits=5, shuffle=True, random_state=42)\n",
    "\n",
    "# Placeholder for out-of-fold predictions\n",
    "oof_lr = np.zeros(X_train_scaled_full.shape[0])\n",
    "oof_rf = np.zeros(X_train_scaled_full.shape[0])\n",
    "oof_xgb = np.zeros(X_train_scaled_full.shape[0])"
   ]
  },
  {
   "cell_type": "code",
   "execution_count": 123,
   "metadata": {},
   "outputs": [],
   "source": [
    "for train_index, valid_index in kf.split(X_train_scaled_full, y_train):\n",
    "    X_train_fold, X_valid_fold = X_train_scaled_full[train_index], X_train_scaled_full[valid_index]\n",
    "    y_train_fold, y_valid_fold = y_train.iloc[train_index], y_train.iloc[valid_index]\n",
    "\n",
    "    # Train Logistic Regression and predict on the validation set\n",
    "    lr_cv_full.fit(X_train_fold, y_train_fold)\n",
    "    oof_lr[valid_index] = lr_cv_full.predict_proba(X_valid_fold)[:, 1]\n",
    "\n",
    "    # Train Random Forest and predict on the validation set\n",
    "    rf_cv_full.fit(X_train_fold, y_train_fold)\n",
    "    oof_rf[valid_index] = rf_cv_full.predict_proba(X_valid_fold)[:, 1]\n",
    "\n",
    "    # Train XGBoost and predict on the validation set\n",
    "    xgb_classifier.fit(X_train_fold, y_train_fold)\n",
    "    oof_xgb[valid_index] = xgb_classifier.predict_proba(X_valid_fold)[:, 1]"
   ]
  },
  {
   "cell_type": "code",
   "execution_count": 124,
   "metadata": {},
   "outputs": [
    {
     "data": {
      "text/plain": [
       "LogisticRegression(C=1.0, class_weight=None, dual=False, fit_intercept=True,\n",
       "                   intercept_scaling=1, l1_ratio=None, max_iter=100,\n",
       "                   multi_class='auto', n_jobs=None, penalty='l2',\n",
       "                   random_state=42, solver='lbfgs', tol=0.0001, verbose=0,\n",
       "                   warm_start=False)"
      ]
     },
     "execution_count": 124,
     "metadata": {},
     "output_type": "execute_result"
    }
   ],
   "source": [
    "# Combining OOF predictions to serve as new features\n",
    "stacked_features_train = np.column_stack((oof_lr, oof_rf, oof_xgb))\n",
    "\n",
    "# Training a meta-model on the stacked features\n",
    "meta_model = LogisticRegression(random_state=42)\n",
    "meta_model.fit(stacked_features_train, y_train)"
   ]
  },
  {
   "cell_type": "code",
   "execution_count": 125,
   "metadata": {},
   "outputs": [
    {
     "name": "stdout",
     "output_type": "stream",
     "text": [
      "Mean CV Accuracy of Stacked Model: 0.9816300129366106\n",
      "Standard Deviation of CV Accuracy of Stacked Model: 0.0028811199807658593\n",
      "\n",
      "Mean CV Precision of Stacked Model: 0.9811227191972105\n",
      "Standard Deviation of CV Precision of Stacked Model: 0.0034269390549365774\n",
      "\n",
      "Mean CV Recall of Stacked Model: 0.9889973841688464\n",
      "Standard Deviation of CV Recall of Stacked Model: 0.0031071958116059245\n",
      "\n",
      "Mean CV F1-Score of Stacked Model: 0.9850389728089324\n",
      "Standard Deviation of CV F1-Score of Stacked Model: 0.0023335758013600873\n",
      "\n",
      "Mean CV ROC-AUC of Stacked Model: 0.9917764820910268\n",
      "Standard Deviation of CV ROC-AUC of Stacked Model: 0.0025400055474492146\n"
     ]
    }
   ],
   "source": [
    "# Cross-validation metrics for the meta-model\n",
    "accuracy_scores = cross_val_score(meta_model, stacked_features_train, y_train, cv=kf, scoring='accuracy')\n",
    "precision_scores = cross_val_score(meta_model, stacked_features_train, y_train, cv=kf, scoring='precision')\n",
    "recall_scores = cross_val_score(meta_model, stacked_features_train, y_train, cv=kf, scoring='recall')\n",
    "f1_scores = cross_val_score(meta_model, stacked_features_train, y_train, cv=kf, scoring='f1')\n",
    "roc_auc_scores = cross_val_score(meta_model, stacked_features_train, y_train, cv=kf, scoring='roc_auc')\n",
    "\n",
    "# Printing out the performance metrics\n",
    "print(f\"Mean CV Accuracy of Stacked Model: {accuracy_scores.mean()}\")\n",
    "print(f\"Standard Deviation of CV Accuracy of Stacked Model: {accuracy_scores.std()}\")\n",
    "print()\n",
    "print(f\"Mean CV Precision of Stacked Model: {precision_scores.mean()}\")\n",
    "print(f\"Standard Deviation of CV Precision of Stacked Model: {precision_scores.std()}\")\n",
    "print()\n",
    "print(f\"Mean CV Recall of Stacked Model: {recall_scores.mean()}\")\n",
    "print(f\"Standard Deviation of CV Recall of Stacked Model: {recall_scores.std()}\")\n",
    "print()\n",
    "print(f\"Mean CV F1-Score of Stacked Model: {f1_scores.mean()}\")\n",
    "print(f\"Standard Deviation of CV F1-Score of Stacked Model: {f1_scores.std()}\")\n",
    "print()\n",
    "print(f\"Mean CV ROC-AUC of Stacked Model: {roc_auc_scores.mean()}\")\n",
    "print(f\"Standard Deviation of CV ROC-AUC of Stacked Model: {roc_auc_scores.std()}\")"
   ]
  },
  {
   "cell_type": "markdown",
   "metadata": {},
   "source": [
    "The stacked ensemble model has outperformed the other models in all of the metrics. This showcases the power of ensemble methods.The standard deviations for the individual models and the ensemble indicate that the models' performances are consistent across different folds of the cross-validation. Still, the ensemble method's slightly improved metrics demonstrate the effectiveness of combining the strengths of different models to counteract their individual weaknesses.\n",
    "\n",
    "While our ensemble model has shown commendable results, there is always room for further optimization. To ensure we are extracting the maximum performance from our ensemble model, we will proceed with hyperparameter tuning using GridSearchCV."
   ]
  },
  {
   "cell_type": "markdown",
   "metadata": {},
   "source": [
    "#### Hyperparameter Tuning On The Ensemble Model Using GridSearchCV "
   ]
  },
  {
   "cell_type": "code",
   "execution_count": 85,
   "metadata": {},
   "outputs": [
    {
     "name": "stdout",
     "output_type": "stream",
     "text": [
      "Fitting 5 folds for each of 5 candidates, totalling 25 fits\n"
     ]
    },
    {
     "name": "stderr",
     "output_type": "stream",
     "text": [
      "[Parallel(n_jobs=-1)]: Using backend LokyBackend with 12 concurrent workers.\n",
      "[Parallel(n_jobs=-1)]: Done  25 out of  25 | elapsed:  1.6min finished\n"
     ]
    },
    {
     "name": "stdout",
     "output_type": "stream",
     "text": [
      "Best parameters for stacked model:  {'final_estimator__C': 0.1, 'final_estimator__penalty': 'l2', 'final_estimator__solver': 'lbfgs'}\n",
      "Best cross-validation score for stacked model: 0.98\n"
     ]
    }
   ],
   "source": [
    "# Base models\n",
    "estimators = [\n",
    "    ('lr', lr_cv_full),  \n",
    "    ('rf', rf_cv_full),\n",
    "    ('xgb', xgb_classifier)\n",
    "]\n",
    "\n",
    "# Stacking Classifier\n",
    "stacked_model = StackingClassifier(estimators=estimators, final_estimator=LogisticRegression(random_state=42))\n",
    "\n",
    "# Parameter grid for the meta-model (logistic regression)\n",
    "param_grid = {\n",
    "    'final_estimator__C': [0.01, 0.1, 1, 10, 100],\n",
    "    'final_estimator__penalty': ['l2'],  \n",
    "    'final_estimator__solver': ['lbfgs'] \n",
    "}\n",
    "\n",
    "# Grid Search setup\n",
    "kf = StratifiedKFold(n_splits=5, shuffle=True, random_state=42)\n",
    "grid_search = GridSearchCV(stacked_model, param_grid, cv=kf, scoring='accuracy', verbose=1, n_jobs=-1)\n",
    "grid_search.fit(X_train_scaled_full, y_train)\n",
    "\n",
    "# Results\n",
    "print(\"Best parameters for stacked model: \", grid_search.best_params_)\n",
    "print(\"Best cross-validation score for stacked model: {:.2f}\".format(grid_search.best_score_))"
   ]
  },
  {
   "cell_type": "code",
   "execution_count": 86,
   "metadata": {},
   "outputs": [
    {
     "name": "stdout",
     "output_type": "stream",
     "text": [
      "Mean CV Accuracy of Best Stacked Model: 0.9824062095730918\n",
      "Standard Deviation of CV Accuracy of Best Stacked Model: 0.0025350475992581742\n",
      "\n",
      "Mean CV Precision of Best Stacked Model: 0.9807421834190192\n",
      "Standard Deviation of CV Precision of Best Stacked Model: 0.003269826491112646\n",
      "\n",
      "Mean CV Recall of Best Stacked Model: 0.9906905077579102\n",
      "Standard Deviation of CV Recall of Best Stacked Model: 0.0025361186661260085\n",
      "\n",
      "Mean CV F1-Score of Best Stacked Model: 0.9856867673428737\n",
      "Standard Deviation of CV F1-Score of Best Stacked Model: 0.0020462134392301365\n",
      "\n",
      "Mean CV ROC-AUC of Best Stacked Model: 0.9917835207756374\n",
      "Standard Deviation of CV ROC-AUC of Best Stacked Model: 0.0025655785190811355\n"
     ]
    }
   ],
   "source": [
    "best_stacked_model = grid_search.best_estimator_\n",
    "\n",
    "# Cross-validated Accuracy\n",
    "accuracy_scores = cross_val_score(best_stacked_model, X_train_scaled_full, y_train, cv=kf, scoring='accuracy')\n",
    "\n",
    "# Cross-validated Precision\n",
    "precision_scores = cross_val_score(best_stacked_model, X_train_scaled_full, y_train, cv=kf, scoring='precision')\n",
    "\n",
    "# Cross-validated Recall\n",
    "recall_scores = cross_val_score(best_stacked_model, X_train_scaled_full, y_train, cv=kf, scoring='recall')\n",
    "\n",
    "# Cross-validated F1-Score\n",
    "f1_scores = cross_val_score(best_stacked_model, X_train_scaled_full, y_train, cv=kf, scoring='f1')\n",
    "\n",
    "# Cross-validated ROC-AUC\n",
    "roc_auc_scores = cross_val_score(best_stacked_model, X_train_scaled_full, y_train, cv=kf, scoring='roc_auc')\n",
    "\n",
    "# Printing out the performance metrics\n",
    "print(f\"Mean CV Accuracy of Best Stacked Model: {accuracy_scores.mean()}\")\n",
    "print(f\"Standard Deviation of CV Accuracy of Best Stacked Model: {accuracy_scores.std()}\")\n",
    "print()\n",
    "print(f\"Mean CV Precision of Best Stacked Model: {precision_scores.mean()}\")\n",
    "print(f\"Standard Deviation of CV Precision of Best Stacked Model: {precision_scores.std()}\")\n",
    "print()\n",
    "print(f\"Mean CV Recall of Best Stacked Model: {recall_scores.mean()}\")\n",
    "print(f\"Standard Deviation of CV Recall of Best Stacked Model: {recall_scores.std()}\")\n",
    "print()\n",
    "print(f\"Mean CV F1-Score of Best Stacked Model: {f1_scores.mean()}\")\n",
    "print(f\"Standard Deviation of CV F1-Score of Best Stacked Model: {f1_scores.std()}\")\n",
    "print()\n",
    "print(f\"Mean CV ROC-AUC of Best Stacked Model: {roc_auc_scores.mean()}\")\n",
    "print(f\"Standard Deviation of CV ROC-AUC of Best Stacked Model: {roc_auc_scores.std()}\")"
   ]
  },
  {
   "cell_type": "markdown",
   "metadata": {},
   "source": [
    "### Models Comparison"
   ]
  },
  {
   "cell_type": "code",
   "execution_count": 129,
   "metadata": {},
   "outputs": [],
   "source": [
    "# Converting models result to a data frame\n",
    "data = {\n",
    "    'Model': [\"Logistic Regression with Text\", \"Random Forest with Text\", \"XGBoost\", \"Stacked\", \"Stacked (Tuned)\"],\n",
    "    \n",
    "    'Accuracy': [0.954980595084088, 0.9725743855109961, 0.9790426908150065, 0.9816300129366106, 0.9824062095730918],\n",
    "    \n",
    "    'Precision': [0.9536101063174943, 0.966575129333941, 0.9814665056548673, 0.9811227191972105, 0.9807421834190192],\n",
    "    \n",
    "    'Recall': [0.9737691260257284, 0.9894229046475795, 0.9843417422152149, 0.9889973841688464, 0.9906905077579102],\n",
    "    \n",
    "    'F1-Score': [0.963552744005348, 0.977847490823686, 0.9828903681268504, 0.9850389728089324, 0.9856867673428737],\n",
    "    \n",
    "    'ROC-AUC': [0.9825442805781789, 0.9886664806747583, 0.987892690347361, 0.9917764820910268, 0.9917835207756374]\n",
    "}\n",
    "\n",
    "models_result = pd.DataFrame(data)"
   ]
  },
  {
   "cell_type": "code",
   "execution_count": 130,
   "metadata": {
    "scrolled": false
   },
   "outputs": [
    {
     "data": {
      "image/png": "[encoded data removed]",
      "text/plain": [
       "<Figure size 1008x432 with 1 Axes>"
      ]
     },
     "metadata": {
      "needs_background": "light"
     },
     "output_type": "display_data"
    },
    {
     "data": {
      "image/png": "[encoded data removed]",
      "text/plain": [
       "<Figure size 1008x432 with 1 Axes>"
      ]
     },
     "metadata": {
      "needs_background": "light"
     },
     "output_type": "display_data"
    },
    {
     "data": {
      "image/png": "[encoded data removed]",
      "text/plain": [
       "<Figure size 1008x432 with 1 Axes>"
      ]
     },
     "metadata": {
      "needs_background": "light"
     },
     "output_type": "display_data"
    },
    {
     "data": {
      "image/png": "[encoded data removed]",
      "text/plain": [
       "<Figure size 1008x432 with 1 Axes>"
      ]
     },
     "metadata": {
      "needs_background": "light"
     },
     "output_type": "display_data"
    },
    {
     "data": {
      "image/png": "[encoded data removed]",
      "text/plain": [
       "<Figure size 1008x432 with 1 Axes>"
      ]
     },
     "metadata": {
      "needs_background": "light"
     },
     "output_type": "display_data"
    }
   ],
   "source": [
    "import matplotlib.pyplot as plt\n",
    "\n",
    "metrics = ['Accuracy', 'Precision', 'Recall', 'F1-Score', 'ROC-AUC']\n",
    "colors = ['cyan', 'orange', 'magenta', 'blue', 'lightgreen']\n",
    "\n",
    "for idx, metric in enumerate(metrics):\n",
    "    plt.figure(figsize=(14, 6))\n",
    "    \n",
    "    # Plotting the lines\n",
    "    for i, val in enumerate(models_result[metric]):\n",
    "        plt.plot([models_result['Model'][i], models_result['Model'][i]], [0, val], color=colors[idx], alpha=0.7)\n",
    "    \n",
    "    # Plotting the dots \n",
    "    plt.scatter(models_result['Model'], models_result[metric], color=colors[idx], s=200, zorder=5, edgecolor='black', linewidth=1)\n",
    "    \n",
    "    # Adding text\n",
    "    for i, val in enumerate(models_result[metric]):\n",
    "        plt.text(models_result['Model'][i], val + 0.005, f\"{val:.3f}\", ha='center', va='bottom', fontsize=12)\n",
    "    \n",
    "    plt.title(f'{metric} Comparison among Models')\n",
    "    plt.ylabel(metric)\n",
    "    plt.xlabel('Model')\n",
    "    plt.xticks(rotation=90)\n",
    "    plt.ylim(min(models_result[metric]) - 0.01, max(models_result[metric]) + 0.01)\n",
    "    plt.grid(True, which='both', linestyle='--', linewidth=0.5)\n",
    "    plt.show()"
   ]
  },
  {
   "cell_type": "markdown",
   "metadata": {},
   "source": [
    "The Stacked Models - both tuned and non-tuned - clearly stand out as the top performers in our evaluation. They consistently outpace the individual Logistic Regression, Random Forest, and XGBoost models across all metrics, underscoring the strength and effectiveness of ensemble stacking in leveraging the strengths of multiple models. While the differences between the stacked models and XGBoost are relatively marginal, the advantage still leans towards the stacked approach. Interestingly, when comparing the tuned stacked model against its non-tuned counterpart, the distinctions in performance metrics are minimal. However, taking into consideration the efficiency of the modeling process, as well as the slightly better precision of the non-tuned version, we've decided to proceed with the non-tuned Stacked Model for our subsequent tasks. This decision not only prioritizes model performance but also ensures a streamlined and efficient modeling process."
   ]
  },
  {
   "cell_type": "markdown",
   "metadata": {},
   "source": [
    "### Evaluating the Non-Tuned Stacked Model  in the testing data"
   ]
  },
  {
   "cell_type": "code",
   "execution_count": 117,
   "metadata": {},
   "outputs": [],
   "source": [
    "# Converting X_test_full from COO to CSR format to suit to XGBoost\n",
    "X_test_full_csr = X_test_full.tocsr()"
   ]
  },
  {
   "cell_type": "code",
   "execution_count": 126,
   "metadata": {},
   "outputs": [],
   "source": [
    "# Generating Test Predictions\n",
    "test_lr = lr_cv_full.predict_proba(X_test_full_csr)[:, 1]\n",
    "test_rf = rf_cv_full.predict_proba(X_test_full_csr)[:, 1]\n",
    "test_xgb = xgb_classifier.predict_proba(X_test_full_csr)[:, 1]"
   ]
  },
  {
   "cell_type": "code",
   "execution_count": 127,
   "metadata": {},
   "outputs": [],
   "source": [
    "# Stacking Test Predictions\n",
    "stacked_features_test = np.column_stack((test_lr, test_rf, test_xgb))"
   ]
  },
  {
   "cell_type": "code",
   "execution_count": 128,
   "metadata": {},
   "outputs": [
    {
     "name": "stdout",
     "output_type": "stream",
     "text": [
      "Test Accuracy of Stacked Model: 0.8086866597724922\n",
      "Test Precision of Stacked Model: 0.7622739018087855\n",
      "Test Recall of Stacked Model: 0.9983079526226735\n",
      "Test F1-Score of Stacked Model: 0.8644688644688644\n",
      "Test ROC-AUC of Stacked Model: 0.9844565647838139\n"
     ]
    }
   ],
   "source": [
    "y_pred = meta_model.predict(stacked_features_test)\n",
    "\n",
    "# Metrics\n",
    "print(f\"Test Accuracy of Stacked Model: {accuracy_score(y_test, y_pred)}\")\n",
    "print(f\"Test Precision of Stacked Model: {precision_score(y_test, y_pred)}\")\n",
    "print(f\"Test Recall of Stacked Model: {recall_score(y_test, y_pred)}\")\n",
    "print(f\"Test F1-Score of Stacked Model: {f1_score(y_test, y_pred)}\")\n",
    "print(f\"Test ROC-AUC of Stacked Model: {roc_auc_score(y_test, meta_model.predict_proba(stacked_features_test)[:, 1])}\")"
   ]
  },
  {
   "cell_type": "markdown",
   "metadata": {},
   "source": [
    "Despite the promising cross-validation results observed with our best-performing model, the stacked model, it exhibited a marked disparity when applied to the testing data. \n",
    "This discrepancy indicates that the correct predictions of the base models in the stacked approach are strongly correlated, reducing the benefits of stacking. Due to this correlation, the combined model may not offer the desired diversification in predictions. As a result, we believe that focusing on improving individual models might yield better results. Therefore, we will turn our attention to refining our second-best model, XGBoost. By tuning its parameters we aim to enhance its performance and subsequently evaluate its robustness on the testing data."
   ]
  },
  {
   "cell_type": "markdown",
   "metadata": {},
   "source": [
    "### Hyperparameter Tuning On The XGBoost Using GridSearch "
   ]
  },
  {
   "cell_type": "code",
   "execution_count": 93,
   "metadata": {},
   "outputs": [
    {
     "name": "stdout",
     "output_type": "stream",
     "text": [
      "Fitting 5 folds for each of 6400 candidates, totalling 32000 fits\n"
     ]
    },
    {
     "name": "stderr",
     "output_type": "stream",
     "text": [
      "[Parallel(n_jobs=-1)]: Using backend LokyBackend with 12 concurrent workers.\n",
      "[Parallel(n_jobs=-1)]: Done  17 tasks      | elapsed:    2.3s\n",
      "[Parallel(n_jobs=-1)]: Done 138 tasks      | elapsed:   34.9s\n",
      "[Parallel(n_jobs=-1)]: Done 341 tasks      | elapsed:  1.9min\n",
      "[Parallel(n_jobs=-1)]: Done 624 tasks      | elapsed:  3.7min\n",
      "[Parallel(n_jobs=-1)]: Done 989 tasks      | elapsed:  5.8min\n",
      "[Parallel(n_jobs=-1)]: Done 1434 tasks      | elapsed:  8.3min\n",
      "[Parallel(n_jobs=-1)]: Done 1961 tasks      | elapsed: 11.6min\n",
      "[Parallel(n_jobs=-1)]: Done 2568 tasks      | elapsed: 15.6min\n",
      "[Parallel(n_jobs=-1)]: Done 3257 tasks      | elapsed: 19.5min\n",
      "[Parallel(n_jobs=-1)]: Done 4026 tasks      | elapsed: 24.5min\n",
      "[Parallel(n_jobs=-1)]: Done 4877 tasks      | elapsed: 29.0min\n",
      "[Parallel(n_jobs=-1)]: Done 5808 tasks      | elapsed: 34.5min\n",
      "[Parallel(n_jobs=-1)]: Done 6821 tasks      | elapsed: 40.2min\n",
      "[Parallel(n_jobs=-1)]: Done 7914 tasks      | elapsed: 46.1min\n",
      "[Parallel(n_jobs=-1)]: Done 9089 tasks      | elapsed: 53.0min\n",
      "[Parallel(n_jobs=-1)]: Done 10344 tasks      | elapsed: 60.3min\n",
      "[Parallel(n_jobs=-1)]: Done 11681 tasks      | elapsed: 68.0min\n",
      "[Parallel(n_jobs=-1)]: Done 13098 tasks      | elapsed: 75.8min\n",
      "[Parallel(n_jobs=-1)]: Done 14597 tasks      | elapsed: 84.1min\n",
      "[Parallel(n_jobs=-1)]: Done 16176 tasks      | elapsed: 93.1min\n",
      "[Parallel(n_jobs=-1)]: Done 17837 tasks      | elapsed: 103.3min\n",
      "[Parallel(n_jobs=-1)]: Done 19578 tasks      | elapsed: 114.2min\n",
      "[Parallel(n_jobs=-1)]: Done 21401 tasks      | elapsed: 125.7min\n",
      "[Parallel(n_jobs=-1)]: Done 23304 tasks      | elapsed: 137.5min\n",
      "[Parallel(n_jobs=-1)]: Done 25289 tasks      | elapsed: 150.0min\n",
      "[Parallel(n_jobs=-1)]: Done 27354 tasks      | elapsed: 162.7min\n",
      "[Parallel(n_jobs=-1)]: Done 29501 tasks      | elapsed: 176.9min\n",
      "[Parallel(n_jobs=-1)]: Done 31728 tasks      | elapsed: 191.8min\n",
      "[Parallel(n_jobs=-1)]: Done 32000 out of 32000 | elapsed: 193.6min finished\n"
     ]
    },
    {
     "name": "stdout",
     "output_type": "stream",
     "text": [
      "Best Parameters: {'colsample_bytree': 0.7, 'gamma': 0.1, 'learning_rate': 0.1, 'max_depth': 3, 'n_estimators': 200, 'subsample': 1}\n"
     ]
    }
   ],
   "source": [
    "# XGBoost Classifier Initialization\n",
    "xgb_classifier = xgb.XGBClassifier(objective='binary:logistic', random_state=42)\n",
    "\n",
    "# Hyperparameters Grid\n",
    "param_grid = {\n",
    "    'learning_rate': [0.01, 0.05, 0.1, 0.5],\n",
    "    'n_estimators': [50, 100, 150, 200],\n",
    "    'max_depth': [3, 4, 5, 6, 7],\n",
    "    'subsample': [0.7, 0.8, 0.9, 1],\n",
    "    'colsample_bytree': [0.7, 0.8, 0.9, 1],\n",
    "    'gamma': [0, 0.1, 0.2, 0.3, 0.4]\n",
    "}\n",
    "\n",
    "# Scoring dictionary\n",
    "scoring = {\n",
    "    'accuracy': make_scorer(accuracy_score),\n",
    "    'precision': make_scorer(precision_score),\n",
    "    'recall': make_scorer(recall_score),\n",
    "    'f1': make_scorer(f1_score),\n",
    "    'roc_auc': 'roc_auc'\n",
    "}\n",
    "\n",
    "# GridSearch with multiple scoring metrics\n",
    "grid_search = GridSearchCV(estimator=xgb_classifier, param_grid=param_grid, \n",
    "                           scoring=scoring, refit='accuracy',\n",
    "                           cv=5, n_jobs=-1, verbose=2)\n",
    "\n",
    "grid_search.fit(X_train_scaled_full, y_train)\n",
    "best_parameters = grid_search.best_params_\n",
    "print(f\"Best Parameters: {best_parameters}\")"
   ]
  },
  {
   "cell_type": "code",
   "execution_count": 94,
   "metadata": {},
   "outputs": [
    {
     "data": {
      "text/plain": [
       "XGBClassifier(base_score=0.5, booster='gbtree', colsample_bylevel=1,\n",
       "              colsample_bynode=1, colsample_bytree=0.7, gamma=0.1, gpu_id=-1,\n",
       "              importance_type='gain', interaction_constraints='',\n",
       "              learning_rate=0.1, max_delta_step=0, max_depth=3,\n",
       "              min_child_weight=1, missing=nan, monotone_constraints='()',\n",
       "              n_estimators=200, n_jobs=0, num_parallel_tree=1,\n",
       "              objective='binary:logistic', random_state=42, reg_alpha=0,\n",
       "              reg_lambda=1, scale_pos_weight=1, subsample=1,\n",
       "              tree_method='exact', validate_parameters=1, verbosity=None)"
      ]
     },
     "execution_count": 94,
     "metadata": {},
     "output_type": "execute_result"
    }
   ],
   "source": [
    "# Using the best parameters to train the model\n",
    "best_xgb_classifier = xgb.XGBClassifier(**best_parameters, objective='binary:logistic', random_state=42)\n",
    "best_xgb_classifier.fit(X_train_scaled_full, y_train)"
   ]
  },
  {
   "cell_type": "code",
   "execution_count": 95,
   "metadata": {},
   "outputs": [],
   "source": [
    "# Cross-validation\n",
    "best_xgb_accuracies = cross_val_score(best_xgb_classifier, X_train_scaled_full, y_train, cv=5, scoring='accuracy')\n",
    "best_xgb_precision = cross_val_score(best_xgb_classifier, X_train_scaled_full, y_train, cv=5, scoring='precision')\n",
    "best_xgb_recall = cross_val_score(best_xgb_classifier, X_train_scaled_full, y_train, cv=5, scoring='recall')\n",
    "best_xgb_f1 = cross_val_score(best_xgb_classifier, X_train_scaled_full, y_train, cv=5, scoring='f1')\n",
    "best_xgb_roc_auc = cross_val_score(best_xgb_classifier, X_train_scaled_full, y_train, cv=5, scoring='roc_auc')"
   ]
  },
  {
   "cell_type": "code",
   "execution_count": 96,
   "metadata": {},
   "outputs": [
    {
     "name": "stdout",
     "output_type": "stream",
     "text": [
      "Mean CV Accuracy with Tuned XGBoost: 0.9811125485122899\n",
      "\n",
      "Mean CV Precision with Tuned XGBoost: 0.9811025444763486\n",
      "\n",
      "Mean CV Recall with Tuned XGBoost: 0.988149926541728\n",
      "\n",
      "Mean CV F1-Score with Tuned XGBoost: 0.9846076807795512\n",
      "\n",
      "Mean CV ROC-AUC with Tuned XGBoost: 0.9894951309365974\n"
     ]
    }
   ],
   "source": [
    "# Printing metrics\n",
    "print(\"Mean CV Accuracy with Tuned XGBoost:\", best_xgb_accuracies.mean())\n",
    "print()\n",
    "print(\"Mean CV Precision with Tuned XGBoost:\", best_xgb_precision.mean())\n",
    "print()\n",
    "print(\"Mean CV Recall with Tuned XGBoost:\", best_xgb_recall.mean())\n",
    "print()\n",
    "print(\"Mean CV F1-Score with Tuned XGBoost:\", best_xgb_f1.mean())\n",
    "print()\n",
    "print(\"Mean CV ROC-AUC with Tuned XGBoost:\", best_xgb_roc_auc.mean())"
   ]
  },
  {
   "cell_type": "markdown",
   "metadata": {},
   "source": [
    "The tuned XGBoost model exhibits exceptional performance across all metrics, making it a potent tool for the dataset in consideration. The model not only predicts outcomes with high accuracy but also demonstrates a harmonious balance between precision and recall. Moreover, its ability to differentiate between classes is commendable. The hyperparameter tuning has evidently played a significant role in refining the model's predictions."
   ]
  },
  {
   "cell_type": "markdown",
   "metadata": {},
   "source": [
    "**Let's take a look at how the tuned XGBoost model performs in cross-validation compared to our stacked model.**"
   ]
  },
  {
   "cell_type": "code",
   "execution_count": 452,
   "metadata": {},
   "outputs": [
    {
     "data": {
      "image/png": "[encoded data removed]",
      "text/plain": [
       "<Figure size 936x432 with 1 Axes>"
      ]
     },
     "metadata": {
      "needs_background": "light"
     },
     "output_type": "display_data"
    }
   ],
   "source": [
    "# The metrics and their values for both models based on cross-validation\n",
    "metrics = ['Accuracy', 'Precision', 'Recall', 'F1-Score', 'ROC-AUC']\n",
    "stacked_values = [0.9816300129366106, 0.9811227191972105, 0.98899738416884647, 0.9850389728089324, 0.9917764820910268]\n",
    "xgboost_values = [0.981112548512289, 0.981102544476348, 0.988149926541728, 0.9846076807795512, 0.9894951309365974]\n",
    "\n",
    "# Setting the width of the bars and the positions\n",
    "bar_width = 0.3\n",
    "index = np.arange(len(metrics))\n",
    "\n",
    "# Creating the plot\n",
    "plt.figure(figsize=(13, 6))\n",
    "bar1 = plt.bar(index, stacked_values, bar_width, label='Stacked Model(Cross-Validation)', color='blue', alpha=1)\n",
    "bar2 = plt.bar(index + bar_width, xgboost_values, bar_width, label='Tuned XGBoost(Cross-Validation)', color='cyan', alpha=1)\n",
    "\n",
    "# Inserting numbers\n",
    "for idx, rect in enumerate(bar1):\n",
    "    height = rect.get_height()\n",
    "    plt.text(rect.get_x() + rect.get_width()/2., height, '{:.3f}'.format(stacked_values[idx]), ha='center', va='bottom')\n",
    "    \n",
    "for idx, rect in enumerate(bar2):\n",
    "    height = rect.get_height()\n",
    "    plt.text(rect.get_x() + rect.get_width()/2., height, '{:.3f}'.format(xgboost_values[idx]), ha='center', va='bottom')\n",
    "\n",
    "# Setting the labels, title, and legend\n",
    "plt.xlabel('Metric')\n",
    "plt.ylabel('Values')\n",
    "plt.title('Comparison of Stacked Model and Tuned XGBoost Based On Cross-Validation')\n",
    "plt.xticks(index + bar_width / 2, metrics) \n",
    "plt.legend(loc='upper center', bbox_to_anchor=(0.5, -0.2), ncol=2) \n",
    "plt.tight_layout()\n",
    "plt.show()"
   ]
  },
  {
   "cell_type": "markdown",
   "metadata": {},
   "source": [
    "Upon comparing the metrics of the Non-Tuned Stacked Model with the Tuned XGBoost in cross-validation, both models exhibit commendable performances. While the Stacked Model slightly edges out in most metrics, it's crucial to remember that this model didn't generalize well to the testing data. On the other hand, the Tuned XGBoost demonstrates slightly lower, yet competitive, cross-validation scores. Given the suboptimal performance of the Stacked Model on unseen data, the Tuned XGBoost model becomes our primary choice. Its reliable performance in cross-validation, combined with its expected better generalization to new data, make it a more trustworthy model for future predictions"
   ]
  },
  {
   "cell_type": "markdown",
   "metadata": {},
   "source": [
    "### Evaluating the Tuned  XGBoost  in the testing data"
   ]
  },
  {
   "cell_type": "code",
   "execution_count": 98,
   "metadata": {},
   "outputs": [
    {
     "name": "stdout",
     "output_type": "stream",
     "text": [
      "Test Accuracy with Tuned XGBoost: 0.983453981385729\n",
      "Test Precision with Tuned XGBoost: 0.9831932773109243\n",
      "Test Recall with Tuned XGBoost: 0.9898477157360406\n",
      "Test F1-Score with Tuned XGBoost: 0.9865092748735245\n",
      "Test ROC-AUC with Tuned XGBoost: 0.9876876552543471\n"
     ]
    }
   ],
   "source": [
    "# Predictions on the test set\n",
    "y_pred_best_xgb = best_xgb_classifier.predict(X_test_scaled_full)\n",
    "y_pred_proba_best_xgb = best_xgb_classifier.predict_proba(X_test_scaled_full)[:, 1]\n",
    "\n",
    "# Calculating and printing the metrics\n",
    "print(f\"Test Accuracy with Tuned XGBoost: {accuracy_score(y_test, y_pred_best_xgb)}\")\n",
    "print(f\"Test Precision with Tuned XGBoost: {precision_score(y_test, y_pred_best_xgb)}\")\n",
    "print(f\"Test Recall with Tuned XGBoost: {recall_score(y_test, y_pred_best_xgb)}\")\n",
    "print(f\"Test F1-Score with Tuned XGBoost: {f1_score(y_test, y_pred_best_xgb)}\")\n",
    "print(f\"Test ROC-AUC with Tuned XGBoost: {roc_auc_score(y_test, y_pred_proba_best_xgb)}\")"
   ]
  },
  {
   "cell_type": "markdown",
   "metadata": {},
   "source": [
    "**Let's now examine how the tuned XGBoost model fares on the testing data in comparison to our stacked model.**"
   ]
  },
  {
   "cell_type": "code",
   "execution_count": 453,
   "metadata": {},
   "outputs": [
    {
     "data": {
      "image/png": "[encoded data removed]",
      "text/plain": [
       "<Figure size 936x432 with 1 Axes>"
      ]
     },
     "metadata": {
      "needs_background": "light"
     },
     "output_type": "display_data"
    }
   ],
   "source": [
    "# The metrics and their values for both models based on testing data\n",
    "metrics = ['Accuracy', 'Precision', 'Recall', 'F1-Score', 'ROC-AUC']\n",
    "stacked_test_values = [0.8086866597724922, 0.7622739018087855, 0.9983079526226735, 0.8644688644688644, 0.9844565647838139]\n",
    "xgboost_test_values = [0.983453981385729, 0.9831932773109243, 0.9898477157360406, 0.9865092748735245, 0.9876876552543471]\n",
    "\n",
    "# Setting the width of the bars and the positions\n",
    "bar_width = 0.3\n",
    "index = np.arange(len(metrics))\n",
    "\n",
    "# Creating the plot\n",
    "plt.figure(figsize=(13, 6))\n",
    "bar1 = plt.bar(index, stacked_test_values, bar_width, label='Stacked Model (Test)', color='blue', alpha=1)\n",
    "bar2 = plt.bar(index + bar_width, xgboost_test_values, bar_width, label='Tuned XGBoost Mdel (Test)', color='lightgreen', alpha=1)\n",
    "\n",
    "# Inserting numbers\n",
    "for idx, rect in enumerate(bar1):\n",
    "    height = rect.get_height()\n",
    "    plt.text(rect.get_x() + rect.get_width()/2., height, '{:.3f}'.format(stacked_test_values[idx]), ha='center', va='bottom')\n",
    "    \n",
    "for idx, rect in enumerate(bar2):\n",
    "    height = rect.get_height()\n",
    "    plt.text(rect.get_x() + rect.get_width()/2., height, '{:.3f}'.format(xgboost_test_values[idx]), ha='center', va='bottom')\n",
    "\n",
    "# Setting the labels, title, and legend\n",
    "plt.xlabel('Metric')\n",
    "plt.ylabel('Values')\n",
    "plt.title('Comparison of Stacked Model and Tuned XGBoost Based On Test Data')\n",
    "plt.xticks(index + bar_width / 2, metrics)  \n",
    "plt.legend(loc='upper center', bbox_to_anchor=(0.5, -0.2), ncol=2) \n",
    "plt.tight_layout()\n",
    "plt.show()"
   ]
  },
  {
   "cell_type": "markdown",
   "metadata": {},
   "source": [
    "On unseen data, the Tuned XGBoost model excels in metrics like Accuracy, Precision, F1-Score, and ROC-AUC compared to the stacked model. While both models achieve high recall, the stacked model marginally outperforms XGBoost in this aspect. However, overall, XGBoost proves to be more consistent and reliable for predictions on this dataset."
   ]
  },
  {
   "cell_type": "markdown",
   "metadata": {},
   "source": [
    "##### Confusion Matrix"
   ]
  },
  {
   "cell_type": "code",
   "execution_count": 380,
   "metadata": {},
   "outputs": [
    {
     "data": {
      "image/png": "[encoded data removed]",
      "text/plain": [
       "<Figure size 576x432 with 2 Axes>"
      ]
     },
     "metadata": {
      "needs_background": "light"
     },
     "output_type": "display_data"
    }
   ],
   "source": [
    "# Computing confusion matrix\n",
    "cm = confusion_matrix(y_test, y_pred_best_xgb)\n",
    "\n",
    "# Plotting the confusion matrix\n",
    "plt.figure(figsize=(8,6))\n",
    "sns.heatmap(cm, annot=True, fmt=\"d\",cmap=\"Greens\", xticklabels=['Non-Fatal', 'Fatal'], yticklabels=['Non-Fatal', 'Fatal'])\n",
    "plt.ylabel('Actual')\n",
    "plt.xlabel('Predicted')\n",
    "plt.title('Confusion Matrix for Tuned XGBoost')\n",
    "plt.show()"
   ]
  },
  {
   "cell_type": "markdown",
   "metadata": {},
   "source": [
    "In the model's predictions, there were 585 true positives where events were correctly identified as Fatal, and 366 true negatives where events were accurately labeled as Non-Fatal. However, the model mistakenly classified 10 events as Fatal when they were actually Non-Fatal. Conversely, 6 events were incorrectly predicted as Non-Fatal when they were truly Fatal."
   ]
  },
  {
   "cell_type": "markdown",
   "metadata": {},
   "source": [
    "##### ROC Curve"
   ]
  },
  {
   "cell_type": "code",
   "execution_count": 138,
   "metadata": {},
   "outputs": [
    {
     "data": {
      "image/png": "[encoded data removed]",
      "text/plain": [
       "<Figure size 864x432 with 1 Axes>"
      ]
     },
     "metadata": {
      "needs_background": "light"
     },
     "output_type": "display_data"
    }
   ],
   "source": [
    "# AUC score\n",
    "fpr, tpr, thresholds = roc_curve(y_test, y_pred_best_xgb)\n",
    "roc_auc = auc(fpr, tpr)\n",
    "\n",
    "plt.figure(figsize=(12, 6))\n",
    "\n",
    "# ROC curve\n",
    "plt.plot(fpr, tpr, 'b-', label='ROC curve (AUC = %0.2f)' % roc_auc, linewidth=2)\n",
    "\n",
    "# No skill line\n",
    "plt.plot([0, 1], [0, 1],  color='red', linestyle='--', label='No Skill', linewidth=1)\n",
    "\n",
    "plt.xlim([-0.02, 1.02])  \n",
    "plt.ylim([-0.02, 1.02]) \n",
    "\n",
    "plt.xlabel('False Positive Rate', fontsize=14)\n",
    "plt.ylabel('True Positive Rate', fontsize=14)\n",
    "plt.title('Receiver Operating Characteristic (ROC)', fontsize=16)\n",
    "plt.grid(True, which='both', linestyle='-', linewidth=0.5)\n",
    "plt.legend(loc=\"lower right\", fontsize=12)\n",
    "plt.tight_layout()\n",
    "plt.show()"
   ]
  },
  {
   "cell_type": "markdown",
   "metadata": {},
   "source": [
    "The ROC curve, with an area of 0.98, illustrates the model's superior ability to differentiate between positive and negative classes. The ROC curve showcases an impressive balance throughout its range."
   ]
  },
  {
   "cell_type": "markdown",
   "metadata": {},
   "source": [
    "##### Precision-Recall Curve"
   ]
  },
  {
   "cell_type": "code",
   "execution_count": 140,
   "metadata": {},
   "outputs": [
    {
     "data": {
      "image/png": "[encoded data removed]",
      "text/plain": [
       "<Figure size 864x432 with 1 Axes>"
      ]
     },
     "metadata": {
      "needs_background": "light"
     },
     "output_type": "display_data"
    }
   ],
   "source": [
    "# AUC-PR score\n",
    "precision, recall, thresholds = precision_recall_curve(y_test, y_pred_best_xgb)\n",
    "area = auc(recall, precision)\n",
    "\n",
    "plt.figure(figsize=(12, 6))\n",
    "\n",
    "# Precision-recall curve\n",
    "plt.plot(recall, precision, 'b-', label='Precision-Recall curve (AUC-PR = %0.2f)' % area, linewidth=2)\n",
    "\n",
    "# No skill line\n",
    "plt.axhline(y=len(y_test[y_test==1]) / len(y_test), linestyle='--', color='gray', linewidth=1)\n",
    "\n",
    "plt.xlabel('Recall', fontsize=14)\n",
    "plt.ylabel('Precision', fontsize=14)\n",
    "plt.title('Precision-Recall Curve', fontsize=16)\n",
    "plt.grid(True, which='both', linestyle='--', linewidth=0.5)\n",
    "plt.legend(loc=\"lower left\", fontsize=12)\n",
    "plt.tight_layout()\n",
    "plt.show()"
   ]
  },
  {
   "cell_type": "markdown",
   "metadata": {},
   "source": [
    "The precision-recall curve commences with perfect precision at zero recall, then maintains a steady and high precision as recall increases. Remarkably, the model maintains a precision above 0.97 even as recall approaches 0.98. Such behavior indicates the model's robustness in preserving high precision even while capturing most of the positive cases. The AUC-PR value of 0.99 further reinforces the model's exemplary performance across different decision thresholds. "
   ]
  },
  {
   "cell_type": "markdown",
   "metadata": {},
   "source": [
    "### Features Importance"
   ]
  },
  {
   "cell_type": "code",
   "execution_count": 351,
   "metadata": {},
   "outputs": [
    {
     "name": "stdout",
     "output_type": "stream",
     "text": [
      "Top 10 most important features:\n",
      "000 0.18619922\n",
      "22 0.1301895\n",
      "kitchen 0.10906815\n",
      "digging 0.028833408\n",
      "hours 0.027929466\n",
      "Nature of Injury_Serious Fall/Strike 0.027101785\n",
      "Nature of Injury_Amputation, Crushing 0.025673034\n",
      "digger 0.024324743\n",
      "duct 0.023850678\n",
      "finishing 0.023317387\n",
      "Event type_Shock 0.023258625\n",
      "01 0.02232579\n",
      "elevating 0.012493685\n"
     ]
    }
   ],
   "source": [
    "# Extracting feature importances from our XGBoost model\n",
    "feature_importances = best_xgb_classifier.feature_importances_\n",
    "\n",
    "onehot_feature_names = preprocessor.named_transformers_['onehot'].get_feature_names(categorical_features).tolist()\n",
    "\n",
    "# For OrdinalEncoder, we simply use the binary_features list directly\n",
    "binary_feature_names = binary_features\n",
    "\n",
    "# Getting the feature names after preprocessing\n",
    "feature_names = (onehot_feature_names + \n",
    "                 binary_feature_names + \n",
    "                 ['Year', 'Month', 'Day'] + \n",
    "                 tfidf.get_feature_names())\n",
    "\n",
    "# Creating a mapping of feature names to their importance\n",
    "feature_map = dict(zip(feature_names, feature_importances))\n",
    "\n",
    "# Sorting the features by importance\n",
    "sorted_features = sorted(feature_map.items(), key=lambda x: x[1], reverse=True)\n",
    "\n",
    "# Printing top 10 most important features\n",
    "print(\"Top 10 most important features:\")\n",
    "for feature, importance in sorted_features[:13]:\n",
    "    print(feature, importance)    "
   ]
  },
  {
   "cell_type": "markdown",
   "metadata": {},
   "source": [
    "#### Refining the top features list by removing and replacing 22 and combining digging and digger."
   ]
  },
  {
   "cell_type": "code",
   "execution_count": 350,
   "metadata": {
    "scrolled": true
   },
   "outputs": [
    {
     "name": "stdout",
     "output_type": "stream",
     "text": [
      "Context for term: 22\n",
      "- At approximately 4:30 p.m. on September 22, 2015, an employee fell off the third level of a patio deck and landed 26 feet below to the ground. The employee sustained a broken neck and was killed.  EMPLOYEE FALLS FROM PATIO DECK AND IS KILLED DECKING,FALL,NECK\n",
      "- At approximately 8:00 a.m. on February 22, 2017, Employee #1 was operating a wire forming machine. He stopped the machine by pressing the emergency stop button in response to an unusual noise, indicative of a stuck piece of wire, he heard.  After removing the stuck piece and de-activating the emergency stop, Employee #1 proceeded to reload new metal wire into the machine.  He was using his left hand to toggle the go and stop button while using his gloved right hand to position and load the new wire into the machine.  The third jog function button of the machine was not in operation.  His right hand was caught between a set of running rollers and his right hand thumb and index finger were crushed and amputated.  Employee #1 was hospitalized.  EMPLOYEE'S FINGER IS AMPUTATED BETWEEN ROLLERS OF RUNNING MA CAUGHT IN,CRUSHING,WIRE DRAWING MACHINE,FINGER,LOCKOUT/TAGOUT,AMPUTATION,MACHINE GUARDING,GLOVE,CAUGHT BETWEEN,ROLLER--MACH/PART\n",
      "- At approximately 11:22 a.m. on March 2, 2016, an employee operating a boom truck was pulling augers horizontally; from the east toward the west from under a highway. The boom separated at its rotation point and struck the employee, pinning him between the truck and boom. The employee was killed. ng him between the truck and boom. The employee was killed. EMPLOYEE IS PINNED BETWEEN TRUCK AND BOOM AND IS KILLED PINNED,ROTATING PARTS,BOOM,CRUSHED,BOOM TRUCK,STRUCK BY\n",
      "- At approximately 10:45 a.m. on February 22, 2016, Employee #1 was driving a dump truck on a haul road when he ran off the road and was killed.  EMPLOYEE IS KILLED WHEN TRUCK RUNS OFF ROAD VEHICLE,DIVING,DUMP TRUCK,ROLL-OVER\n",
      "- At approximately 10:00 a.m. on March 27, 2017, an employee was climbing out of a scissor lift basket. The employee climbed out of the scissor lift before tying off to an anchor point. He fell 22-ft 10-in. through a 76-in. by 48-in. hole in the decking. The employee was hospitalized and treated for unspecified injuries.  EMPLOYEE FALLS FROM HEIGHT AND IS INJURED UNGUARDED FL OPENING,AERIAL LIFT,FALL,FALL PROTECTION\n",
      "\n",
      "\n",
      "Context for term: 000\n",
      "- At 7:33 a.m. on July 29, 2016, Employee #1 was rearranging steel coils around in Row 3 to gain access to the coil needed for the next order. The employee was working alone, indoors in the unit coil area at a steel processing facility. Employee #1 used an overhead crane to move an approximately 20,000 lbs. galvanized steel coil on top of two other coils in the same row. Employee #1 was performing an unknown task in front of the recently moved coil when the wooden cribbing underneath the bottom row steel coil failed from the additional weight of the recently moved coil. The failure of the wooden cribbing caused the end coil, which were not chained to prevent lateral movement, to kick out. The shift of the bottom coil caused the 20,000 lbs. galvanized steel coil on top to fall off, landing on the employee's left foot and striking the employee in the head. Employee #1 was killed from blunt force head trauma.  EMPLOYEE IS STRUCK AND KILLED BY STEEL COILS CAUGHT IN,MATERIAL HANDLING,STEEL,CRANE,FALLING OBJECT,HEAD,FOOT,STRUCK BY\n",
      "- At 3:45 p.m. on June3, 2016, Employees #1 and #2 were changing out a 10,000 PSI hydraulic cylinder which was leaking.  The ram malfunctioned when the new cylinder was put into place and Employees #1 and #2 filled the hydraulic pump system with fluid, believing the problem to be low fluid levels.  The ram continued to malfunction and both employees decided to replace the check valve fittings on the cylinder.  They retrieved the fittings from the leaking cylinder and, as Employee #1 removed the front check valve from the new cylinder, it flew off and struck him in the face.  Employee #1 was killed instantly.  EMPLOYEE IS KILLED WHEN STRUCK BY PRESSURIZED VALVE STRUCK BY,FACE,PRESSURE VESSEL,PRESSURE PIPING,CYLINDER\n",
      "- At 6:30 p.m. on January 13, 2017, an employee with a temporary worker status was rocking a torugh back and forth to movie it to another area.  The trough was filled with approx. 1,000 lbs. of water with a temperature between 150 degrees F. and 160 degrees F.  As the employee rocked the trough, the water moved in a wave toward the employee and splashed onto his right arm and into his right boot.  He recevied a severe burn to his right arm, and second degree burns to his right foot.  EMPLOYEE IS SPLASHED BY HOT WATER AND IS BURNED WATER,ACCIDENTAL DISCHARGE,HEAT\n",
      "- At 4:00 p.m. on March 13, 2017,  in preparation of a new pump arriving, a coworker started draining lines leading to a 30,000 gallon liquid anhydrous ammonia tank. After the tank drained, the coworker started loosening the bolts that held the pump down; however, heard gas escaping and immediately stopped work. The coworker left the area, as well as the bolts in a loosened state. Later, the coworker was assigned to go get a truck while they waited for the tank to finish draining. Unaware of the potential gas leak, the employee returned from lunch and noticed the loosened bolts. So, the employee continued where the coworker had left off in removing the pump. As the employee used an impact wrench to finish removing the bolts, the pump came loose and released anhydrous ammonia. The caustic liquid contacted the employee's hands, arms, and chin, where he sustained chemical burns. ed chemical burns. EMPLOYEES IS BURNED WHEN SPRAYED WITH LIQUID AMMONIA AMMONIA,CHEMICAL,BURN,PRESSURE VESSEL,LOCKOUT/TAGOUT\n",
      "- At approximately 11:00 a.m. on March 17, 2017, an employee, a diver was working in the Chabot Dam. He was using a 4,000 psi pressure washer to cut through hard packed sediments around the pipeline to allow him to remove the sediments by way of an eductor. A coworker, co-diver notified the employee that his dive was over and to secure the pressure washer and eductor. The employee called to co-diver in charge on the monitors to make both units cold. Co-diver radioed another diver on the barge to make both units cold. The eductor was secured first, and as the pressure washer was being turned off, the employee was heard yelling on the monitor. The employee pulled the trigger on the pressure washer to relieve the pressure in the water. The employee was unaware that the tip of the washer was pointed in the direction of his right foot, possible kick back of the washer. The employee was not holding the pressure wand with two hands. The employee received an injection injury to top of right foot for which he was hospitalized.  EMPLOYEE IS INJURED WHEN PRESSURE WASHER PIERCES FOOT ACCIDENTAL DISCHARGE,DIVING,FOOT,PRESSURE VESSEL,PRESSURE PIPING\n",
      "\n",
      "\n",
      "Context for term: hours\n",
      "- At approximately 2:45 p.m. on March 29, 2017, an employee was setting up bracket scaffolding at a new residential construction site. The employer was engaged in residential new home framing.  The employee was on the fifth floor when he lost his footing and fell to the surrounding ground.  The employee was not wearing fall protection when he was setting up the bracket scaffolding. The employee suffered from multiple fractures.  The employee was hospitalized for greater than 24 hours as a result of the accident.  EMPLOYEE IS INJURED IN FALL FROM FIFTH FLOOR WHILE SETTING U FALL,SCAFFOLD,FRACTURE,FALL PROTECTION\n",
      "- At 7:00 a.m. on March 31, 2016, an employee was checking in a 14-foot box truck (truck #DC4303M), AZ Lic#AD14930, with Ford E350 chassis. The truck was a moving truck rental that was dropped off at the facility after hours, and was parked in a loading dock area.  The employee was doing an initial inspection of the vehicle. The employee had started the engine, and for reasons unknown he stepped out of the vehicle. The truck was in reverse gear and started moving.  The driver's side door struck the employee, knocking him down.  The driver's side front wheel ran over the employee's body as the vehicle moved backward.  The employee sustained multiple crushing injuries and was killed. The vehicle stopped against a trailer about 30 yards away. yards away. EMPLOYEE IS KILLED WHEN RUN OVER BY A TRUCK STRUCK BY,CRUSHED,TRUCK,BACKING UP\n",
      "- At approximately 5:00 p.m. on September 19, 2016, Employee #1 was working in a warehouse and had been missing for several hours. Employee #1 was found trapped under several bales of fibers weighing approximately 500 pounds each. Employee #1 was killed due to suffocation.  EMPLOYEE IS TRAPPED UNDER BUNDLES AND KILLED DUE TO SUFFOCAT PINNED,ASPHYXIATED,SUFFOCATED,STRUCK BY,CRUSHED\n",
      "- At approximately 12:00 a.m. on February 18, 2016, Employee #1 and his supervisor began to unload a trailer. A retractable conveyor was rolled into position in the trailer, and the supervisor began lifting boxes from the trailer and setting them on the conveyor.  Employee #1 was standing next to the conveyor and had not yet lifted a box from the conveyor when he collapsed. Employee #1 was hospitalized where he passed away about two hours later two hours later EMPLOYEE DIES FROM HEART ATTACK HEART ATTACK,HEART\n",
      "- At 10:50 a.m. on February 6, 2017, an employee was working with another coworker in setting out traffic cones from the back of a 2011 Chevrolet Silverado 3500 HD truck to set up a wok zone.  A second coworker was driving the truck and made a three point turn and drove approximately 50 feet when an unsecured Vibroplate tamper machine slid off the tailgate and onto the roadway.  The employee attempted to grab the falling tamper machine, lost his balance, and fell from the truck bed onto the road.  The coworker stated that the employee landed on his feet after falling from the truck bed but his momentum caused him to stumble and fall backwards, striking his head on the pavement.  The employee sustained head trauma and he died several hours later.  EMPLOYEE FALLS FROM TRUCK BED AND DIES AT HOSPITAL PICKUP TRUCK,FALL,HEAD\n",
      "\n",
      "\n",
      "Context for term: 01\n",
      "- At 10:00 p.m. on December 3, 2016, an employee was visually inspecting and making adjustments to presses to ensure they were operating properly at floor level. No specifics detailing the accident or injuries were provided in the initial report.  On November 23, 2016, at 12:00 a.m., employee turned away from a printing press he had been inspecting and slipped on the floor. As he started to fall, he reached out to catch himself and put his right hand in between two operational rubber rollers on double stack press #2. He then activated the kill switch on double stack press #1 to stop the press. At 12:13 a.m., EMS received a call for help. At 12:22 a.m., EMS arrived on scene. Rocket Miner staff loosened the rollers and EMS departed at 12:37 a.m. with injured employee to transport to Memorial Hospital, Rock Springs, WY. At 01:00 a.m., injured employee was loaded on a Life Flight Helicopter for transport to U of UT Hospital, SLC, UT.Crushing hand injury with skin damage.Printing press rubber ink rollers. Crushing hand injury with skin damage.Printing press rubber ink rollers. EMPLOYEE IS INJURED AND REQUIRED HOSPITALIZATION PRESS\n",
      "- On December 6, 2016, an operations employee had already locked out the suction and discharge valves for pump AC-11.  It was discovered that the drain line valve for AC-01 was faulty and could not open to drain hot monomer.  A Safe Work Permit that called for a line break using an Unusual Job Permit (UJP) was issued on December 6, 2016 at 7:30 am.  The pump jacket was drained of its heat transfer medium (HTM) oil into a black 55-gallon drum, prior to maintenance mechanics splitting open pump AC-11 for the first line break at around 12 noon to drain hot PET monomer.  Once the maintenance mechanics had completed the first line break by separating the volute from the pump, hot PET monomer was expected to spill onto the floor around the pump, cool and solidify.  Around 12:10 pm, a pressure blast occurred that blew out the right side of the pump about 10-15 feet through the air. The employee was struck by the blast and smashed into the adjacent concrete block wall. The employee was killed from the blast.  EMPLOYEE KILLED IN PRESSURE BLAST PRESSURE RELEASE,LOCKOUT/TAGOUT,STRUCK BY\n",
      "- At approximately 2:20 pm, on September 01, 2016, an employee was preparing concentrated chemicals to clean the inside of a 1,000 gallon milk/bulk tank at a host farm site for the purpose of correcting milk quality issues related to elevated bacteria levels. He was filling the Surge brand 1,000 gallon milk/bulk tank with hot water at the host farm site. The employee died of asphyxiation due to complications from chlorine gas inhalation injury. The chlorine gas was produced when an acid based cleaner (IBA, FC-350) and chlorine based cleaner (IBA, FC-509\"P\") reacted with one another.  EMPLOYEE DIES OF ASPHYXIATION FROM CHLORINE GAS EXPOSURE ASPHYXIATED,CHLORINE,CLEANING FLUID,INHALATION,GAS,CLEANING,VAPOR\n",
      "- At 9:01 p.m. on January 14, 2016, an employee was traveling in a golf cart as a passenger.  The co-worker who was driving swerved to avoid a collision with a small animal crossing the road.  The employee was consequently ejected from the vehicle and landed on the paved road.  The employee's head hit the asphalt and the face was lacerated.  The employee died from the injuries.  EMPLOYEE IS EJECTED FROM GOLF CART AND KILLED FALL,GOLF CART,MOTOR VEHICLE,RIDING ON EQUIPMENT,HEAD\n",
      "- At 3:01 p.m. on April 14, 2016, an employee was working as a logger. He was choking logs at the bottom of the mountain. Two logs, both about 23 meters (75 feet) long, were unhooked near the landing chute at the same time. One of the logs was secured by a coworker, who was working as a processor. The other log, which was 22.6 meters (74 feet) long, rolled down the mountain. It struck the employee and he was killed.  EMPLOYEE IS STRUCK AND KILLED BY OUT OF CONTROL LOG. CRUSHING,LOG,LOGGER,LOGGING,STRUCK BY,SLOPE\n",
      "\n",
      "\n"
     ]
    }
   ],
   "source": [
    "# Investigating the context of texts like '22', 'hours' And '000'.\n",
    "terms_to_investigate = ['22', '000', 'hours', '01']\n",
    "\n",
    "for term in terms_to_investigate:\n",
    "    print(f\"Context for term: {term}\")\n",
    "    samples = df_clean[df_clean['combined_text'].str.contains(f\"\\\\b{term}\\\\b\", case=False, regex=True)]['combined_text'].sample(min(5, len(df))).tolist()\n",
    "    for sample in samples:\n",
    "        print(f\"- {sample}\")\n",
    "    print(\"\\n\")"
   ]
  },
  {
   "cell_type": "markdown",
   "metadata": {},
   "source": [
    "**22**: \"22\" primarily represents a day of the month and doesn't provide any significant insight into the cause or nature of the incidents. Including dates in feature importance may skew the interpretation and distract from more meaningful features.\n",
    "\n",
    "**01**: \"01\" appears in contexts either as a timestamp (representing an hour or day) or as part of an equipment identifier. When used as a timestamp, \"01\" serves merely as a specific time reference and does not provide meaningful insight into the cause or nature of incidents. \n",
    "\n",
    "**000**: \"000\" refers to numerical quantities, specifically values related to weights, measurements, or energy levels. Examples from the given incidents include \"12,000 volt live wire,\" indicating a high voltage power line; \"2,000 pounds\" referring to the weight of palm trees and bundled rebar; and \"10,000 pounds\" related to the guardrail's rating. \n",
    "\n",
    "**Hours**: The term \"hours\" in these incidents signifies durations of time that are critical in understanding the context of each event. In the first incident, the duration the worker had been working can give insights into potential fatigue or prolonged exposure to heat, which may have led to heat stroke. In the second incident, the term denotes the delay between the injury and its diagnosis. "
   ]
  },
  {
   "cell_type": "code",
   "execution_count": 335,
   "metadata": {},
   "outputs": [
    {
     "name": "stdout",
     "output_type": "stream",
     "text": [
      "Top 10 most important features:\n",
      "000 0.18619922\n",
      "kitchen 0.10906815\n",
      "digging 0.028833407908678055\n",
      "hours 0.027929466\n",
      "Nature of Injury_Serious Fall/Strike 0.027101785\n",
      "Nature of Injury_Amputation, Crushing 0.025673034\n",
      "digger 0.024324743077158928\n",
      "duct 0.023850678\n",
      "finishing 0.023317387\n",
      "Event type_Shock 0.023258625\n"
     ]
    }
   ],
   "source": [
    "feature_importances = best_xgb_classifier.feature_importances_\n",
    "\n",
    "onehot_feature_names = preprocessor.named_transformers_['onehot'].get_feature_names(categorical_features).tolist()\n",
    "\n",
    "binary_feature_names = binary_features\n",
    "\n",
    "feature_names = (onehot_feature_names + \n",
    "                 binary_feature_names + \n",
    "                 ['Year', 'Month', 'Day'] + \n",
    "                 tfidf.get_feature_names())\n",
    "\n",
    "feature_map = dict(zip(feature_names, feature_importances))\n",
    "\n",
    "feature_map.pop('Year', None)\n",
    "feature_map.pop('Month', None)\n",
    "feature_map.pop('Day', None)\n",
    "\n",
    "grouped_feature_map = {}\n",
    "for feature, importance in feature_map.items():\n",
    "    if 'digging' in feature:\n",
    "        grouped_feature_map['digging'] = grouped_feature_map.get('digging', 0) + importance\n",
    "    elif 'digger' in feature:\n",
    "        grouped_feature_map['digger'] = grouped_feature_map.get('digger', 0) + importance\n",
    "    else:\n",
    "        grouped_feature_map[feature] = importance\n",
    "\n",
    "sorted_features = sorted(grouped_feature_map.items(), key=lambda x: x[1], reverse=True)\n",
    "\n",
    "top_10_features = [feature for feature, _ in sorted_features if feature != '22'][:10]\n",
    "\n",
    "print(\"Top 10 most important features:\")\n",
    "for feature in top_10_features:\n",
    "    print(feature, grouped_feature_map.get(feature, 0))\n"
   ]
  },
  {
   "cell_type": "code",
   "execution_count": 454,
   "metadata": {},
   "outputs": [
    {
     "name": "stdout",
     "output_type": "stream",
     "text": [
      "Top 10 most important features:\n",
      "000 0.18619922\n",
      "kitchen 0.10906815\n",
      "digging_digger 0.05315815098583698\n",
      "hours 0.027929466\n",
      "Nature of Injury_Serious Fall/Strike 0.027101785\n",
      "Nature of Injury_Amputation, Crushing 0.025673034\n",
      "duct 0.023850678\n",
      "finishing 0.023317387\n",
      "Event type_Shock 0.023258625\n",
      "elevating 0.012493685\n"
     ]
    }
   ],
   "source": [
    "feature_importances = best_xgb_classifier.feature_importances_\n",
    "\n",
    "onehot_feature_names = preprocessor.named_transformers_['onehot'].get_feature_names(categorical_features).tolist()\n",
    "\n",
    "binary_feature_names = binary_features\n",
    "\n",
    "feature_names = (onehot_feature_names + \n",
    "                 binary_feature_names + \n",
    "                 ['Year', 'Month', 'Day'] + \n",
    "                 tfidf.get_feature_names())\n",
    "\n",
    "feature_map = dict(zip(feature_names, feature_importances))\n",
    "\n",
    "feature_map.pop('Year', None)\n",
    "feature_map.pop('Month', None)\n",
    "feature_map.pop('Day', None)\n",
    "\n",
    "grouped_feature_map = {}\n",
    "for feature, importance in feature_map.items():\n",
    "    if 'digging' in feature or 'digger' in feature:\n",
    "        grouped_feature_map['digging_digger'] = grouped_feature_map.get('digging_digger', 0) + importance\n",
    "    else:\n",
    "        grouped_feature_map[feature] = importance\n",
    "\n",
    "sorted_features = sorted(grouped_feature_map.items(), key=lambda x: x[1], reverse=True)\n",
    "top_10_features = [feature for feature, _ in sorted_features if feature not in ['01', '22']][:10]\n",
    "\n",
    "print(\"Top 10 most important features:\")\n",
    "for feature in top_10_features:\n",
    "    print(feature, grouped_feature_map.get(feature, 0))\n"
   ]
  },
  {
   "cell_type": "code",
   "execution_count": 349,
   "metadata": {},
   "outputs": [
    {
     "data": {
      "image/png": "[encoded data removed]",
      "text/plain": [
       "<Figure size 864x576 with 1 Axes>"
      ]
     },
     "metadata": {
      "needs_background": "light"
     },
     "output_type": "display_data"
    }
   ],
   "source": [
    "feature_names = [\"000\", \"kitchen\", \"digging_digger\", \"hours\", \"Nature of Injury_Serious Fall/Strike\",\n",
    "                 \"Nature of Injury_Amputation, Crushing\", \"duct\", \"finishing\", \"Event type_Shock\", \"elevating\"]\n",
    "importance_scores = [0.18619922, 0.10906815, 0.05315815098583698, 0.027929466, 0.027101785,\n",
    "                     0.025673034, 0.023850678, 0.023317387, 0.023258625, 0.012493685]\n",
    "\n",
    "# Plotting\n",
    "plt.figure(figsize=(12, 8))\n",
    "plt.barh(feature_names, importance_scores, color='blue')\n",
    "plt.xlabel('Feature Importance')\n",
    "plt.ylabel('Feature Names')\n",
    "plt.title('Top 10 Most Important Features')\n",
    "plt.gca().invert_yaxis()\n",
    "plt.show()\n"
   ]
  },
  {
   "cell_type": "code",
   "execution_count": null,
   "metadata": {},
   "outputs": [],
   "source": []
  }
 ],
 "metadata": {
  "kernelspec": {
   "display_name": "Python (learn-env)",
   "language": "python",
   "name": "learn-env"
  },
  "language_info": {
   "codemirror_mode": {
    "name": "ipython",
    "version": 3
   },
   "file_extension": ".py",
   "mimetype": "text/x-python",
   "name": "python",
   "nbconvert_exporter": "python",
   "pygments_lexer": "ipython3",
   "version": "3.8.5"
  }
 },
 "nbformat": 4,
 "nbformat_minor": 4
}
